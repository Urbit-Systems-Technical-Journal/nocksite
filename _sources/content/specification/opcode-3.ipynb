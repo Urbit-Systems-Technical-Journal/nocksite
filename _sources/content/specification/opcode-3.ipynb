{
 "cells": [
  {
   "cell_type": "markdown",
   "id": "c0f0a25d",
   "metadata": {},
   "source": []
  }
 ],
 "metadata": {
  "language_info": {
   "name": "python"
  }
 },
 "nbformat": 4,
 "nbformat_minor": 5
}
