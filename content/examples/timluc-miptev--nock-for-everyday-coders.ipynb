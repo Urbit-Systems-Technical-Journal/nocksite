{
 "cells": [
  {
   "cell_type": "markdown",
   "id": "afd076f1",
   "metadata": {},
   "source": [
    "# Nock for Everyday Coders\n",
    "\n",
    "## Tim Galebach ~timluc-miptev / [Hyperware](https://hyperware.ai/)\n",
    "\n",
    "## Abstract\n",
    "\n",
    "> Nock is not super complex, and most programmers\n",
    "can learn the basics of it rapidly. The mental model\n",
    "gained by learning Nock turns out to be very\n",
    "useful in learning Hoon and understanding Urbit.\n",
    "While the Urbit docs generally suggest to not\n",
    "worry about Nock, Nock is very simple and small.\n",
    "Most programmers will feel more comfortable in\n",
    "Hoon having learned Nock’s basics. The goal of this\n",
    "tutorial is to explain Nock clearly in terms most\n",
    "programmers will relate to, to impart a feeling of\n",
    "conﬁdence with very basic Nock, and to give a\n",
    "knowledge of Nock’s idioms and big wins so that\n",
    "they carry over to learning Hoon.\n",
    ">\n",
    "> This tutorial was originally published online\n",
    "by ~timluc-miptev in early 2020 and remains\n",
    ">            an excellent exposition of Nock’s aﬀordances.\n",
    "\n",
    "* [Publication:  ~timluc-miptev (2025), “Nock for Everyday Coders”, _Urbit Systems Technical Journal_ II:1, pp. 1–45](https://urbitsystems.tech/article/v02-i01/nock-for-everyday-coders)\n",
    "\n",
    "## Contents\n",
    "\n",
    "```\n",
    "1 Getting Started\n",
    " 1.1 Phases of Nock\n",
    " 1.2 What Is a Nock Interpreter?\n",
    " 1.3 How to Run Nock Code\n",
    " 1.4 Subject, Formula?\n",
    " 1.5 Evaluating Our First Nock\n",
    "            Code\n",
    " 2 Fundamental Opcodes\n",
    " 2.1 Nock’s Simplest Functions, `0` and `1`\n",
    " 2.2 Binary Tree Addressing\n",
    " 2.3 `0`, the “Memory\n",
    "            Slot” Function\n",
    " 2.4 `1`, the\n",
    "            “Quoter” Function\n",
    " 2.5 `4`, the\n",
    "            Incrementing Function\n",
    " 2.6 The Cell-Maker (aka the Distribution Rule)\n",
    " 2.7 `3`, the Cell\n",
    "            Detector, and `5`, the\n",
    "            Equality Tester\n",
    " 2.8 `2`, the\n",
    "            “Subject-Altering” Function\n",
    " 2.9 Summary of Fundamental\n",
    "            Opcodes\n",
    " 3 Composite Opcodes\n",
    " 3.1 An Aside About the `1` (Quoter\n",
    "            Function)\n",
    " 3.2 `6`, “If/Else”\n",
    "            Conditional Branch\n",
    " 3.3 `7`, the\n",
    "            “Composition” Opcode\n",
    " 3.4 `8`, the\n",
    "            “Variable Push” Opcode\n",
    " 3.5 `9`, Run a\n",
    "            Stored Procedure Arm in a Core\n",
    " 3.6 `10`, Replace a\n",
    "            Memory Slot\n",
    " 3.7 Real Nock Code\n",
    " 3.8 Summary\n",
    " 4 Interlude\n",
    " 4.1 Order of Operations\n",
    " 4.2 `11`, Hints and\n",
    "            Side Eﬀects for the Interpreter\n",
    " 4.3 Nock in Hoon\n",
    " 5 The Core as Design Pattern\n",
    " 5.1 Building a Core Manually\n",
    " 6 Conclusion\n",
    "```"
   ]
  },
  {
   "cell_type": "markdown",
   "id": "02898bb6-5e04-402c-a767-b6c9a64765ac",
   "metadata": {},
   "source": [
    "## 1  Getting Started\n",
    "\n",
    "When people ﬁrst look at Nock, they see the deﬁnition,\n",
    "      which is fairly intimidating. I’m talking about lines like\n",
    "      this:\n",
    "\n",
    "```\n",
    "/[(a + a) b]        /[2 /[a b]]\n",
    "```\n",
    "\n",
    "The problem is, the programmer may already know that Nock\n",
    "      code looks more like the below – just lists of numbers, with no\n",
    "      symbols:\n",
    "\n",
    "```\n",
    "[6 \n",
    " [5 [0 6] [1 0]] \n",
    " [0 7] \n",
    " [9 4 [[0 2] [2 [0 6] [0 5]] [4 0 7]]] \n",
    "5]\n",
    "```\n",
    "\n",
    "What gives? Which one is the “real” Nock?"
   ]
  },
  {
   "cell_type": "markdown",
   "id": "7ed6554e",
   "metadata": {},
   "source": [
    "### 1.1  Phases of Nock\n",
    "\n",
    "We are looking at two diﬀerent things in the examples\n",
    "      above:\n",
    "\n",
    "Pseudocode for how to interpret Nock.\n",
    "\n",
    "Code to be interpreted (written as lists of numbers).\n",
    "\n",
    "The symbols and spec are pseudocode, not real Nock code.\n",
    "      They could just as easily be written in English, and they will\n",
    "      never be written down as actual Nock code and given to an\n",
    "      interpreter. They represent what an interpreter should do to\n",
    "      turn Nock code into interpreter instructions.\n",
    "\n",
    "The lists of numbers are the actual Nock code. This is\n",
    "      what you feed to an interpreter to get some result.\n",
    "\n",
    "### 1.2  What Is a Nock Interpreter?\n",
    "\n",
    "An interpreter can be a computer program, or it can be a\n",
    "      human manually expanding Nock code into results. In both\n",
    "      cases, the program and human have to know the Nock\n",
    "      pseudocode in order to do the right thing with incoming Nock\n",
    "      code.\n",
    "\n",
    "So a Nock interpreter is any entity that takes Nock\n",
    "      code as input, and gives a noun as output. A noun can\n",
    "      be:\n",
    "\n",
    "```\n",
    ":: a number \n",
    "782 \n",
    ":: a cell (pair with two elements) \n",
    "[782 9872] \n",
    "5:: each element can itself be a pair \n",
    "[782 [9872 89728]] \n",
    ":: the above can be written as \n",
    "[782 9872 89728]\n",
    "```\n",
    "\n",
    "> In this interactive tutorial, we are evaluating code, not raw data like the above, so we won't take these as input yet."
   ]
  },
  {
   "cell_type": "markdown",
   "id": "e1c075ad",
   "metadata": {},
   "source": [
    "### 1.3  How to Run Nock Code\n",
    "\n",
    "We will be expanding Nock pseudocode manually in the\n",
    "      examples that follow, in eﬀect acting as our own interpreter.\n",
    "\n",
    "If we want to check that we’re getting the right results\n",
    "      from our manual interpretation, we need to run a Nock\n",
    "      interpreter, such as the Urbit Dojo.\n",
    "\n",
    "Start up a Dojo session on a fake ship.1\n",
    "\n",
    "At the prompt, we can execute Nock using .* dottar,\n",
    "            e.g., `.*(NOCK_SUBJECT, NOCK_FORMULA)`.\n",
    "\n",
    "### 1.4  Subject, Formula?\n",
    "\n",
    "Let’s keep this simple:\n",
    "\n",
    "subject = an argument to a function\n",
    "\n",
    "formula = the function\n",
    "\n",
    "That’s it. We’ll see below how this works, going really\n",
    "      slowly with examples.\n",
    "\n",
    "1.5  Evaluating Our First Nock Code\n",
    "\n",
    "OK, so the interpreter takes two arguments, a “subject\"\n",
    "      and a “formula\". Both are nouns (a number or a cell).\n",
    "      Let’s run some insanely simple Nock code in the\n",
    "      Dojo:\n",
    "\n",
    "We can run this directly using `.*` dottar:"
   ]
  },
  {
   "cell_type": "code",
   "execution_count": null,
   "id": "1ece69da",
   "metadata": {},
   "outputs": [],
   "source": [
    ".*(42 [0 1])"
   ]
  },
  {
   "cell_type": "markdown",
   "id": "019589a7-539a-4326-aaeb-3ab95b541c1a",
   "metadata": {},
   "source": [
    "Or we can run it in two steps (with the subject being “sticky” between calls):"
   ]
  },
  {
   "cell_type": "code",
   "execution_count": null,
   "id": "022e05e3-61fd-402b-84a4-e22607c27491",
   "metadata": {},
   "outputs": [],
   "source": [
    ":subject 42"
   ]
  },
  {
   "cell_type": "code",
   "execution_count": null,
   "id": "a815f281-d856-497c-9469-a64c7fe817f8",
   "metadata": {},
   "outputs": [],
   "source": [
    ":formula [0 1]"
   ]
  },
  {
   "cell_type": "markdown",
   "id": "bd89c76e-6443-474e-a96d-9e6913dab195",
   "metadata": {},
   "source": [
    "We don't even need to specify `:formula`:"
   ]
  },
  {
   "cell_type": "code",
   "execution_count": null,
   "id": "5f45db55-10db-4ef8-9f86-ac9acf60ddea",
   "metadata": {},
   "outputs": [],
   "source": [
    "[0 1]"
   ]
  },
  {
   "cell_type": "markdown",
   "id": "95bc88f8",
   "metadata": {},
   "source": [
    "In the above, `42` is our subject.\n",
    "      `[0 1]`\n",
    "      is our formula.\n",
    "\n",
    "Formulas are always cells, and the ﬁrst element of the cell\n",
    "      is a number that you can think of as the name of the\n",
    "function.\n",
    "\n",
    "In this case, our function name is `0`, which is the memory\n",
    "      slot function. It is always followed by 1 number, in this case `1`,\n",
    "      which is the number of the memory slot to fetch in the\n",
    "      subject.\n",
    "\n",
    "Whenever we look at Nock code, we want to ask:\n",
    "\n",
    "What is the subject (function argument)? In this\n",
    "            case, it’s `42`.\n",
    "\n",
    "What is the formula (function)? In this case, it’s\n",
    "            `[0 1]`.\n",
    "\n",
    "What value does that formula (function) produce\n",
    "            when called on this subject (argument)? In this case,\n",
    "            the return value is `42`.\n",
    "\n",
    "Why is the return value `42`? How\n",
    "      does this formula\n",
    "      work?\n",
    "\n",
    "## 2  Fundamental Opcodes\n",
    "\n",
    "### 2.1  Nock’s Simplest Functions, `0` and `1`\n",
    "\n",
    "The two most basic Nock functions are `0` address and `1`\n",
    "      constant. The goal here is to get strong intuitions of what they\n",
    "      do, how they handle edge cases, and how this relates to the\n",
    "      Nock spec/pseudocode.\n",
    "\n",
    "### 2.2  Binary Tree Addressing\n",
    "\n",
    "Before getting started on Nock proper, we should\n",
    "      understand how Nock and Hoon handle addresses in binary\n",
    "      trees. If you already understand why memory slot 5 of\n",
    "      `[['apple' %pie] [0b1101 0xdad]]`\n",
    "      is `%pie`, you are\n",
    "      good to go and can skip ahead to Section 2.3.\n",
    "\n",
    "Every noun in Nock can be thought of as a tree, which\n",
    "      means we can give an exact number to access any position in\n",
    "      the tree. This means that, no matter how big our subject\n",
    "      (argument) is, we can yank a value out of any part of\n",
    "      it.\n",
    "\n",
    "The Nock speciﬁcation deﬁnes noun tree addressing:\n",
    "\n",
    "```\n",
    "/[1 a]              a \n",
    "/[2 a b]            a \n",
    "/[3 a b]            b \n",
    "/[(a + a) b]        /[2 /[a b]] \n",
    "5/[(a + a + 1) b]    /[3 /[a b]]\n",
    "```"
   ]
  },
  {
   "cell_type": "markdown",
   "id": "f8f28ce5",
   "metadata": {},
   "source": [
    "This permits the address to be deﬁned within a particular\n",
    "      subtree as well as within the overall tree (Figure 1).\n",
    "\n",
    "![](https://urbitsystems.tech/ustj/v02-i01/img/mss0x.png)\n",
    "\n",
    "**Figure 1**: A binary tree with labeled\n",
    "            node addresses to\n",
    "            several layers.\n",
    "\n",
    "That is, how do you say which slot number you want from\n",
    "      a given tree? We say that:\n",
    "\n",
    "The tree root is address $1$.\n",
    "\n",
    "The head of every node $(n)$ is $(2n)$.\n",
    "\n",
    "The tail of every node $(n)$ is $(2n+1)$.\n",
    "\n",
    "Let’s take an example tree to illustrate. In Nock cell form,\n",
    "      the tree is:\n",
    "\n",
    "```\n",
    "[[4 5] [6 14 15]]\n",
    "```"
   ]
  },
  {
   "cell_type": "markdown",
   "id": "733f11fb",
   "metadata": {},
   "source": [
    "Diagrammatically, the tree looks like Figure 2.\n",
    "\n",
    "![](https://urbitsystems.tech/ustj/v02-i01/img/mss1x.png)\n",
    "\n",
    "**Figure 2**: A binary tree with some\n",
    "            labeled node addresses.\n",
    "\n",
    "1 is the address of the whole tree,\n",
    "            `[[4 5] [6 14 15]]`.\n",
    "\n",
    "2 is the address of the left branch, `[4 5]`.\n",
    "\n",
    "3 is the address of the right branch, `[6 14 15]`.\n",
    "\n",
    "15 is the value `15`.\n",
    "\n",
    "Let’s play around now in the Dojo Nock interpreter so that\n",
    "      we can conﬁrm this. In each example, our subject (argument)\n",
    "      will be the tree `[[4 5] [6 14 15]]`."
   ]
  },
  {
   "cell_type": "code",
   "execution_count": null,
   "id": "02b3bd33-1ef1-41ff-a279-12d9a1d72115",
   "metadata": {},
   "outputs": [],
   "source": [
    ":subject [[4 5] [6 14 15]]"
   ]
  },
  {
   "cell_type": "markdown",
   "id": "f54cdedd-dcf4-4558-b219-7c87e907b564",
   "metadata": {},
   "source": [
    "`[0 2]`: get the left branch "
   ]
  },
  {
   "cell_type": "code",
   "execution_count": null,
   "id": "0fa8d601-7ab7-4f17-adeb-677446bbb439",
   "metadata": {},
   "outputs": [],
   "source": [
    "[0 2]"
   ]
  },
  {
   "cell_type": "markdown",
   "id": "a37f0dc9-c03f-4085-9c71-a8642bae3fd3",
   "metadata": {},
   "source": [
    "`[0 7]`: get the subtree in slot 7"
   ]
  },
  {
   "cell_type": "code",
   "execution_count": null,
   "id": "6b4cb9ab",
   "metadata": {},
   "outputs": [],
   "source": [
    "[0 7]"
   ]
  },
  {
   "cell_type": "markdown",
   "id": "214598bd",
   "metadata": {},
   "source": [
    "### 2.3  `0`, the “Memory Slot”\n",
    "      Function\n",
    "\n",
    "The pseudocode for the `0`\n",
    "      opcode\n",
    "      is as follows:\n",
    "\n",
    "```\n",
    "*[a 0 b]    /[b a]\n",
    "```"
   ]
  },
  {
   "cell_type": "markdown",
   "id": "8be575f7",
   "metadata": {},
   "source": [
    "`/[b a]`\n",
    "      is pseudocode. In English, it means “`a` is a\n",
    "      binary\n",
    "      tree. Get the memory slot numbered `b`.”\n",
    "\n",
    "So if `a` were the tree `[9 10]`,\n",
    "      and `b` were `1`, we’d get the\n",
    "      memory slot `1` in the tree `[9 10]`,\n",
    "      which is just the tree\n",
    "      itself.\n",
    "\n",
    "Written in pseudocode, that’s `/[1 [9 10]]`.\n",
    "      We can\n",
    "      also do `/[2 [9 10]]`,\n",
    "      which grabs memory slot `2`, aka\n",
    "      `9`.\n",
    "\n",
    "Let’s look at some examples. I’ve put them ﬁrst in Dojo\n",
    "      form so that you can see how they run in that interpreter, and\n",
    "      then I show the “human interpreter\" in pseudocode below\n",
    "      that.\n",
    "\n",
    "#### 2.3.1  Example: Retrieve the Subject"
   ]
  },
  {
   "cell_type": "code",
   "execution_count": null,
   "id": "89a0c7f5-9e42-42f1-8b5c-e1ff4e35021f",
   "metadata": {},
   "outputs": [],
   "source": [
    ":subject [50 51]"
   ]
  },
  {
   "cell_type": "markdown",
   "id": "24482738-c987-432c-9c75-b733aad83d67",
   "metadata": {},
   "source": [
    "Get memory slot 1."
   ]
  },
  {
   "cell_type": "code",
   "execution_count": null,
   "id": "91c322a6-1226-4b67-8b92-2c1149f0ad96",
   "metadata": {},
   "outputs": [],
   "source": [
    "[0 1]"
   ]
  },
  {
   "cell_type": "markdown",
   "id": "606abda0-9e9b-4200-8a76-8e3a07cb469e",
   "metadata": {},
   "source": [
    "PSEUDOCODE:\n",
    "\n",
    "```\n",
    "*[[50 51] [0 1]] \n",
    ":: *[a 0 b] -> a = [50 51], b = 1 \n",
    "/[1 [50 51]] \n",
    "[50 51]\n",
    "```"
   ]
  },
  {
   "cell_type": "markdown",
   "id": "18605d9a",
   "metadata": {},
   "source": [
    "#### 2.3.2  Example: Retrieve the Head of the Subject"
   ]
  },
  {
   "cell_type": "code",
   "execution_count": null,
   "id": "418bd8f5-5b29-4812-9cde-94ce10f546ec",
   "metadata": {},
   "outputs": [],
   "source": [
    ":subject [50 51]"
   ]
  },
  {
   "cell_type": "code",
   "execution_count": 11,
   "id": "130fb098-b4f9-4647-8cd4-0ffcdbd2e32b",
   "metadata": {},
   "outputs": [
    {
     "name": "stdout",
     "output_type": "stream",
     "text": [
      "50\n"
     ]
    }
   ],
   "source": [
    "[0 2]"
   ]
  },
  {
   "cell_type": "markdown",
   "id": "1fb0305e-0acd-42f0-83ae-6c5558f5f17e",
   "metadata": {},
   "source": [
    "PSEUDOCODE:\n",
    "\n",
    "```\n",
    "*[[50 51] [0 2]] \n",
    "5:: *[a 0 b] -> a = [50 51], b = 2 \n",
    "/[2 [50 51]] \n",
    "50\n",
    "```"
   ]
  },
  {
   "cell_type": "markdown",
   "id": "10406e3d",
   "metadata": {},
   "source": [
    "#### 2.3.3  Example: A Crash"
   ]
  },
  {
   "cell_type": "code",
   "execution_count": 12,
   "id": "d273e6cf-7e95-40c2-92a9-9b3c58240d78",
   "metadata": {},
   "outputs": [
    {
     "name": "stdout",
     "output_type": "stream",
     "text": [
      "Subject set to: [50 51]\n"
     ]
    }
   ],
   "source": [
    ":subject [50 51]"
   ]
  },
  {
   "cell_type": "code",
   "execution_count": 13,
   "id": "0e032a5d-9a09-4c3d-badf-87ee4e8542f5",
   "metadata": {},
   "outputs": [
    {
     "name": "stderr",
     "output_type": "stream",
     "text": [
      "Error: fas: first argument must be atom\n",
      "Traceback (most recent call last):\n",
      "  File \"/Users/neal/zorp/nock/packages/nock_kernel/nock_kernel/kernel.py\", line 189, in do_execute\n",
      "    result = nock(self.subject, formula)\n",
      "             ^^^^^^^^^^^^^^^^^^^^^^^^^^^\n",
      "  File \"/opt/anaconda3/lib/python3.12/site-packages/pinochle/nock.py\", line 152, in nock\n",
      "    return fas(b, a)\n",
      "           ^^^^^^^^^\n",
      "  File \"/opt/anaconda3/lib/python3.12/site-packages/pinochle/nock.py\", line 89, in fas\n",
      "    raise Exception(\"fas: first argument must be atom\")\n",
      "Exception: fas: first argument must be atom\n"
     ]
    }
   ],
   "source": [
    "[0 [0 1]]"
   ]
  },
  {
   "cell_type": "markdown",
   "id": "6d51e770-5641-4955-b970-4830824dc29e",
   "metadata": {},
   "source": [
    "PSEUDOCODE:\n",
    "\n",
    "```\n",
    "*[[50 51] [0 [0 1]]] \n",
    "5/[[0 1] [50 51]] \n",
    ":: can't evaluate this--a memory slot must be a number like 2, not a cell like [0 1] \n",
    "CRASH\n",
    "```"
   ]
  },
  {
   "cell_type": "markdown",
   "id": "266a8263",
   "metadata": {},
   "source": [
    "#### 2.3.4  Summary of `0`\n",
    "\n",
    "`0` is everywhere in\n",
    "      Nock, because “get something from a\n",
    "      memory slot” really means “store stuﬀ in a place and get it\n",
    "      whenever I want,” which is another name for creating\n",
    "      variables. These memory slot numbers take the place of\n",
    "      variable names.\n",
    "\n",
    "If you’re familiar with assembly or C, they’re conceptually\n",
    "      similar to memory pointers or registers in how Nock uses\n",
    "      them. Keep in mind though, Nock is functional/immutable, so\n",
    "      it doesn’t update memory locations: it creates copies of data\n",
    "      structures with altered values.\n",
    "\n",
    "We’ve also seen that the memory slot function can’t take\n",
    "      just anything as the memory slot to fetch: it must receive an\n",
    "      atom (number)."
   ]
  },
  {
   "cell_type": "markdown",
   "id": "2df977b8-d5a4-4a76-acb1-ddcd1ac8e8f6",
   "metadata": {},
   "source": [
    "### 2.4  `1`, the “Quoter” Function\n",
    "\n",
    "This is another really simple function. You can think of it as a\n",
    "      “quoter”: it just returns any value passed to it exactly as it is.\n",
    "      It ignores the subject, and just quotes the value after it. Let’s\n",
    "      look at a couple examples."
   ]
  },
  {
   "cell_type": "code",
   "execution_count": null,
   "id": "371047ef-8f7f-4367-9d95-aeb27e6beb4a",
   "metadata": {},
   "outputs": [],
   "source": [
    ".*([20 30] [1 67]) "
   ]
  },
  {
   "cell_type": "code",
   "execution_count": null,
   "id": "1724fae6",
   "metadata": {},
   "outputs": [],
   "source": [
    ".*([20 30] [1 [2 [587]]])"
   ]
  },
  {
   "cell_type": "markdown",
   "id": "7cbb2a3b",
   "metadata": {},
   "source": [
    "It doesn’t matter how much information is after the `1`: `1` is\n",
    "      a dumb function that just returns it all.\n",
    "\n",
    "The pseudocode for `1` is:\n",
    "\n",
    "```\n",
    "*[a 1 b]    b\n",
    "```"
   ]
  },
  {
   "cell_type": "markdown",
   "id": "e13fbdc9",
   "metadata": {},
   "source": [
    "In English, this means: “ignore the subject `a`, and just\n",
    "      return everything after the `1` exactly as it is.\n",
    "\n",
    "Let’s look at our ﬁrst example, `.*([20 30] [1 67])`.\n",
    "      The subject `a` is `[20 30]`,\n",
    "      so we ignore that. What’s after the\n",
    "      `1`? `67`, so we return that.\n",
    "\n",
    "In the second example, “everything after the `1`” is\n",
    "      longer, but the same rule applies: the Nock interpreter just\n",
    "      returns it exactly as it is, after stripping out unnecessary\n",
    "      brackets.\n",
    "\n",
    "#### 2.4.1  Summary of `1`\n",
    "\n",
    "`1` is a simple\n",
    "      function that just returns whatever is after it\n",
    "      (“quoter” or “constant”). It’s useful for quoting values that\n",
    "      you want to use later in your Nock code.\n",
    "\n",
    "## 2.5  `4`, the Incrementing Function\n",
    "\n",
    "`0` and `1` are simple\n",
    "      functions that don’t have any nested\n",
    "      behavior. Now we’re going to move to a function that\n",
    "      does have nested children, opcode `4`. In these\n",
    "      examples,\n",
    "      pay attention to how `4` operates on its\n",
    "      arguments; we’ll\n",
    "      look at pseudocode and break down the examples in a\n",
    "      moment."
   ]
  },
  {
   "cell_type": "code",
   "execution_count": null,
   "id": "979732d2-ac03-4688-be1e-150bdae50fa7",
   "metadata": {},
   "outputs": [],
   "source": [
    ":subject 50"
   ]
  },
  {
   "cell_type": "code",
   "execution_count": null,
   "id": "aaeab361-c983-4313-9698-2931839375b9",
   "metadata": {},
   "outputs": [],
   "source": [
    "[4 0 1]"
   ]
  },
  {
   "cell_type": "code",
   "execution_count": null,
   "id": "48d4c991-f7f8-41e9-85e1-a1cfcbdf30b2",
   "metadata": {},
   "outputs": [],
   "source": [
    "[4 4 0 1]"
   ]
  },
  {
   "cell_type": "code",
   "execution_count": null,
   "id": "d48eb502-3fc1-49d4-807c-59c0190e9c3b",
   "metadata": {},
   "outputs": [],
   "source": [
    ":subject [100 150]"
   ]
  },
  {
   "cell_type": "code",
   "execution_count": null,
   "id": "66255e4c-3849-4f56-adeb-690f44884dc9",
   "metadata": {},
   "outputs": [],
   "source": [
    "[4 4 0 3]"
   ]
  },
  {
   "cell_type": "code",
   "execution_count": null,
   "id": "114e7b39-809b-49e9-8f4a-ab8ea849ac1a",
   "metadata": {},
   "outputs": [],
   "source": [
    ":subject 50"
   ]
  },
  {
   "cell_type": "code",
   "execution_count": null,
   "id": "02f5009f-c719-4145-bfd7-867388a3235f",
   "metadata": {},
   "outputs": [],
   "source": [
    "[4 1 98]"
   ]
  },
  {
   "cell_type": "markdown",
   "id": "c574c8fa-f24e-4254-a3d3-acfccfc4db4a",
   "metadata": {},
   "source": [
    "Expect failure here, because you cannot increment a cell:"
   ]
  },
  {
   "cell_type": "code",
   "execution_count": null,
   "id": "63ba4f4e-4d0d-4ba5-af49-a856d0ae648b",
   "metadata": {},
   "outputs": [],
   "source": [
    ":subject 50"
   ]
  },
  {
   "cell_type": "code",
   "execution_count": null,
   "id": "ab30a43b",
   "metadata": {},
   "outputs": [],
   "source": [
    "[4 1 [0 2]]"
   ]
  },
  {
   "cell_type": "markdown",
   "id": "5b9b27eb",
   "metadata": {},
   "source": [
    "Here’s `4`’s pseudocode,\n",
    "      juxtaposed with that of `0` and\n",
    "      `1`:\n",
    "\n",
    "```\n",
    "*[a 4 b]  +*[a b] \n",
    "*[a 0 b]  /[b a] \n",
    "*[a 1 b]  b\n",
    "```"
   ]
  },
  {
   "cell_type": "markdown",
   "id": "cc6d4e06",
   "metadata": {},
   "source": [
    "In English, this says “when we have subject `a`,\n",
    "      function `4`, and\n",
    "      Nock code `b`, ﬁrst evaluate `[a b]`\n",
    "      as\n",
    "      `[subject formula]`,\n",
    "      and then add 1 to the result.”\n",
    "\n",
    "If we contrast with `0` and `1`, we see that the\n",
    "      right side has\n",
    "      a `*` symbol. This symbol means “evaluate the\n",
    "      expression\n",
    "      again in the Nock interpreter.” `0` and `1` did not have this\n",
    "      symbol, and that’s why they couldn’t evaluate nested Nock\n",
    "      expressions.\n",
    "\n",
    "#### 2.5.1  Example: Walking Through Increment\n",
    "\n",
    "Let’s start by translating the Dojo’s `.*(subject formula)`\n",
    "      to pseudocode of the form `*[a b]`,\n",
    "      and then expand it line by\n",
    "      line:"
   ]
  },
  {
   "cell_type": "code",
   "execution_count": null,
   "id": "a7d082c7-c586-4a75-9b72-b8c93cdfde92",
   "metadata": {},
   "outputs": [],
   "source": [
    ":subject 50"
   ]
  },
  {
   "cell_type": "code",
   "execution_count": null,
   "id": "fc5296a1-d0d7-4ac6-986d-6d408ff764b1",
   "metadata": {},
   "outputs": [],
   "source": [
    "[4 0 1]"
   ]
  },
  {
   "cell_type": "markdown",
   "id": "f7b461d0-fc32-4677-9772-0d09fba6a3e7",
   "metadata": {},
   "source": [
    "PSEUDOCODE:\n",
    "\n",
    "```\n",
    "*[50 [4 0 1]] \n",
    ":: move the 4 to the outside as + \n",
    "+*[50 [0 1]] \n",
    ":: expand the 0 opcode to the memory slot operator \"/\" \n",
    "+/[1 50] \n",
    ":: grabs the memory slot \n",
    "+(50) \n",
    ":: evaluate \n",
    "51\n",
    "```"
   ]
  },
  {
   "cell_type": "markdown",
   "id": "7107f1f3",
   "metadata": {},
   "source": [
    "The `[a b]`\n",
    "      part of `+*[a b]`\n",
    "      expands to:\n",
    "\n",
    "```\n",
    "[50 [0 1]]\n",
    "```"
   ]
  },
  {
   "cell_type": "markdown",
   "id": "baad3589",
   "metadata": {},
   "source": [
    "OK, this we know how to handle! It’s just our `0` function, and\n",
    "      it wants the value in memory slot `1` of the\n",
    "      subject. That’s\n",
    "      `50`.\n",
    "\n",
    "Now we know that `*[a b]=50`,\n",
    "      and we just have to add 1\n",
    "      to it (the `+` in `+*[a b]`).\n",
    "      That is `51`, which is exactly what\n",
    "      the interpreter gave us.\n",
    "\n",
    "#### 2.5.2  Example: Walking Through Increment\n",
    "\n",
    "This one is similar, we just have an extra `4`. We again start\n",
    "      by translating the Dojo’s `.*(subject formula)`\n",
    "      to\n",
    "      pseudocode, and then expand"
   ]
  },
  {
   "cell_type": "code",
   "execution_count": null,
   "id": "f35fe4d1-5fc2-4628-8593-5c35bc585fca",
   "metadata": {},
   "outputs": [],
   "source": [
    ":subject 50"
   ]
  },
  {
   "cell_type": "code",
   "execution_count": null,
   "id": "360a45f0-278c-47b0-af9b-c8cb06ef74b8",
   "metadata": {},
   "outputs": [],
   "source": [
    "[4 4 0 1]"
   ]
  },
  {
   "cell_type": "markdown",
   "id": "f741819b-c1a6-4ae0-a7c7-d1db9dc7cfb2",
   "metadata": {},
   "source": [
    "PSEUDOCODE:\n",
    "\n",
    "```\n",
    "*[50 [4 4 0 1]] \n",
    ":: the first 4 moves outside as a '+' \n",
    "+*[50 [4 0 1]] \n",
    ":: 2nd 4 becomes a '+'...we have opcode 0 again! \n",
    "++*[50 [0 1]] \n",
    "++/[1 50] \n",
    "++(50) \n",
    "+(51) \n",
    "52\n",
    "```"
   ]
  },
  {
   "cell_type": "markdown",
   "id": "bc1ecd11",
   "metadata": {},
   "source": [
    "#### 2.5.3  Example: Walking Through Serial Increment\n",
    "\n",
    "Here we again see lots of `4`s applied\n",
    "      consecutively, and we also\n",
    "      see how we can yank values out of a more complicated subject\n",
    "      and manipulate them. Notice how the subject is a cell,\n",
    "      not an atom. The rest is the same as in the previous\n",
    "      example."
   ]
  },
  {
   "cell_type": "code",
   "execution_count": null,
   "id": "9390f180-c558-4d20-83b4-7491640120d2",
   "metadata": {},
   "outputs": [],
   "source": [
    ":subject [100 150]"
   ]
  },
  {
   "cell_type": "code",
   "execution_count": null,
   "id": "9c03334b-07e3-47e1-82e9-04acedfa7e26",
   "metadata": {},
   "outputs": [],
   "source": [
    "[4 4 0 3]"
   ]
  },
  {
   "cell_type": "markdown",
   "id": "a4f65849-15f1-4df8-8ac6-4dd9239dff98",
   "metadata": {},
   "source": [
    "PSEUDOCODE:\n",
    "\n",
    "```\n",
    "a (the subject) = [100 150] \n",
    "*[[100 150] [4 4 0 3]] \n",
    "+*[[100 150] [4 0 3]] \n",
    ":: Now we've extracted all the increments, \n",
    ":: so we just grab the value at memory slot 3 \n",
    "++*[[100 150] [0 3]] \n",
    "++/[3 [100 150]] \n",
    "++(150) \n",
    "+(151) \n",
    "152\n",
    "```"
   ]
  },
  {
   "cell_type": "markdown",
   "id": "e64b2a13",
   "metadata": {},
   "source": [
    "#### 2.5.4  Example: Walking Through Incrementing a Constant\n",
    "\n",
    "In the below example, we see how we can use the quote/constant\n",
    "      function `1` to\n",
    "      generate the value `98` and increment it. We\n",
    "      ignore the subject `50` completely."
   ]
  },
  {
   "cell_type": "code",
   "execution_count": null,
   "id": "bbe25df4-1175-4c4d-b525-b2cf006b5522",
   "metadata": {},
   "outputs": [],
   "source": [
    ":subject 50"
   ]
  },
  {
   "cell_type": "code",
   "execution_count": null,
   "id": "1b1c4068-ccd7-4caa-847b-946a727f1081",
   "metadata": {},
   "outputs": [],
   "source": [
    "[4 1 98]"
   ]
  },
  {
   "cell_type": "markdown",
   "id": "d4a34e87-db2d-45aa-b8a9-3e788579cb26",
   "metadata": {},
   "source": [
    "PSEUDOCODE:\n",
    "\n",
    "```\n",
    "*[50 [4 1 98]] \n",
    ":: formula is the \"quoter\" function \n",
    "+*[50 [1 98]] \n",
    "+(98) \n",
    "99\n",
    "```"
   ]
  },
  {
   "cell_type": "markdown",
   "id": "e9de909c",
   "metadata": {},
   "source": [
    "#### 2.5.5  Example: A Crash When Incrementing a Cell\n",
    "\n",
    "Just as opcode `0` had values it\n",
    "      couldn’t handle (non-atoms), so\n",
    "      opcode `4` needs\n",
    "      the nested value inside it to evaluate to an\n",
    "      atom."
   ]
  },
  {
   "cell_type": "code",
   "execution_count": null,
   "id": "f0a13ea4-53e2-43fd-90d1-0dbb9efcc095",
   "metadata": {},
   "outputs": [],
   "source": [
    ":subject 50"
   ]
  },
  {
   "cell_type": "code",
   "execution_count": null,
   "id": "6328ef84-9448-4b77-ae8b-d2f0fc071e18",
   "metadata": {},
   "outputs": [],
   "source": [
    "[4 1 [0 2]]"
   ]
  },
  {
   "cell_type": "markdown",
   "id": "167b6f6c-51b8-4347-98e3-36c347e57717",
   "metadata": {},
   "source": [
    "PSEUDOCODE:\n",
    "\n",
    "```\n",
    "*[50 [4 1 [0 2]]] \n",
    ":: OK cool, the nested value is a 1 opcode \n",
    "+*[50 [1 [0 2]]] \n",
    ":: 1 ignores the subject (50) and just returns [0 2] \n",
    "+([0 2]) \n",
    ":: [0 2] isn't an atom, so how can we increment it??? \n",
    ":: We can't, so we crash. \n",
    "CRASH\n",
    "```"
   ]
  },
  {
   "cell_type": "markdown",
   "id": "1d4c073e",
   "metadata": {},
   "source": [
    "#### 2.5.6  Summary of `4`\n",
    "\n",
    "In these examples, we’ve seen that function `4` can be called as\n",
    "      many times in a row as we want. At the end of those calls, it\n",
    "      always ends up incrementing a number that either is yanked\n",
    "      from the subject (memory slot function `0`) or quoted as it\n",
    "      is\n",
    "      (quote function `1`)."
   ]
  },
  {
   "cell_type": "markdown",
   "id": "64c001b4-23f8-43f0-a32d-d08c1d23be7b",
   "metadata": {},
   "source": [
    "### 2.6  The Cell-Maker (aka the Distribution Rule)\n",
    "\n",
    "The Nock interpreter is allowed to return nouns, which are\n",
    "      atoms (positive numbers) or cells (pairs of nouns). What have\n",
    "      our functions/opcodes been returning so far?\n",
    "\n",
    "`0`: atoms or\n",
    "            cells, depending what’s in the memory\n",
    "            slot that we yoink.\n",
    "\n",
    "`1`: atoms or\n",
    "            cells, depending on what we quote.\n",
    "\n",
    "`4`: just atoms.\n",
    "\n",
    "But what if my subject was `[51 67 89]`,\n",
    "      and I wanted to\n",
    "      increment every value and return that as `[52 68 90]`?\n",
    "      How\n",
    "      can I do that when it’s a cell, and `4` only seems able to\n",
    "      return\n",
    "      atoms?\n",
    "\n",
    "The answer is something that the Nock docs call the\n",
    "      “distribution rule” or “implicit cons” (hello, fellow lispers!),\n",
    "      but that I ﬁnd easiest to think of as the “Cell-Maker\n",
    "      Rule”.\n",
    "\n",
    "#### 2.6.1  A Quick Detour into Nock Formulas\n",
    "\n",
    "We haven’t talked much yet about what values are legal to\n",
    "      feed into the Nock interpreter (the `.*(subject formula)`\n",
    "      function in the Dojo). So far, we’ve only been using formulas\n",
    "      that start with numbers (our functions/opcodes `0`/`1`/`4`).\n",
    "\n",
    "Let’s now fully solidify our understanding of what’s a legal\n",
    "      formula by taking a quick look at the three possible cases.\n",
    "      (The format is`.*(subject formula)`.)\n",
    "\n",
    "The formula is a cell starting with an opcode. We\n",
    "            know this is OK."
   ]
  },
  {
   "cell_type": "code",
   "execution_count": null,
   "id": "b0c3e192-c3e1-4f6a-be24-300488a5a84d",
   "metadata": {},
   "outputs": [],
   "source": [
    ".*(50 [0 1])"
   ]
  },
  {
   "cell_type": "markdown",
   "id": "66802624-aa76-4a95-ac0a-c979492540a1",
   "metadata": {},
   "source": [
    "The formula is just an atom (0). This is not valid."
   ]
  },
  {
   "cell_type": "code",
   "execution_count": null,
   "id": "c34cd5ba-b40b-4954-86ff-0466adc63387",
   "metadata": {},
   "outputs": [],
   "source": [
    ".*(50 0)"
   ]
  },
  {
   "cell_type": "markdown",
   "id": "7d2a22aa-e024-4e7b-b538-8d1b29d17a63",
   "metadata": {},
   "source": [
    "Finally, we try a formula that is a cell starting with an\n",
    "            atom. This looks invalid, but—it works!"
   ]
  },
  {
   "cell_type": "code",
   "execution_count": null,
   "id": "2817ef08-fbd4-442b-8dd2-1e5a06db81f2",
   "metadata": {},
   "outputs": [],
   "source": [
    ".*(50 [[0 1] [1 203]])"
   ]
  },
  {
   "cell_type": "markdown",
   "id": "a669631e-1914-44b6-b4bd-2447666beabf",
   "metadata": {},
   "source": [
    "So apparently a formula cell can start with a cell. The\n",
    "      Cell-Maker rule is:\n",
    "      \n",
    "```\n",
    "*[subject [formula-x formula-y]]→ \n",
    "  [*[subject formula-x] *[subject formula-y]]\n",
    "```"
   ]
  },
  {
   "cell_type": "markdown",
   "id": "d5c76257",
   "metadata": {},
   "source": [
    "In our example above, `formula-x`\n",
    "      is `[0 1]`,\n",
    "      and\n",
    "      `formula-y` is `[1 203]`.\n",
    "      They each evaluate individually\n",
    "      against the subject, and the end result is a cell.\n",
    "\n",
    "We can make as many cells in a row as we want:"
   ]
  },
  {
   "cell_type": "code",
   "execution_count": null,
   "id": "c6625e0e",
   "metadata": {},
   "outputs": [],
   "source": [
    ".*(50 [[0 1] [1 203] [0 1] [1 19] [1 76]]) "
   ]
  },
  {
   "cell_type": "markdown",
   "id": "700914a3",
   "metadata": {},
   "source": [
    "We can put any operation inside each cell:"
   ]
  },
  {
   "cell_type": "code",
   "execution_count": null,
   "id": "35d1d8cb",
   "metadata": {},
   "outputs": [],
   "source": [
    ".*([19 20] [[0 1] [1 76] [4 4 0 3]]) "
   ]
  },
  {
   "cell_type": "markdown",
   "id": "cef4abcd",
   "metadata": {},
   "source": [
    "If we take the returned collection `[[19 20] 76 22]`\n",
    "      in\n",
    "      order, we can write in English how they connect to our\n",
    "      collection of formulas that we passed:\n",
    "\n",
    "`[0 1]`:\n",
    "            get memory slot 1\n",
    "\n",
    "`[1 76]`:\n",
    "            return the quoted value `76`\n",
    "\n",
    "`[4 4 0 3]`:\n",
    "            increment twice the value in memory\n",
    "            slot 3 (`20`)\n",
    "\n",
    "So we can pass one small subject (`[19 20]`)\n",
    "      and make an\n",
    "      arbitrarily long collection of values from it, using any\n",
    "      functions we want. Cell-Maker ftw!\n",
    "\n",
    "### 2.7  `3`, the Cell Detector, and `5`, the Equality Tester\n",
    "\n",
    "Now we come to functions/opcodes `3` and `5`, which are pretty\n",
    "      straightforward after we’ve seen how `4` and the Cell-Maker\n",
    "      work. Functions `3`\n",
    "      and `5`, like `4`, allow nested\n",
    "      evaluation.\n",
    "      Let’s put all their pseudocode deﬁnitions together to\n",
    "      compare:\n",
    "\n",
    "```\n",
    "::  function/opcode 3 \n",
    "*[a 3 b]    ?*[a b] \n",
    ":: function/opcode 4 \n",
    "*[a 4 b]    +*[a b] \n",
    "5:: function/opcode 5 \n",
    "*[a 5 b c]  =[*[a b] *[a c]]\n",
    "```"
   ]
  },
  {
   "cell_type": "markdown",
   "id": "eaf03b9a",
   "metadata": {},
   "source": [
    "First of all, notice how the right side of all these “equations”\n",
    "      has the evaluation operator, `*`. This means that\n",
    "      these\n",
    "      functions can have nested formulas, since they keep evaluating\n",
    "      all the way down.\n",
    "\n",
    "There are some new pseudocode symbols here that we need\n",
    "      to translate into English. We already know `+`:\n",
    "      “increment the\n",
    "      value after this\". Now we also see:\n",
    "\n",
    "`?`: “check whether the\n",
    "            value after this is a cell. Return\n",
    "            0 if yes, 1 if no\".4\n",
    "\n",
    "`=`: “ﬁrst run the function\n",
    "            in `b` with subject `a` as the\n",
    "            argument, and same for the function in `c`.\n",
    "            If the\n",
    "            results are equal, return 0, if not, return 1.\n",
    "\n",
    "#### 2.7.1  Example: Not a Cell"
   ]
  },
  {
   "cell_type": "code",
   "execution_count": null,
   "id": "dbe9089f-d928-461c-b687-bdcbac1d28cf",
   "metadata": {},
   "outputs": [],
   "source": [
    ":subject 50"
   ]
  },
  {
   "cell_type": "code",
   "execution_count": null,
   "id": "17245d02-f3e5-4081-a99c-d01845415947",
   "metadata": {},
   "outputs": [],
   "source": [
    "[3 0 1]"
   ]
  },
  {
   "cell_type": "markdown",
   "id": "f863184c-81a7-4e8e-b957-92ea24dba421",
   "metadata": {},
   "source": [
    "PSEUDOCODE:\n",
    "\n",
    "```\n",
    "*[50 [3 0 1]] \n",
    "?*[50 [0 1]] \n",
    "::get memory slot 1 of the subject \n",
    "?(50) \n",
    ":: is 50 a cell? No, so return 1 \n",
    "1\n",
    "```"
   ]
  },
  {
   "cell_type": "markdown",
   "id": "22076f73",
   "metadata": {},
   "source": [
    "#### 2.7.2  Example: A Cell"
   ]
  },
  {
   "cell_type": "code",
   "execution_count": null,
   "id": "76437afe-80e5-4707-a905-908acffb39a8",
   "metadata": {},
   "outputs": [],
   "source": [
    ":subject [50 51]"
   ]
  },
  {
   "cell_type": "code",
   "execution_count": null,
   "id": "889f34cf-bfd2-437d-ba58-a21ad357e26e",
   "metadata": {},
   "outputs": [],
   "source": [
    "[3 0 1]"
   ]
  },
  {
   "cell_type": "markdown",
   "id": "fc53ba7b-d3c6-4373-b1cf-614478cca739",
   "metadata": {},
   "source": [
    "PSEUDOCODE:\n",
    "\n",
    "```\n",
    "*[[50 51] [3 0 1]] \n",
    "?*[[50 51] [0 1]] \n",
    "::get memory slot 1 of the subject: [50 51] \n",
    "?([50 51]) \n",
    ":: is [50 51] a cell? Yes, so return 0 \n",
    "0\n",
    "```"
   ]
  },
  {
   "cell_type": "markdown",
   "id": "a1e78992",
   "metadata": {},
   "source": [
    "#### 2.7.3  Example: Nested Cell Evaluation with `4`"
   ]
  },
  {
   "cell_type": "code",
   "execution_count": null,
   "id": "d5c8c98c-ed7e-4a16-b7db-a46423167a3e",
   "metadata": {},
   "outputs": [],
   "source": [
    ":subject [50 51]"
   ]
  },
  {
   "cell_type": "code",
   "execution_count": null,
   "id": "e9a25e0e-4a25-4cb1-aa32-f8a79448ed53",
   "metadata": {},
   "outputs": [],
   "source": [
    "[4 4 3 0 1]"
   ]
  },
  {
   "cell_type": "markdown",
   "id": "0ff471f3-c175-4062-85f4-981c51989b83",
   "metadata": {},
   "source": [
    "PSEUDOCODE:\n",
    "\n",
    "```\n",
    "*[[50 51] [4 4 3 0 1]] \n",
    "+*[[50 51] [4 3 0 1]] \n",
    ":: whatever comes out of the 3 function, \n",
    ":: we're gonna increment it twice \n",
    "++*[[50 51] [3 0 1]] \n",
    ":: down to just fetching memory slot 1 \n",
    "++?*[[50 51] [0 1]] \n",
    "++?([50 51]) \n",
    ":: is [50 51] a cell? Yes, so return 0 \n",
    "++(0) \n",
    "+(1) \n",
    "2\n",
    "```"
   ]
  },
  {
   "cell_type": "markdown",
   "id": "31d93674",
   "metadata": {},
   "source": [
    "#### 2.7.4  Example: Check Multiple Cases of Cells"
   ]
  },
  {
   "cell_type": "code",
   "execution_count": null,
   "id": "28d31df0-45e2-41ce-abb5-d8a618e59ac7",
   "metadata": {},
   "outputs": [],
   "source": [
    ":subject [[50 51] 52]"
   ]
  },
  {
   "cell_type": "code",
   "execution_count": null,
   "id": "503b4915-c7bb-4739-8c8f-e38faae191d4",
   "metadata": {},
   "outputs": [],
   "source": [
    "[[3 0 2] [3 0 3]]"
   ]
  },
  {
   "cell_type": "markdown",
   "id": "3d674ce7-9b5e-414e-9b56-e6255ec5f842",
   "metadata": {},
   "source": [
    "PSEUDOCODE:\n",
    "\n",
    "```\n",
    "*[[[50 51] 52] [[3 0 2] [3 0 3]]] \n",
    "?[*[[50 51] 52] [0 2]] \n",
    "  *[[50 51] [0 3]]] \n",
    ":: yank memory slots 2 and 3 \n",
    "?*[[50 51] 52] \n",
    ":: first is a cell, second is not \n",
    "[0 1]\n",
    "```"
   ]
  },
  {
   "cell_type": "markdown",
   "id": "bf1c94e0",
   "metadata": {},
   "source": [
    "#### 2.7.5  Example: Equality Test\n",
    "\n",
    "Because `5` compares the\n",
    "      results of 2 formulas, it always makes\n",
    "      2 inner evaluations of the subject. It’s similar to Cell-Maker in\n",
    "      this way."
   ]
  },
  {
   "cell_type": "code",
   "execution_count": null,
   "id": "1256e4a8-8d60-471f-a8bc-2199ba971322",
   "metadata": {},
   "outputs": [],
   "source": [
    ":subject [50 51]"
   ]
  },
  {
   "cell_type": "code",
   "execution_count": null,
   "id": "4d8f4d86-92a9-489c-a57c-5b5c46965785",
   "metadata": {},
   "outputs": [],
   "source": [
    "[5 [0 2] [0 2]]"
   ]
  },
  {
   "cell_type": "markdown",
   "id": "149caa26-0ddc-4458-8457-0ec908181889",
   "metadata": {},
   "source": [
    "PSEUDOCODE:\n",
    "\n",
    "```\n",
    "*[[50 51] [5 [0 2] [0 2]]] \n",
    ":: factor out the = \n",
    "=[*[[50 51] [0 2]] *[[50 51] [0 2]]] \n",
    ":: get memory slot 2 twice \n",
    "=(50 50) \n",
    "0\n",
    "```"
   ]
  },
  {
   "cell_type": "markdown",
   "id": "77243cec",
   "metadata": {},
   "source": [
    "#### 2.7.6  Example: Comparing Two Unequal Values"
   ]
  },
  {
   "cell_type": "code",
   "execution_count": null,
   "id": "503469a1-30b7-4449-99bb-24c5c71592ba",
   "metadata": {},
   "outputs": [],
   "source": [
    ":subject [50 51]"
   ]
  },
  {
   "cell_type": "code",
   "execution_count": null,
   "id": "47f4faf2-9614-40e2-8d64-df77f58396e6",
   "metadata": {},
   "outputs": [],
   "source": [
    "[5 [0 2] [0 3]]"
   ]
  },
  {
   "cell_type": "markdown",
   "id": "7a7a3e6a-1ed2-499e-b509-79beab288a47",
   "metadata": {},
   "source": [
    "PSEUDOCODE:\n",
    "\n",
    "```\n",
    "*[[50 51] [5 [0 2] [0 3]]] \n",
    ":: factor out the = \n",
    "=[*[[50 51] [0 2]] *[[50 51] [0 3]]] \n",
    ":: get memory slot 2 and memory slot 3 \n",
    "=(50 51) \n",
    "1\n",
    "```"
   ]
  },
  {
   "cell_type": "markdown",
   "id": "30aeb929",
   "metadata": {},
   "source": [
    "#### 2.7.7  Example: Compare Values with Function Calls"
   ]
  },
  {
   "cell_type": "code",
   "execution_count": null,
   "id": "3c797aab-ba21-4931-852c-44dce993a28d",
   "metadata": {},
   "outputs": [],
   "source": [
    ":subject [50 51]"
   ]
  },
  {
   "cell_type": "code",
   "execution_count": null,
   "id": "1db56d4d-9314-45e7-a2d4-aef5d4178c08",
   "metadata": {},
   "outputs": [],
   "source": [
    "[5 [4 0 2] [0 3]]"
   ]
  },
  {
   "cell_type": "markdown",
   "id": "9fdf30c4-81d5-4a8e-bdd0-fb4446cf0a5c",
   "metadata": {},
   "source": [
    "PSEUDOCODE:\n",
    "\n",
    "```\n",
    "*[[50 51] [5 [4 0 2] [0 3]]] \n",
    ":: factor out the = \n",
    "=[*[[50 51] [4 0 2]] \n",
    "   *[[50 51] [0 3]]] \n",
    ":: factor out the + \n",
    "=[+*[[50 51] [0 2]] \n",
    "   *[[50 51] [0 3]]] \n",
    ":: get memory slots 2 and 3 \n",
    "=[+50 51] \n",
    ":: evaluate the + \n",
    "=([51 51]) \n",
    "0\n",
    "```"
   ]
  },
  {
   "cell_type": "markdown",
   "id": "f8cff85f",
   "metadata": {},
   "source": [
    "#### 2.7.8  Example: Compare Cells with Function Calls"
   ]
  },
  {
   "cell_type": "code",
   "execution_count": null,
   "id": "7c01bfc6-10db-4063-a0ec-bed905adb2c3",
   "metadata": {},
   "outputs": [],
   "source": [
    ":subject [99 99]"
   ]
  },
  {
   "cell_type": "code",
   "execution_count": null,
   "id": "f2306a90-ef17-4c36-9dc8-742da160fb7c",
   "metadata": {},
   "outputs": [],
   "source": [
    "[5 [1 [99 99]] [0 1]]"
   ]
  },
  {
   "cell_type": "markdown",
   "id": "0071399b-667a-49cd-9020-9aa2572c7c23",
   "metadata": {},
   "source": [
    "PSEUDOCODE:\n",
    "\n",
    "```\n",
    "*[[99 99] [5 [1 [99 99]] [0 1]]] \n",
    "=[*[[99 99] [1 [99 99]]] \n",
    "  *[[99 99] [0 1]]] \n",
    ":: first cell is the result of quoter function \n",
    ":: second cell is the result of memory fetch \n",
    "=[[99 99] [99 99]] \n",
    ":: true \n",
    "0\n",
    "```"
   ]
  },
  {
   "cell_type": "markdown",
   "id": "14980a7c",
   "metadata": {},
   "source": [
    "#### 2.7.9  Summary of `3` and `5`\n",
    "\n",
    "These along with `4` are known as the\n",
    "      “axiomatic” functions.\n",
    "      They exist to implement deﬁnitional logic for the Nock\n",
    "      speciﬁcation. In particular, the cell check and the equality\n",
    "      check provide for structural analysis of nouns.\n",
    "\n",
    "### 2.8  `2`, the “Subject-Altering” Function\n",
    "\n",
    "In all our examples so far, the subject has been deﬁned at the\n",
    "      start when we call the interpreter, and never changes. But\n",
    "      what if we want to change the subject?\n",
    "\n",
    "A diﬀerent subject? Why would we want that? Here’s an\n",
    "      easy example. Say you found the following piece of Nock code\n",
    "      on the interwebz:\n",
    "\n",
    "```\n",
    "[8 [1 0] 8 [1 6 [5 [0 7] 4 0 6] [0 6] 9 2 [0 2] \n",
    "            [4 0 6] 0 7] 9 2 0 1]\n",
    "```"
   ]
  },
  {
   "cell_type": "markdown",
   "id": "b3ada042",
   "metadata": {},
   "source": [
    "This is the code for a Nock function that expects a subject\n",
    "      that is an atom, and decrements that subject by 1. You can\n",
    "      actually enter it in the Dojo right now:"
   ]
  },
  {
   "cell_type": "code",
   "execution_count": null,
   "id": "1474bfdd",
   "metadata": {},
   "outputs": [],
   "source": [
    ".*(100 [8 [1 0] 8 [1 6 [5 [0 7] 4 0 6] [0 6] 9 2 [0 2] [4 0 6] 0 7] 9 2 0 1])"
   ]
  },
  {
   "cell_type": "markdown",
   "id": "b8193612",
   "metadata": {},
   "source": [
    "This works! You do not have to understand the code right\n",
    "      now; just try entering diﬀerent numbers instead of `100` to see\n",
    "      the program working.\n",
    "\n",
    "But now imagine that I have a Nock program with a\n",
    "      diﬀerent subject\n",
    "\n",
    "```\n",
    "> .*([50 51] some-formula)\n",
    "```"
   ]
  },
  {
   "cell_type": "markdown",
   "id": "76112665",
   "metadata": {},
   "source": [
    "And somewhere inside `some-formula`, I want to\n",
    "      decrement the number `51`. I can’t pass `[50 51]`\n",
    "      as the\n",
    "      subject to my decrementer code above though, because that’s\n",
    "      a cell, and it expects just an atom (a number).\n",
    "\n",
    "### 2.8.1  Subject Altering to the Rescue\n",
    "\n",
    "The function/opcode `2` is designed to\n",
    "      handle this problem for\n",
    "      us. First the pseudocode:\n",
    "\n",
    "```\n",
    "*[a 2 b c]  *[*[a b] *[a c]]\n",
    "```"
   ]
  },
  {
   "cell_type": "markdown",
   "id": "0e890f49",
   "metadata": {},
   "source": [
    "`2`\n",
    "      expects 2 formulas after the subject `a`: `b` and `c`. With\n",
    "      those, it:\n",
    "\n",
    "runs formula `b` against\n",
    "            the subject to set up a new\n",
    "            environment/subject derived from the subject\n",
    "\n",
    "runs formula `c` against\n",
    "            the subject to prepare a 2nd\n",
    "            function\n",
    "\n",
    "run that 2nd function against the new\n",
    "            environment/subject from step (1)\n",
    "\n",
    "Note that the pseudocode for `2` has nested `*`s.\n",
    "\n",
    "```\n",
    "*[*[a b] *[a c]]\n",
    "```"
   ]
  },
  {
   "cell_type": "markdown",
   "id": "16bf58e6",
   "metadata": {},
   "source": [
    "The two inner `*`s run steps (1)\n",
    "      and (2), and the outer one,\n",
    "      around the whole expression, runs step (3).\n",
    "\n",
    "#### 2.8.2  Example: Change the Subject and Call a Constant Value"
   ]
  },
  {
   "cell_type": "code",
   "execution_count": null,
   "id": "1089c28a-5fbc-4c48-bdd4-174ed0a962e7",
   "metadata": {},
   "outputs": [],
   "source": [
    ".*([50 51] [2 [0 3] [1 [4 0 1]]]) "
   ]
  },
  {
   "cell_type": "markdown",
   "id": "157e6484-c6f7-4b9d-b945-f93fd015f371",
   "metadata": {},
   "source": [
    "PSEUDOCODE:\n",
    "\n",
    "```\n",
    "*[[50 51] [2 [0 3] [1 [4 0 1]]]] \n",
    ":: separate b and c to each run against the subject (steps 1 and 2) \n",
    "*[*[[50 51] [0 3]] *[[50 51] [1 [4 0 1]]]] \n",
    ":: after steps 1 and 2, we have a new subject, 51! \n",
    ":: note how we're back in normal *[subject formula] form \n",
    "*[51 [4 0 1]] \n",
    ":: apply the 4 function as we're used to \n",
    "+*[51 [0 1]] \n",
    ":: grab 51 from memory slot 1 \n",
    "+(51) \n",
    "52\n",
    "```"
   ]
  },
  {
   "cell_type": "markdown",
   "id": "a56c1149",
   "metadata": {},
   "source": [
    "#### 2.8.3  Example: Grab a Block of Code from the Subject and Run It\n",
    "\n",
    "Think of this as grabbing a “stored procedure” from the\n",
    "      subject."
   ]
  },
  {
   "cell_type": "code",
   "execution_count": null,
   "id": "7e81b95d-6bea-4865-b4ad-aa49a65ed619",
   "metadata": {},
   "outputs": [],
   "source": [
    ".*([[4 0 1] 51] [2 [0 3] [0 2]])"
   ]
  },
  {
   "cell_type": "markdown",
   "id": "7e53b50f-c2ce-417b-88d7-b584098ba5e6",
   "metadata": {},
   "source": [
    "PSEUDOCODE:\n",
    "\n",
    "```\n",
    "*[[[4 0 1] 51] [2 [0 3] [0 2]]] \n",
    "*[*[[[4 0 1] 51] [0 3] \n",
    "  *[[[4 0 1] 51] [0 2]]]] \n",
    ":: step 1 gets memory slot 3, step 2 grabs memory slot 2 \n",
    "*[51 [4 0 1]] \n",
    ":: looks like a normal 4 opcode to me! \n",
    "+*[51 [0 1]] \n",
    ":: grab memory slot 1 \n",
    "+(51) \n",
    "52\n",
    "```"
   ]
  },
  {
   "cell_type": "markdown",
   "id": "71beee6f",
   "metadata": {},
   "source": [
    "#### 2.8.4  Example: Back to Our Motivating Case\n",
    "\n",
    "Remember our decrementing block of code that we couldn’t\n",
    "      use when the subject was `[50 51]`,\n",
    "      instead of just an\n",
    "      atom? Opcode `2`\n",
    "      makes handling that issue a piece of\n",
    "      cake.\n",
    "\n",
    "We simply use `2` to transform our\n",
    "      subject into an atom,\n",
    "      and use `1` to\n",
    "      quote the decrement block of code before it\n",
    "      evaluates in step (3)."
   ]
  },
  {
   "cell_type": "code",
   "execution_count": null,
   "id": "1aaae2cd-2c29-4dba-9669-f6bd7f9d1156",
   "metadata": {},
   "outputs": [],
   "source": [
    ".*([50 51] [2 [0 2] [1 [8 [1 0] 8 [1 6 [5 [0 7] 4 0 6] [0 6] 9 2 [0 2] [4 0 6] 0 7] 9 2 0 1]]]) "
   ]
  },
  {
   "cell_type": "markdown",
   "id": "9308d285-4de4-47eb-9f58-d34f048554ae",
   "metadata": {},
   "source": [
    "PSEUDOCODE:\n",
    "\n",
    "```\n",
    ":: (\"decrement-formula\" substituted for clarity) \n",
    "*[[50 51] [2 [0 2] [1 decrement-formula]]] \n",
    "*[*[[50 51] [0 2]] *[[50 51] [1 decrement-formula]]] \n",
    "*[50 decrement-formula] \n",
    "::decrement-formula has the atom subject that it wants \n",
    "49\n",
    "```"
   ]
  },
  {
   "cell_type": "markdown",
   "id": "498d49a5",
   "metadata": {},
   "source": [
    "#### 2.8.5  Summary of `2`\n",
    "\n",
    "For those who know a bit of Hoon, the second example above\n",
    "      is rather similar to calling an arm that produces a gate, and\n",
    "      then running the gate. Most of Hoon runs this type of\n",
    "      stored-procedure plus subject-altering Nock, and it all uses\n",
    "      opcode `2` at its\n",
    "      base.\n",
    "\n",
    "And for those who know Hoon, `[[4 0 1] 51]`\n",
    "      should\n",
    "      already be looking a lot like `[battery payload]`…\n",
    "      that’s\n",
    "      not a coincidence. We’re starting to see the ﬁrst glimpses of\n",
    "      how Hoon’s cores, arms and subjects/subject mutations ﬂow\n",
    "\n",
    "      out of the fundamental structure of Nock.\n",
    "\n",
    "We also see how Hoon/Nock lend themselves well to\n",
    "      throwing around chunks of code, and adjusting the subject as\n",
    "      necessary to create the correct subject/environment against\n",
    "      which to run that code.\n",
    "\n",
    "### 2.9  Summary of Fundamental Opcodes\n",
    "\n",
    "You now have seen all the fundamental functions/opcodes in\n",
    "      Nock. In the next part, I’ll introduce the remaining functions,\n",
    "      which no longer need pseudocode: we have enough scaﬀolding\n",
    "      now to build the rest of Nock from Nock itself. Instead, these\n",
    "      new opcodes will just be shortcuts/macros/code expansions\n",
    "      building on opcodes `0`–`5`.\n",
    "\n",
    "We’ll also start to connect Nock to Hoon, and see how\n",
    "      most of the fundamental (and slightly weird) features of Hoon\n",
    "      ﬂow directly from Nock’s structure, and make a lot more sense\n",
    "      in combination with it.\n",
    "\n",
    "## 3  Composite Opcodes\n",
    "\n",
    "A word of encouragement: we’re done with the hard part now.\n",
    "      Every Nock function we learn in this section will be built from\n",
    "      pieces in the preceding section.\n",
    "\n",
    "None of these new functions are necessary to make Nock\n",
    "      work. All of them except Nock `10` and `11` are syntactic\n",
    "      sugar\n",
    "      that is part of the Nock deﬁnition, and must be built into\n",
    "      every correct Nock implementation. If you have seen macros or\n",
    "      code expansions in other languages, that’s another word for\n",
    "      what’s happening here.\n",
    "\n",
    "Nock `10` makes it easier\n",
    "      to replace a memory value\n",
    "      somewhere in a tree, and Nock `11` allows passing\n",
    "      hints to the\n",
    "      interpreter.\n",
    "\n",
    "One point of clarity: this syntactic sugar/code-expansion\n",
    "      system is not extensible. This means that you can’t invent\n",
    "      your own Nock opcodes and still have that language be Nock;\n",
    "      you’re making a higher-level language on top of Nock at that\n",
    "      point.\n",
    "\n",
    "In fact, that’s not a bad way to think of Hoon: it’s a\n",
    "      higher-level language that adds missing syntatic sugar/macros\n",
    "      and human-readable names to Nock. (That’s not the whole\n",
    "      story, but it’s a decent mental peg to initially hang Hoon\n",
    "      on.)\n",
    "\n",
    "Nock is intentionally very, very small, such that you can\n",
    "      always walk through and analyze what is happening in a block\n",
    "      of code if you know Nock’s opcodes.\n",
    "\n",
    "### 3.1  An Aside About the `1` (Quoter Function)\n",
    "\n",
    "You’re going to see the `1` opcode (the\n",
    "      “Quoter”) appear in a\n",
    "      lot of examples below for a simple reason: the `6`-`9` opcodes\n",
    "      expect formulas in a lot of places, not just atoms. And, as\n",
    "      we’ve seen already, formulas have to be cells.\n",
    "\n",
    "Whenever a formula is required, but you really just want\n",
    "      to return a number, you use the quoter function.\n",
    "\n",
    "#### 3.1.1  Example: Incrementing a Constant\n",
    "\n",
    "We just want to run `4` on the number 5, but `4` expects a formula after it, so we use `[1 5]`."
   ]
  },
  {
   "cell_type": "code",
   "execution_count": null,
   "id": "4d3c79c2-39a8-460d-94b0-c053915f64e9",
   "metadata": {},
   "outputs": [],
   "source": [
    ":subject 0"
   ]
  },
  {
   "cell_type": "code",
   "execution_count": null,
   "id": "372b413f-21c0-4bcd-8627-be05de0206e1",
   "metadata": {},
   "outputs": [],
   "source": [
    "[4 1 5]"
   ]
  },
  {
   "cell_type": "markdown",
   "id": "82bb5742",
   "metadata": {},
   "source": [
    "#### 3.1.2  Example: Comparing a Memory Slot to a Constant Value\n",
    "\n",
    "We grab memory slot 2, then it has to be compared to the result of a formula, so we just use the formula `[1 23]` to return 23."
   ]
  },
  {
   "cell_type": "code",
   "execution_count": null,
   "id": "3e631591",
   "metadata": {},
   "outputs": [],
   "source": [
    ".*([23 45] [5 [0 2] [1 23]]) "
   ]
  },
  {
   "cell_type": "markdown",
   "id": "70df7299",
   "metadata": {},
   "source": [
    "### 3.2  `6`, “If/Else” Conditional Branch\n",
    "\n",
    "The remaining Nock opcodes are “sugar”. This means that the\n",
    "      functions in this next part will use only `*` and\n",
    "      Nock code in\n",
    "      their pseudocode. For example, here is the code for `6`, the\n",
    "      “If/Else\" function.\n",
    "\n",
    "```\n",
    "*[a 6 b c d]     *[a *[[c d] 0 *[[2 3] 0 *[a 4 4 b]]]]\n",
    "```"
   ]
  },
  {
   "cell_type": "markdown",
   "id": "8d2a3b97",
   "metadata": {},
   "source": [
    "The prose explanation of what’s happening is\n",
    "      straightforward:\n",
    "\n",
    "Evaluate `b` against the\n",
    "            subject `a` (`*[a b]`)\n",
    "            to see\n",
    "            whether it’s `0`/true or `1`/false.\n",
    "\n",
    "If `b` equals `0`/true, run formula `c` against subject `a`.\n",
    "\n",
    "If `b` equals `1`/false, run formula `d` against subject `a`.\n",
    "\n",
    "If `b` is not equal to\n",
    "            `0` or `1`, the code crashes, for\n",
    "            reasons we’ll see in the code explanation.\n",
    "\n",
    "3.2.1  Code Explanation (Way\n",
    "      More Fun)\n",
    "\n",
    "OK, so that’s the English version. The code explanation (the\n",
    "      right side of the deﬁnition) is really fun now that we know the\n",
    "      basic Nock opcodes.\n",
    "\n",
    "The pseudocode has four nested `*[subject formula]`s,\n",
    "      so I’m going to unwrap those to the bottom, and then build it\n",
    "      up again. The layers are, in order:\n",
    "\n",
    "`*[a ...]`,\n",
    "            i.e. subject `a` evaluated against that long\n",
    "            formula starting with `*[[c d] 0 ...]`.\n",
    "\n",
    "`*[c d]`,\n",
    "            i.e. subject `c` evaluated against the\n",
    "            formula\n",
    "            starting with `[[2 3 ...]`.\n",
    "\n",
    "`*[2 3]`,\n",
    "            i.e. subject `2` evaluated against the\n",
    "            lowest-level formula.\n",
    "\n",
    "Finally, subject `a`\n",
    "            evaluated against formula\n",
    "            `[4 4 b]`.\n",
    "\n",
    "#### 3.2.2  Step 4\n",
    "\n",
    "Remember, our English explanation was “see if `*[a b]`\n",
    "      is\n",
    "      true or false, and do diﬀerent actions depending on that. Step\n",
    "      Four is that check.”\n",
    "\n",
    "Let’s say we have `a` as `59`, and `b` as the quoted value\n",
    "      `0`/true."
   ]
  },
  {
   "cell_type": "markdown",
   "id": "f067bde6-fcad-4ddf-bb47-59e76c3b3e71",
   "metadata": {},
   "source": [
    "PSEUDOCODE:\n",
    "\n",
    "```\n",
    "*[a 4 4 b] \n",
    ":: a: 59 \n",
    ":: b: [1 0] \n",
    "*[59 4 4 [1 0]] \n",
    ":: substitute out the two increment operators \n",
    "++*[59 [1 0]] \n",
    ":: ignore subject, return quoted value 0 \n",
    "++(0) \n",
    "2\n",
    "```"
   ]
  },
  {
   "cell_type": "markdown",
   "id": "a9aeffcd",
   "metadata": {},
   "source": [
    "In summary, because `*[a b]`\n",
    "      evaluated to `0`/true, we get\n",
    "      the number `2`. If `*[a b]`\n",
    "      had been `1`/false,\n",
    "      we’d get `3`\n",
    "      (because we’d evaluate `++(1)`).\n",
    "\n",
    "What the heck? Why are we getting `2` or `3` back? How\n",
    "      does that help us?? Well, Nock uses that returned `2` or `3` as\n",
    "      a memory slot, and executes the code in that memory\n",
    "      slot.\n",
    "\n",
    "#### 3.2.3  Step 3\n",
    "\n",
    "Now we go up to step 3, with the subject `[2 3]`\n",
    "      evaluated\n",
    "      against our return value from step 4. Let’s imagine that `2` had\n",
    "      been returned:"
   ]
  },
  {
   "cell_type": "markdown",
   "id": "5feb83b6-d293-4c74-95f7-b077468a7508",
   "metadata": {},
   "source": [
    "PSEUDOCODE:\n",
    "\n",
    "```\n",
    ":: remember, \"result-of-step-4\" was 2 \n",
    "*[[2 3] 0 result-of-step-4] \n",
    "*[[2 3] 0 2] \n",
    ":: get memory slot 2 \n",
    "2\n",
    "```"
   ]
  },
  {
   "cell_type": "markdown",
   "id": "0e5ec197",
   "metadata": {},
   "source": [
    "This grabs memory slot `2` if\n",
    "      `*[a b]`\n",
    "      was true, and\n",
    "      memory slot `3` if `*[a b]`\n",
    "      was false.\n",
    "\n",
    "Wait, isn’t this redundant? We are just using our `2`\n",
    "      or `3` generated in step 4 to generate a `2` or a `3`. Seems\n",
    "      dumb.\n",
    "\n",
    "The answer is that we make sure that a crash happens if\n",
    "      `*[a b]`\n",
    "      yields any answer other than `0`/true or `1`/false. If\n",
    "      `*[a b]`\n",
    "      returned `10`, for example, we’d have the\n",
    "      following\n",
    "      code in step 3:\n",
    "\n",
    "```\n",
    "*[[2 3] 0 10] \n",
    ":: there's no slot 10 \n",
    "CRASH!!\n",
    "```"
   ]
  },
  {
   "cell_type": "markdown",
   "id": "31312e0b",
   "metadata": {},
   "source": [
    "This is exactly what we want: the program crashes unless we are doing\n",
    "      a loobean\n",
    "      test that returns a `0` or `1` (converted to an indicial `2` or `3`) in\n",
    "      step 4.  (A loobean is a boolean truth value but with the typical truth values of 0 and 1 reversed to 0/true and 1/false.)\n",
    "\n",
    "#### 3.2.4  Step 2\n",
    "\n",
    "We now have our validated `2` or\n",
    "      `3` to plug into step 2.\n",
    "      Let’s imagine `c` is the simple formula `[0 1]`\n",
    "      and `d` is\n",
    "      `[1 203]`."
   ]
  },
  {
   "cell_type": "markdown",
   "id": "964d5c17-2cbb-4390-8140-ea60606889e1",
   "metadata": {},
   "source": [
    "```\n",
    ":: if step 3 returned \"2\" (true) \n",
    "*[[[0 1] [1 203]] 0 2] \n",
    "[0 1]\n",
    "```"
   ]
  },
  {
   "cell_type": "markdown",
   "id": "cb1ecb77",
   "metadata": {},
   "source": [
    "Not much to see here: we just grab memory slot `2` or `3`\n",
    "      depending on whether our initial `b` was true or\n",
    "      false.\n",
    "\n",
    "#### 3.2.5  Step 1\n",
    "\n",
    "And now we’re back at the top level, where we just use\n",
    "      whichever formula we yoinked in step 2 and run it against\n",
    "      `a`."
   ]
  },
  {
   "cell_type": "markdown",
   "id": "99b90e43-2ca3-45e0-bd55-c869fc6bbc1a",
   "metadata": {},
   "source": [
    "```\n",
    "*[a formula-from-step-2] \n",
    ":: let's say we returned formula [0 1] \n",
    ":: our original a, from step 4, was 59 \n",
    "*[59 [0 1]] \n",
    "59\n",
    "```"
   ]
  },
  {
   "cell_type": "markdown",
   "id": "73d6a2ac",
   "metadata": {},
   "source": [
    "#### 3.2.6  Example: Code Expansion of `6`"
   ]
  },
  {
   "cell_type": "code",
   "execution_count": null,
   "id": "53fe9d1e-647d-469c-9721-66d9c54f8a9d",
   "metadata": {},
   "outputs": [],
   "source": [
    ".*(1 [6 [0 1] [0 1] [4 0 1]]) "
   ]
  },
  {
   "cell_type": "markdown",
   "id": "68d323d3-a09e-4581-a88e-e8c8915324f5",
   "metadata": {},
   "source": [
    "PSEUDOCODE:\n",
    "\n",
    "```\n",
    ":: *[a *[[c d] 0 *[[2 3] 0 *[a 4 4 b]]]] \n",
    "*[1 *[[[0 1] [4 0 1]] 0 *[[2 3] 0 *[1 4 4 [0 1]]]]] \n",
    ":: factor out the 4 opcodes \n",
    "*[1 *[[[0 1] [4 0 1]] 0 *[[2 3] 0 ++*[1 [0 1]]]]] \n",
    ":: b evaluates to 1 (yank memory slot 1) \n",
    "*[1 *[[[0 1] [4 0 1]] 0 *[[2 3] 0 ++(1)]]] \n",
    ":: evaluate the two increments \n",
    "*[1 *[[[0 1] [4 0 1]] 0 *[[2 3] 0 3]]] \n",
    ":: get memory slot 3 from [2 3] \n",
    "*[1 *[[[0 1] [4 0 1]] 0 3]] \n",
    ":: [0 3] means get memory slot 3 from the subject (formula [4 0 1]) \n",
    "*[1 [4 0 1]] \n",
    ":: factor out the 4 opcode \n",
    "+*[1 [0 1]] \n",
    "+(1) \n",
    "2\n",
    "```"
   ]
  },
  {
   "cell_type": "markdown",
   "id": "b0e8ad9d",
   "metadata": {},
   "source": [
    "#### 3.2.7  Summary of `6`\n",
    "\n",
    "Now I’m going to make you a little sad. Most Nock interpreters\n",
    "      don’t do this whole awesome code expansion. They just see `6`,\n",
    "      and implement an if/else check with a crash if `*[a b]`\n",
    "      isn’t a\n",
    "      loobean.\n",
    "\n",
    "However, the pattern of storing chunks of code in memory\n",
    "      and pulling them out when you want them is the most\n",
    "      important part of Nock. In fact, those of you who know Hoon\n",
    "      are probably already seeing the makings of the “core” code\n",
    "      pattern.\n",
    "\n",
    "### 3.3  `7`, the “Composition” Opcode\n",
    "\n",
    "`7` is so simple we\n",
    "      barely need to spend time on it. All it does is\n",
    "      create a new subject/environment (using `2`), and immediately\n",
    "      runs a formula against that new subject. Let’s compare it to\n",
    "      `2`:"
   ]
  },
  {
   "cell_type": "markdown",
   "id": "751dba52-7e13-4fe5-9cd4-3274cb60e943",
   "metadata": {},
   "source": [
    "```\n",
    "::opcode 7 \n",
    "*[a 7 b c]  *[*[a b] c] \n",
    " \n",
    ":: opcode 2 \n",
    "*[a 2 b c]  *[*[a b] *[a c]]\n",
    "```"
   ]
  },
  {
   "cell_type": "markdown",
   "id": "33bd3b2e",
   "metadata": {},
   "source": [
    "This is almost exactly the same except with `c` instead of\n",
    "      `*[a c]`.\n",
    "      This means that you can write a “subject-changing\"\n",
    "      formula in `b`, and then run a simple function\n",
    "      against that in\n",
    "      `c`.\n",
    "\n",
    "#### 3.3.1  Example: Opcode `2` vs. Opcode `7`"
   ]
  },
  {
   "cell_type": "code",
   "execution_count": null,
   "id": "49d10bde-861e-4db8-9db7-18aa26da602b",
   "metadata": {},
   "outputs": [],
   "source": [
    ".*([23 45] [2 [0 3] [1 4 0 1]]) "
   ]
  },
  {
   "cell_type": "markdown",
   "id": "e8ec1e39-f04b-4464-bfb5-72f6643e8ea6",
   "metadata": {},
   "source": [
    "Using opcode `7`, we get to remove the quoter opcode `1`."
   ]
  },
  {
   "cell_type": "code",
   "execution_count": null,
   "id": "0c45dc18",
   "metadata": {},
   "outputs": [],
   "source": [
    ".*([23 45] [7 [0 3] [4 0 1]]) "
   ]
  },
  {
   "cell_type": "markdown",
   "id": "ada47a09",
   "metadata": {},
   "source": [
    "Opcode `7` is clearly\n",
    "      trivial, so why does it exist? It allows\n",
    "      clean expression of function composition: this is really\n",
    "      `c(b(a))`,\n",
    "      where `a` (the subject) is the initial argument,\n",
    "      and `b`\n",
    "      and `c` are functions. This pattern comes up a\n",
    "      ton, and it’s nice\n",
    "      to not use `1`s\n",
    "      everywhere.\n",
    "\n",
    "### 3.4  `8`, the “Variable Push” Opcode\n",
    "\n",
    "If you’re ever writing Nock and think “how can I add a new\n",
    "      variable to the subject?\", opcode `8` is what you want.\n",
    "      The new\n",
    "      variable can be based on either the existing subject, or be a\n",
    "      new value you add on.\n",
    "\n",
    "```\n",
    "*[a 8 b c]          *[[*[a b] a] c]\n",
    "```"
   ]
  },
  {
   "cell_type": "markdown",
   "id": "25fa925b",
   "metadata": {},
   "source": [
    "This says to run `*[a b]`,\n",
    "      and then make that the head of\n",
    "      a new subject, with the old subject `a` as the new\n",
    "      subject’s\n",
    "      tail.\n",
    "\n",
    "#### 3.4.1  Example: Add Variable as a Copied Value from an Existing Subject\n",
    "\n",
    "In English, the below code ﬁrst yanks the variable from\n",
    "      memory slot 3, copies it to the head of a new subject, and\n",
    "      then increments the value in that new head."
   ]
  },
  {
   "cell_type": "code",
   "execution_count": null,
   "id": "e0961bc1-604b-4f92-9a2a-ec7ca02cf23e",
   "metadata": {},
   "outputs": [],
   "source": [
    ".*([67 39] [8 [0 3] [4 0 2]])"
   ]
  },
  {
   "cell_type": "markdown",
   "id": "2e4ffc29-920e-480e-b174-96d3b4df016b",
   "metadata": {},
   "source": [
    "PSEUDOCODE:\n",
    "\n",
    "```\n",
    "*[[*[[67 39] [0 3]] [67 39]] [4 0 2]] \n",
    ":: yanks mem slot 3 and pins it to the front of the old subject \n",
    "*[[39 [67 39]] [4 0 2]] \n",
    "+*[[39 [67 39]] [0 2]] \n",
    "+(39) \n",
    "40\n",
    "```"
   ]
  },
  {
   "cell_type": "markdown",
   "id": "52c22f2f",
   "metadata": {},
   "source": [
    "#### 3.4.2  Example: Add Variable as a New Value"
   ]
  },
  {
   "cell_type": "code",
   "execution_count": null,
   "id": "0615d828-c050-4ca8-b3c1-91aee790b2ca",
   "metadata": {},
   "outputs": [],
   "source": [
    ".*([67 39] [8 [1 0] [4 0 2]])"
   ]
  },
  {
   "cell_type": "markdown",
   "id": "ae1aa873-9c47-40f6-a37b-bab4a69f4d15",
   "metadata": {},
   "source": [
    "PSEUDOCODE:\n",
    "\n",
    "```\n",
    "*[[*[[67 39] [1 0]] [67 39]] [4 0 2]] \n",
    "*[[0 [67 39]] [4 0 2]] \n",
    "+*[[0 [67 39]] [0 2]] \n",
    "+(0) \n",
    "1\n",
    "```"
   ]
  },
  {
   "cell_type": "markdown",
   "id": "18b6d4ce",
   "metadata": {},
   "source": [
    "Why do we want this? In the ﬁrst example, we pin a copy of a\n",
    "      value so that we can manipulate it without changing the\n",
    "      original. In the second example, we add a `0` to the front;\n",
    "      maybe we want to increment it until some condition is\n",
    "      met?\n",
    "\n",
    "The above should be starting to feel very Hoon-ish: we’re a\n",
    "      minor code transform away from pinning new values to the\n",
    "      head of a payload.\n",
    "\n",
    "### 3.5  `9`, Run a Stored Procedure Arm in a Core\n",
    "\n",
    "We’re almost at full Hoon now, although still at a very\n",
    "      low/raw level. `9`\n",
    "      looks a little complicated...\n",
    "\n",
    "```\n",
    "*[a 9 b c]  *[*[a c] 2 [0 1] 0 b]\n",
    "```"
   ]
  },
  {
   "cell_type": "markdown",
   "id": "9d00e570",
   "metadata": {},
   "source": [
    "... but in English, this is just saying:\n",
    "\n",
    "1. Use formula `c` to make a\n",
    "            new subject from `a`\n",
    "            (`*[a c]`).\n",
    "\n",
    "2. Grab the formula located at memory slot `b` in that\n",
    "            new subject.\n",
    "\n",
    "3. Run that formula against the new subject `*[a c]`.\n",
    "\n",
    "The fact that the above description has the words “make a\n",
    "      new subject\" tells us right away that it’s syntactic sugar for\n",
    "      opcode `2`, and\n",
    "      that’s indeed what we see in the pseudocode.\n",
    "\n",
    "#### 3.5.1  Example: Using `9` to Run an Increment Arm\n",
    "\n",
    "The initial expression here likely looks cryptic, but if you\n",
    "      follow the pseudocode, it will become clear.\n",
    "\n",
    "To stay oriented, remember that, if we’re thinking of `9` as\n",
    "      `*[a 9 b c]`,\n",
    "      then\n",
    "\n",
    "```\n",
    "a: 45 \n",
    "b: 2 \n",
    "c: [[1 4 0 3] 0 1]\n",
    "```"
   ]
  },
  {
   "cell_type": "code",
   "execution_count": null,
   "id": "7fa1ce66-6d2b-4085-a07f-e0794acda414",
   "metadata": {},
   "outputs": [],
   "source": [
    ".*(45 [9 2 [1 4 0 3] 0 1])"
   ]
  },
  {
   "cell_type": "markdown",
   "id": "e9ad22a8-c6bc-4487-af55-64d1b3360f37",
   "metadata": {},
   "source": [
    "PSEUDOCODE:\n",
    "\n",
    "```\n",
    "*[45 [9 2 [1 4 0 3] [0 1]]] \n",
    "*[*[45 [1 4 0 3] [0 1]] 2 [0 1] 0 2] \n",
    ":: new subject is [[4 0 3] 45] \n",
    ":: that is a formula to increment mem slot 3 in the \n",
    ":: head; 45 in the tail \n",
    "*[[[4 0 3] 45] 2 [0 1] 0 2] \n",
    ":: now we expand opcode 2 \n",
    "*[*[[[4 0 3] 45] 0 1] \n",
    "  *[[[4 0 3] 45] 0 2]] \n",
    ":: mem slot 2 of the subject becomes the new formula \n",
    "*[[[4 0 3] 45] 4 0 3] \n",
    "+*[[[4 0 3] 45] 0 3] \n",
    ":: grab mem slot 3 \n",
    "+(45) \n",
    "46\n",
    "```"
   ]
  },
  {
   "cell_type": "markdown",
   "id": "e851b52a",
   "metadata": {},
   "source": [
    "We start above with a subject that is not a core; it’s just\n",
    "      the atom `45`. The code for `c` is then:"
   ]
  },
  {
   "cell_type": "code",
   "execution_count": null,
   "id": "fdf92f10",
   "metadata": {},
   "outputs": [],
   "source": [
    "[[1 4 0 3] [0 1]]"
   ]
  },
  {
   "cell_type": "markdown",
   "id": "547be2ec",
   "metadata": {},
   "source": [
    "This formula uses the Cell Maker (Distribution Rule) to\n",
    "      insert `[4 0 3]`\n",
    "      as the head of the new subject, and puts mem\n",
    "      slot `1` of the old subject as the tail, so we get\n",
    "      a new subject of\n",
    "      `[[4 0 3] 45]`.\n",
    "\n",
    "What we do next is use `b` (here,\n",
    "      `2`) to select memory slot `2`\n",
    "      from that new subject. Memory slot `2` is a\n",
    "      formula: `[4 0 3]`.\n",
    "      We run that formula against the new subject.\n",
    "\n",
    "#### 3.5.2  Key Point/Possible Confusion\n",
    "\n",
    "When I ﬁrst saw `9`, I thought: “why\n",
    "      didn’t they just use `2` to\n",
    "      make the transformed subject? Why is there an extra step to\n",
    "      use `[0 1]`\n",
    "      to pull the new `*[a c]`\n",
    "      subject? Why can’t we do\n",
    "      `*[a 2 c [0 b]]`?\n",
    "\n",
    "The answer is that we actually use the `*[a c]`\n",
    "      subject\n",
    "      twice:\n",
    "\n",
    "We extract from it the formula located at memory\n",
    "            slot `b`.\n",
    "\n",
    "Then we run that formula against the `*[a c]`\n",
    "            subject.\n",
    "\n",
    "If we just did `*[a 2 c [0 b]]`,\n",
    "      then `[0 b]`\n",
    "      would try\n",
    "      to look up the `b` memory slot in `a`, not `*[a c]`.\n",
    "      So `9` gives us\n",
    "      one extra step to set up the core itself.\n",
    "\n",
    "#### 3.5.3  How to Think of `9`\n",
    "\n",
    "I like to think of `9` as having three\n",
    "      parts:\n",
    "\n",
    "- `c`: our formula to set up\n",
    "            the subject, making a new\n",
    "            subject.\n",
    "\n",
    "- `b`: the memory slot in our\n",
    "            new subject where an arm\n",
    "            is.\n",
    "\n",
    "- Run the arm located at `b`\n",
    "            against the new subject.\n",
    "\n",
    "You can think of this as setting up a subject, pulling a stored\n",
    "      procedure from it, and then running that procedure against\n",
    "      the subject.\n",
    "\n",
    "### 3.6  `10`, Replace a Memory Slot\n",
    "\n",
    "Before explaining `10`, we need to\n",
    "      introduce a new operator, `#`\n",
    "      hax. `#` hax is the “edit\" operator. It has\n",
    "      the form"
   ]
  },
  {
   "cell_type": "markdown",
   "id": "e6bc9be7",
   "metadata": {},
   "source": [
    "```\n",
    "#[mem-slot new-val target-tree]\n",
    "```\n",
    "\n",
    "It replaces the memory slot `mem-slot` in `target-tree` with\n",
    "      `new-val`.\n",
    "\n",
    "```\n",
    "::  Example \n",
    "#[2 [4 5] [99 88 77]] \n",
    "[[4 5] 88 77]\n",
    "```"
   ]
  },
  {
   "cell_type": "markdown",
   "id": "b38f1a15",
   "metadata": {},
   "source": [
    "The pseudocode for `10` is:\n",
    "\n",
    "```\n",
    "*[a 10 [b c] d]  #[b *[a c] *[a d]]\n",
    "```"
   ]
  },
  {
   "cell_type": "markdown",
   "id": "0e69d9ba",
   "metadata": {},
   "source": [
    "In English, this ﬁrst calculates `*[a c]`\n",
    "      and `*[a d]`,\n",
    "      and\n",
    "      then replaces memory slot `b` in the latter with\n",
    "      the result of the\n",
    "      former.\n",
    "\n",
    "#### 3.6.1  Example: Using `10` to Replace a Memory Slot"
   ]
  },
  {
   "cell_type": "code",
   "execution_count": null,
   "id": "54b6ff7b-7ad4-4c09-8553-ce24c72b7ff4",
   "metadata": {},
   "outputs": [],
   "source": [
    ".*(50 [10 [2 [0 1]] [1 8 9 10]]) "
   ]
  },
  {
   "cell_type": "markdown",
   "id": "1f56398a-e790-4f58-92af-da36f5a727fc",
   "metadata": {},
   "source": [
    "PSEUDOCODE:\n",
    "\n",
    "```\n",
    "*[50 [10 [2 [0 1]] [1 8 9 10]]] \n",
    "#[2 *[50 0 1] *[50 1 8 9 10]] \n",
    "#[2 /[1 50] [8 9 10]] \n",
    "#[2 50 [8 9 10]] \n",
    "::  expanded as far as we can, now do the edit \n",
    "::  replace mem slot 2 of [8 9 10] with the value 50 \n",
    "[50 9 10]\n",
    "```"
   ]
  },
  {
   "cell_type": "markdown",
   "id": "94a3732d",
   "metadata": {},
   "source": [
    "We will defer discussion of opcode `11` to a later\n",
    "      section\n",
    "      because it is not part of strict Nock semantics.\n",
    "\n",
    "#### 3.6.2  Towards Hoon\n",
    "\n",
    "If “grab a chunk of code from a subject and then run it\n",
    "      against the subject\" sounds a lot like getting an arm from\n",
    "      a core in Hoon, that’s because it is. Nock opcode `9` is\n",
    "      hand-in-glove with Hoon’s core/arm structure. The “new\n",
    "      subjects\" created by `*[a c]`\n",
    "      are cores, and the things selected\n",
    "      from memory slots by `b` are arms.\n",
    "\n",
    "### 3.7  Real Nock Code\n",
    "\n",
    "To ﬁnish this oﬀ and take your new powers for a spin, let’s\n",
    "      look at some real Nock code from the wild. I got the below\n",
    "      example from the Dojo. It’s a mold: a function that takes a\n",
    "      noun and returns it if it’s the correct type, and crashes if not.\n",
    "      The mold here checks whether the input noun is a loobean\n",
    "      (`0`/true or `1`/false).\n",
    "\n",
    "#### 3.7.1  Example: A Loobean Mold\n",
    "\n",
    "(This example is intended to illustrate Hoon type gates or _molds_, which are not supplied with the Nock Jupyter kernel and are thus not executable here.)"
   ]
  },
  {
   "cell_type": "markdown",
   "id": "275a682b-865b-4793-98e8-0622cd2a5313",
   "metadata": {},
   "source": [
    "```\n",
    ":: loobean mold gate \n",
    "> =loobean-mold ? \n",
    " \n",
    ":: below output truncated for our purposes here \n",
    "5> loobean-mold \n",
    "< 1.fxf ... > \n",
    " \n",
    "::  grab the code for the battery \n",
    "> -.loobean-mold \n",
    "10[8 [6 [5 [1 0] 0 6] [1 0] 6 [5 [1 1] 0 6] [1 1] 0 0] \n",
    " 8 [5 [0 14] 0 2] 0 6]\n",
    "```"
   ]
  },
  {
   "cell_type": "markdown",
   "id": "f56f28c1",
   "metadata": {},
   "source": [
    "So we:\n",
    "\n",
    "1. Assign the mold gate denoted by `?` to the face\n",
    "            `loobean-mold`.\n",
    "\n",
    "2. Examine what’s inside, seeing that the head is an\n",
    "            arm.\n",
    "\n",
    "3. Print out that source code by calling the head.\n",
    "\n",
    "The below code acts as a formula which evaluates its sample,\n",
    "      and returns it if it’s a loobean or crashes otherwise. Let’s see\n",
    "      how that works."
   ]
  },
  {
   "cell_type": "markdown",
   "id": "6c0e87f8-d00c-4a9d-a94a-b1e9b60c177d",
   "metadata": {},
   "source": [
    "```\n",
    "[6 [5 [1 0] 0 6] [1 0] 6 [5 [1 1] 0 6] [1 1] 0 0]\n",
    "```"
   ]
  },
  {
   "cell_type": "markdown",
   "id": "13a92399",
   "metadata": {},
   "source": [
    "We start with `6`, which means this\n",
    "      is an if-else. The true/false\n",
    "      test is the next element:\n",
    "\n",
    "```\n",
    "[5 [1 0] 0 6]\n",
    "```"
   ]
  },
  {
   "cell_type": "markdown",
   "id": "6bf46172",
   "metadata": {},
   "source": [
    "This compares the quoted value `0` (from `[1 0]`)\n",
    "      with the\n",
    "      value at memory slot `6` in the subject (`[0 6]`).\n",
    "\n",
    "What is the subject and what is at mem slot `6`? This code\n",
    "      is the arm of a gate, so the subject is that gate/core:\n",
    "      `[battery [sample payload]]`.\n",
    "      We are looking at the\n",
    "      battery right now, and so `[0 6]`\n",
    "      yanks the head of the tail, or\n",
    "      the `sample`!\n",
    "\n",
    "We know the sample will be a noun that we’re testing for\n",
    "      loobeanness, so this code starts by seeing whether the sample\n",
    "      is the value `0`/true. If it is, the next element\n",
    "      is `[1 0]`,\n",
    "      so we\n",
    "      return `0` if the sample is `0`.\n",
    "\n",
    "Otherwise, we run the second branch of the `if`–`else`\n",
    "      conditional:"
   ]
  },
  {
   "cell_type": "markdown",
   "id": "1cd52883-9b68-493a-82e2-781cd3616b45",
   "metadata": {},
   "source": [
    "```\n",
    "[6 [5 [1 1] 0 6] [1 1] 0 0]\n",
    "```"
   ]
  },
  {
   "cell_type": "markdown",
   "id": "ecd18e54",
   "metadata": {},
   "source": [
    "This is also an opcode `6` if-else. Once\n",
    "      again, it compares\n",
    "      something to the value at mem slot `6` (the\n",
    "      sample), but this\n",
    "      time it checks whether that is the value `1`. If\n",
    "      it is, it runs the\n",
    "      formula `[1 1]`\n",
    "      to return `1`.\n",
    "\n",
    "If not, it means our input was neither `0` nor `1`\n",
    "      and is not a loobean, so we run the formula `[0 0]`,\n",
    "      which always crashes (as there is no memory slot\n",
    "      `0`).  (Recall that in the binary tree addressing scheme of Nock, 1 refers to the entire noun, 2 to its head if it exists, and 3 to its tail if it exists.)\n",
    "      This is exactly what we want—crash if the sample is not a\n",
    "      loobean!\n",
    "\n",
    "The second part of the formula which is composed with an\n",
    "      `8` is:"
   ]
  },
  {
   "cell_type": "markdown",
   "id": "1ab91413-c2b0-4db5-9bde-772c96100dc3",
   "metadata": {},
   "source": [
    "```\n",
    "[8 [5 [0 14] 0 2] 0 6]\n",
    "```"
   ]
  },
  {
   "cell_type": "markdown",
   "id": "017e380f",
   "metadata": {},
   "source": [
    "This checks whether the battery of the current gate is\n",
    "      equivalent to the head of the context; if so, it returns the\n",
    "      sample. This is a artifact of a type promotion in Hoon which\n",
    "      converts a bare loobean value to a constant by pinning a\n",
    "      constant as an example ﬁrst (i.e., at slot 14). (It’s completely\n",
    "      extraneous in Nock itself, however.)\n",
    "\n",
    "### 3.8  Summary\n",
    "\n",
    "In this section, we’ve seen how to use almost all of the\n",
    "      remaining opcodes, which build Nock up to a slightly more\n",
    "      expressive level. We also saw how Hoon cores start to arise\n",
    "      pretty naturally out of the Nock primitives, especially `8` and\n",
    "      `9`. Then we walked\n",
    "      through real production Nock code to show\n",
    "      that everything we’ve learned so far works exactly as expected\n",
    "      in the wild. In the next section, you’ll learn how to write real\n",
    "      programs in Nock, and compose those programs to make new\n",
    "      ones. Finally, hopefully you now see that, whatever its other\n",
    "      limitations, Nock is not particularly obscurantist, and is fairly\n",
    "      straightforward to parse, once you understand its syntax and\n",
    "      idioms.\n",
    "\n",
    "## 4  Interlude\n",
    "\n",
    "In this section, we cover some loose ends deriving from the\n",
    "      previous discussion.\n",
    "\n",
    "### 4.1  Order of Operations\n",
    "\n",
    "At this point, we can answer the question of what order Nock\n",
    "      evaluates expressions in. The answer is straightforward: it\n",
    "      starts with code that has only one pseudocode operator and\n",
    "      all Nock code, as below:\n",
    "\n",
    "```\n",
    "*[50 4 4 [5 [0 1] [1 50]]]\n",
    "```"
   ]
  },
  {
   "cell_type": "markdown",
   "id": "449b35ab",
   "metadata": {},
   "source": [
    "The interpreter can then be thought of as moving left-to-right,\n",
    "      expanding according to its rules, until it can’t expand any\n",
    "      further into pseudocode:"
   ]
  },
  {
   "cell_type": "markdown",
   "id": "c22c4c36-8dc5-4cee-96a4-91f010b86149",
   "metadata": {},
   "source": [
    "```\n",
    "*[50 4 4 [5 [0 1] [1 50]]] \n",
    "+*[50 4 [5 [0 1] [1 50]]] \n",
    "++*[50 5 [0 1] [1 50]] \n",
    "++=[*[50 [0 1]] *[50 [1 50]]] \n",
    "++=[/[1 50] 50]\n",
    "```"
   ]
  },
  {
   "cell_type": "markdown",
   "id": "fa5196a1",
   "metadata": {},
   "source": [
    "Once we get to that last line, `++=[/[1 50] *[50 [1 50]]]`,\n",
    "      no further expansion into pseudocode is possible.\n",
    "\n",
    "At this point, the interpreter expands “inside-out\", starting\n",
    "      from the deepest operators. In this case, those are `/[1 50]`\n",
    "      and `50`, so it does those:"
   ]
  },
  {
   "cell_type": "markdown",
   "id": "873888ec-cb9d-4eb1-b79a-294bfd3706af",
   "metadata": {},
   "source": [
    "```\n",
    "++=[50 50]\n",
    "```"
   ]
  },
  {
   "cell_type": "markdown",
   "id": "91e6be03",
   "metadata": {},
   "source": [
    "Then it moves to the next-furthest-inside operator: `=`, and\n",
    "      then to the `+` operators:"
   ]
  },
  {
   "cell_type": "markdown",
   "id": "80632919-26e0-4510-96f6-30e687a89b20",
   "metadata": {},
   "source": [
    "```\n",
    "++=[50 50] \n",
    "++(0) \n",
    "+(1) \n",
    "2\n",
    "```"
   ]
  },
  {
   "cell_type": "markdown",
   "id": "f502c126",
   "metadata": {},
   "source": [
    "#### 4.1.1  Summary of Nock Order of Operations\n",
    "\n",
    "On the ﬁrst pass, when we have\n",
    "            Nock code `*(nock-code)`,\n",
    "            we expand left-to-right\n",
    "            into pseudocode.\n",
    "\n",
    "On the second pass, when we’ve fully expanded\n",
    "            pseudocode, we evaluate operators from the\n",
    "            inside-out.\n",
    "\n",
    "### 4.2  `11`, Hints and Side Eﬀects for the Interpreter\n",
    "\n",
    "Opcode `11` lets you compute\n",
    "      side eﬀects and pass information\n",
    "      to Nock’s interpreter, for that interpreter to do what it wants.\n",
    "      The most common uses are things like jets and debugging\n",
    "      prints. In theory, this opcode is fairly dangerous, since it tells\n",
    "      the interpreter that it’s free to do anything.\n",
    "\n",
    "There are two diﬀerent versions of `11`, depending on\n",
    "      whether the head following `11` is an atom or a\n",
    "      cell"
   ]
  },
  {
   "cell_type": "markdown",
   "id": "09d0663c-a11c-4074-ace7-9e24076465bb",
   "metadata": {},
   "source": [
    "```\n",
    "::  head is an atom (b) \n",
    "*[a 11 b c]  *[a c] \n",
    " \n",
    "::  head is a cell ([b c]) \n",
    "*[a 11 [b c] d]     *[[*[a c] *[a d]] 0 3]\n",
    "```"
   ]
  },
  {
   "cell_type": "markdown",
   "id": "a6bd4609",
   "metadata": {},
   "source": [
    "This pseudocode lets `11` handle two\n",
    "      separate use\n",
    "      cases:\n",
    "\n",
    "We just want the interpreter to process a message in\n",
    "            its own language/environment.\n",
    "\n",
    "We want the interpreter to compute some Nock code\n",
    "            with Nock semantics before processing the hint.\n",
    "\n",
    "#### 4.2.1  Option #1: Interpreter Processes a Message\n",
    "\n",
    "Imagine the following Nock:"
   ]
  },
  {
   "cell_type": "code",
   "execution_count": null,
   "id": "06e94946",
   "metadata": {},
   "outputs": [],
   "source": [
    ".*([50 51] [11 369 0 2])"
   ]
  },
  {
   "cell_type": "markdown",
   "id": "3ba26663",
   "metadata": {},
   "source": [
    "This passes the value `369` to\n",
    "      the interpreter, where maybe it\n",
    "      would be the key in a hashmap. The value associated with the\n",
    "      could be the function to debug print the whole operation. Or\n",
    "      the value could be a jet function that speciﬁcally knows how\n",
    "      to compute the `0`\n",
    "      opcode faster when it’s followed by a\n",
    "      `2`.\n",
    "\n",
    "After the interpreter does whatever, it needs to then\n",
    "      discard the value `292.989`, and\n",
    "      computes"
   ]
  },
  {
   "cell_type": "code",
   "execution_count": null,
   "id": "8d95e441",
   "metadata": {},
   "outputs": [],
   "source": [
    ".*([50 51] [0 2]) "
   ]
  },
  {
   "cell_type": "markdown",
   "id": "1c662d1d-6828-4cb2-bc5b-10e46c429843",
   "metadata": {},
   "source": [
    "(In practice, the Nock Jupyter kernel does not support any special side effects from `11` commands.)"
   ]
  },
  {
   "cell_type": "markdown",
   "id": "909bdaeb",
   "metadata": {},
   "source": [
    "#### 4.2.2  Option #2: Run Nock Code and then Process a Message\n",
    "\n",
    "In this case, instead of passing a static value to the interpreter,\n",
    "      we pass it a Nock computation against the subject. The result\n",
    "      of that computation will then be available to the interpreter to\n",
    "      use as a message.\n",
    "\n",
    "#### 4.2.3  Practical Use of `11`: Jet Registration\n",
    "\n",
    "Jet registration in Hoon usually looks like this:"
   ]
  },
  {
   "cell_type": "markdown",
   "id": "b56632f4-3379-4931-aab0-5f4c9f6d4c56",
   "metadata": {},
   "source": [
    "```\n",
    "++  my-function \n",
    "  ~/  %my-function \n",
    "  |=  var=* \n",
    "  ...\n",
    "```"
   ]
  },
  {
   "cell_type": "markdown",
   "id": "59152541",
   "metadata": {},
   "source": [
    "The Hoon rune `~/` fassig uses\n",
    "      Nock `11` to pass\n",
    "      the value\n",
    "      `%my-function` to the interpreter, where it is\n",
    "      associated with\n",
    "      the C code that produces the product of `my-function`.\n",
    "\n",
    "### 4.3  Nock in Hoon\n",
    "\n",
    "In Hoon, you can acquire the Nock code for any function by\n",
    "      using the `!=` zaptis rune. Since this produces\n",
    "      Nock code\n",
    "      complete with gate calls, you may also ﬁnd it helpful to cast a\n",
    "      data type as a noun using `^-  *`,\n",
    "      which will show you the\n",
    "      raw Nock code for that value.\n",
    "\n",
    "As you have seen, you can also evaluate raw Nock using\n",
    "      the `.*` dottar rune, which evaluates to Nock\n",
    "      opcode `2`. Other\n",
    "      Nock runes in Hoon include `.+` dotlus, which is\n",
    "      opcode `4`; `.=`\n",
    "      dottis, which is opcode `5`; and `.?` dotwut, which is opcode `3`.\n",
    "      Fake opcode `12` is\n",
    "      not actually Nock, but is used in a\n",
    "      virtualization context to resolve values that may not be\n",
    "      available in the current subject.\n",
    "\n",
    "## 5  The Core as Design Pattern\n",
    "\n",
    "At this point, you now know everything there is to know\n",
    "      about Nock syntax and basic code manipulation. However, if I\n",
    "      asked you to go write a simple program in Nock, you’d\n",
    "      probably have a hard time getting started. It’s really helpful\n",
    "      to see some examples of how Nock programs are designed and\n",
    "      patterns that tend to recur in them.\n",
    "\n",
    "We can set variables to formulas in the interface. We will\n",
    "      use that in this lesson to make code easy to follow, and\n",
    "      to show how Nock programs are made out of discrete\n",
    "      chunks."
   ]
  },
  {
   "cell_type": "code",
   "execution_count": null,
   "id": "5982b916-7b36-4e33-94ef-e71dbdf74a5b",
   "metadata": {},
   "outputs": [],
   "source": [
    ":increment [4 0 1]"
   ]
  },
  {
   "cell_type": "code",
   "execution_count": null,
   "id": "9e049586",
   "metadata": {},
   "outputs": [],
   "source": [
    ".*(50 increment) "
   ]
  },
  {
   "cell_type": "markdown",
   "id": "2b588c02",
   "metadata": {},
   "source": [
    "### 5.1  Building a Core Manually\n",
    "\n",
    "Every Nock program is just a formula that takes in a subject\n",
    "      (argument). In order to run full programs against a subject,\n",
    "      we follow the following pattern:\n",
    "\n",
    "First pass: set up the dominos inside an opcode like\n",
    "            `2` (or `7`/`8`/`9`). This will\n",
    "            create a core, and evaluate it\n",
    "            on the second pass.\n",
    "\n",
    "Second pass: evaluate that core to get our result.\n",
    "\n",
    "The pseudocode for opcode `2`, this looks like:"
   ]
  },
  {
   "cell_type": "markdown",
   "id": "e4b12408-ec2f-40fa-80a2-0a6f98cd06a7",
   "metadata": {},
   "source": [
    "```\n",
    "*[subject 2 core-formula call-formula]\n",
    "```"
   ]
  },
  {
   "cell_type": "markdown",
   "id": "65dae161",
   "metadata": {},
   "source": [
    "Almost always, however, we’ll use the `9` opcode (which is\n",
    "      sugar on top of `2`) to actually start\n",
    "      our programs running,\n",
    "      since it supports the concept of “cores\" and “arms\" very\n",
    "      naturally. (For those who know Hoon, this “set up a\n",
    "      core and run it” pattern should feel similar to `|^` or\n",
    "      `=>`.)\n",
    "\n",
    "#### 5.1.1  Example: A Simple Increment Gate\n",
    "\n",
    "Let’s take code to increment the subject and turn it into a\n",
    "      Hoon-style gate (a core with one arm and a sample). The code\n",
    "      itself is simple: `[4 0 1]`.\n",
    "\n",
    "Our code expects the subject to be an atom, but Hoon\n",
    "      gates expect their subject to be the gate itself, which has the\n",
    "      form `[battery payload]`.\n",
    "      So we need to adjust our\n",
    "      formula to accept this subject format."
   ]
  },
  {
   "cell_type": "code",
   "execution_count": null,
   "id": "30790161",
   "metadata": {},
   "outputs": [],
   "source": [
    ":inc [7 [0 3] [4 0 1]]"
   ]
  },
  {
   "cell_type": "code",
   "execution_count": null,
   "id": "201003fd-9200-4b53-a998-f77aad342d91",
   "metadata": {},
   "outputs": [],
   "source": [
    ".*([1 74] inc)"
   ]
  },
  {
   "cell_type": "markdown",
   "id": "7693ff11",
   "metadata": {},
   "source": [
    "We put our formula in the head, and put a default\n",
    "      (“bunted”) sample of `0` as the payload."
   ]
  },
  {
   "cell_type": "code",
   "execution_count": null,
   "id": "55494f51-353c-4289-baee-4fce021ba7d8",
   "metadata": {},
   "outputs": [],
   "source": [
    ":incgate [inc 0]"
   ]
  },
  {
   "cell_type": "code",
   "execution_count": null,
   "id": "0eca8942",
   "metadata": {},
   "outputs": [],
   "source": [
    ":show incgate"
   ]
  },
  {
   "cell_type": "markdown",
   "id": "8b4ddb24",
   "metadata": {},
   "source": [
    "Arms are best invoked using the `9` opcode. Here we\n",
    "      use the\n",
    "      “standard\" version of it: `[9 2 0 1]`.\n",
    "      Recall that `9` is\n",
    "      `*[a 9 b c]`,\n",
    "      where `c` is the “new subject\" formula, and\n",
    "      `b`\n",
    "      is the memory slot of that new subject to take an arm\n",
    "      from. Here we use `[0 1]`\n",
    "      to keep our subject (the gate)\n",
    "      unchanged."
   ]
  },
  {
   "cell_type": "code",
   "execution_count": null,
   "id": "0afb5614",
   "metadata": {},
   "outputs": [],
   "source": [
    ".*(incgate [9 2 0 1])"
   ]
  },
  {
   "cell_type": "markdown",
   "id": "cd6f2780",
   "metadata": {},
   "source": [
    "To “pass a parameter\" to our gate, we use the `10`\n",
    "      opcode to edit the subject (the `inc-gate` core)\n",
    "      and\n",
    "      replace the payload with a value. We make our subject\n",
    "      `[inc-gate val-to-increment]`.\n",
    "\n",
    "Notice how opcode `10` can replace the last element of `incgate`; the tail of `incgate` was 0; now it's 36."
   ]
  },
  {
   "cell_type": "code",
   "execution_count": null,
   "id": "b34d7bc1-86d9-4378-b753-f1f2dbcc81df",
   "metadata": {},
   "outputs": [],
   "source": [
    ".*([incgate 36] [10 [3 [0 3]] 0 2])"
   ]
  },
  {
   "cell_type": "markdown",
   "id": "90025e68-14f4-4f48-9d52-dbe6c4172bca",
   "metadata": {},
   "source": [
    "Now use that to set up the subject with a new tail (sample) and call arm in memory slot 2 (our increment formula)."
   ]
  },
  {
   "cell_type": "code",
   "execution_count": null,
   "id": "2b295313-9ff7-4556-86da-eb93a32bb35b",
   "metadata": {},
   "outputs": [],
   "source": [
    ".*([incgate 36] [9 2 10 [3 [0 3]] 0 2])"
   ]
  },
  {
   "cell_type": "code",
   "execution_count": null,
   "id": "bd0546bb-45a2-49a9-829e-2fd022ef32f6",
   "metadata": {},
   "outputs": [],
   "source": [
    ".*([incgate 562] [9 2 10 [3 [0 3]] 0 2])"
   ]
  },
  {
   "cell_type": "markdown",
   "id": "fbf6fbf9",
   "metadata": {},
   "source": [
    "#### 5.1.2  Summary\n",
    "\n",
    "What was the point of this? We took a perfectly good\n",
    "      increment formula that worked on atoms, and made it more\n",
    "      complicated for the same result. Lame!\n",
    "\n",
    "In fact, however, this setup will come in really handy\n",
    "      when we have multiple arms in our core, not just one.\n",
    "      We’ve made it easy to set up a clean environment for\n",
    "      increment to ﬁnd its sample in, no matter what other data is\n",
    "      present. This will come in very handy in our third example\n",
    "      program.\n",
    "\n",
    "First, however, let’s look at putting a more complicated\n",
    "      formula inside a gate. (Hint: the process is the same).\n",
    "\n",
    "#### 5.1.3  Example: A Decrement Gate\n",
    "\n",
    "Here we take a piece of code that decrements the subject when\n",
    "      the subject is an atom, and turn it into a gate. For now, we\n",
    "      will take it as a given that the decrement function given below\n",
    "      works. (The code will crash when the input is a cell or\n",
    "      `0`)"
   ]
  },
  {
   "cell_type": "code",
   "execution_count": null,
   "id": "dac3fd1e-57fe-48d6-a775-2616e9cefef4",
   "metadata": {},
   "outputs": [],
   "source": [
    ":dec [6 [5 [0 1] [1 0]] [0 0] [6 [3 0 1] [0 0] [8 [1 0] 8 [1 6 [5 [0 7] 4 0 6] [0 6] 9 2 [0 2] [4 0 6] 0 7] 9 2 0 1]]]"
   ]
  },
  {
   "cell_type": "code",
   "execution_count": null,
   "id": "58435be7-a1ad-400a-bdd7-aba12468c86f",
   "metadata": {},
   "outputs": [],
   "source": [
    ".*(100 dec)"
   ]
  },
  {
   "cell_type": "markdown",
   "id": "ee58d4e1-b18b-4651-935b-955eff5929e0",
   "metadata": {},
   "source": [
    "Expect crash on non-atom input:"
   ]
  },
  {
   "cell_type": "code",
   "execution_count": null,
   "id": "54c186cb",
   "metadata": {},
   "outputs": [],
   "source": [
    ".*([100 101] dec) "
   ]
  },
  {
   "cell_type": "markdown",
   "id": "1b84914e",
   "metadata": {},
   "source": [
    "Let’s re-jigger the decrement formula to accept the subject\n",
    "      in format `[battery payload]`:"
   ]
  },
  {
   "cell_type": "code",
   "execution_count": null,
   "id": "f4833da5-865f-445c-bac7-344c5c6a1381",
   "metadata": {},
   "outputs": [],
   "source": [
    ":decarm [7 [0 3] dec]"
   ]
  },
  {
   "cell_type": "markdown",
   "id": "1b3a1ac4-b7b3-40d1-998d-4b169af0c00e",
   "metadata": {},
   "source": [
    "Verify that `decarm` decrements the value in the tail:"
   ]
  },
  {
   "cell_type": "code",
   "execution_count": null,
   "id": "9d4a1993-4aee-48e4-a68e-3ee4dc599104",
   "metadata": {},
   "outputs": [],
   "source": [
    ".*([1 88] decarm)"
   ]
  },
  {
   "cell_type": "code",
   "execution_count": null,
   "id": "7f793809-f7f1-4edd-95cb-96e151c0527d",
   "metadata": {},
   "outputs": [],
   "source": [
    ":show decarm"
   ]
  },
  {
   "cell_type": "markdown",
   "id": "388d48de",
   "metadata": {},
   "source": [
    "Next, assemble the core.  All we need to do is add the sample, with default value of 0:"
   ]
  },
  {
   "cell_type": "code",
   "execution_count": null,
   "id": "b1b1cd91-0a30-4093-b47b-99118a2976f7",
   "metadata": {},
   "outputs": [],
   "source": [
    ":decgate [decarm 0]"
   ]
  },
  {
   "cell_type": "code",
   "execution_count": null,
   "id": "ed47a146",
   "metadata": {},
   "outputs": [],
   "source": [
    ":show dec-gate"
   ]
  },
  {
   "cell_type": "markdown",
   "id": "eaeb1631",
   "metadata": {},
   "source": [
    "As in the ﬁrst example, we use the `10` opcode to edit\n",
    "      the\n",
    "      subject (the `dec-gate` core) and replace the\n",
    "      payload with a\n",
    "      value. We make our subject `[dec-gate val-to-decrement]`.\n",
    "\n",
    "Confirm that our `10` code places 36 in the tail:"
   ]
  },
  {
   "cell_type": "code",
   "execution_count": null,
   "id": "b3722a93-d608-4304-94d6-1bba5a79b037",
   "metadata": {},
   "outputs": [],
   "source": [
    ".*([decgate 36] [10 [3 [0 3]] 0 2]) "
   ]
  },
  {
   "cell_type": "markdown",
   "id": "7898264a-c2b6-4ae3-b065-929c69954a3a",
   "metadata": {},
   "source": [
    "Now use that to set up the subject with a new tail (sample) and call the arm in memory slot 2 (our decrement formula):"
   ]
  },
  {
   "cell_type": "code",
   "execution_count": null,
   "id": "8f61b8ca",
   "metadata": {},
   "outputs": [],
   "source": [
    ".*([decgate 36] [9 2 10 [3 [0 3]] 0 2])"
   ]
  },
  {
   "cell_type": "code",
   "execution_count": null,
   "id": "33648c39-5fde-4bf2-8e91-ec910e55ae3a",
   "metadata": {},
   "outputs": [],
   "source": [
    ".*([decgate 562] [9 2 10 [3 [0 3]] 0 2])"
   ]
  },
  {
   "cell_type": "markdown",
   "id": "7e7e0ed3",
   "metadata": {},
   "source": [
    "#### 5.1.4  Example: Comparing Two Numbers\n",
    "\n",
    "In this example we will build a Nock core that compares two\n",
    "      numbers and returns whether they are greater than, less than,\n",
    "      or equal to each other.\n",
    "\n",
    "The program speciﬁcation is to take two numbers `a` and `b`\n",
    "      and return:\n",
    "\n",
    "* `0` if `a==b`.\n",
    "\n",
    "* `1` if `a>b`.\n",
    "\n",
    "* `2` if `a<b`.\n",
    "\n",
    "The trick is that the only mathematical operators we have\n",
    "      for this are the `4` opcode for\n",
    "      increment, `5` for\n",
    "      equals, and a\n",
    "      decrement Nock function that we will supply. The basic\n",
    "      algorithm is:\n",
    "\n",
    "* If `a==b`, return `0`.\n",
    "\n",
    "* If `a==0`, return `2`. (I.e, `a<b`).\n",
    "\n",
    "* If `b==0`, return `1`. (I.e., `a>b`).\n",
    "\n",
    "Recur with `a` and `b` both decremented.\n",
    "\n",
    "The above works because if `a` is\n",
    "      smaller than `b`, it hits 0\n",
    "      ﬁrst. If `b` is smaller than a, it hits `0` ﬁrst. If they are equal, we\n",
    "      never decrement in the ﬁrst place, so there are no issues with\n",
    "      numbers going negative.\n",
    "\n",
    "We will construct a core that has two arms: one arm with\n",
    "      the algorithm logic, and a second arm with the decrement gate\n",
    "      from the second example. These arms will live in the head of\n",
    "      the core (think “battery\").\n",
    "\n",
    "We will put our variables `a` and\n",
    "      `b` in the tail of the core\n",
    "      (think “payload\"). They will be updated before the core is\n",
    "      called each time. (This is similar to a trap or door in\n",
    "      Hoon).\n",
    "\n",
    "The ﬁnal core we will create will have the structure\n",
    "      `[battery payload]`,\n",
    "      which can be broken down as:"
   ]
  },
  {
   "cell_type": "markdown",
   "id": "3f9cb7a9-3eb3-41db-9820-5ae920139f59",
   "metadata": {},
   "source": [
    "```\n",
    "[[main-logic dec-gate] a b]\n",
    "```"
   ]
  },
  {
   "cell_type": "markdown",
   "id": "6868119f",
   "metadata": {},
   "source": [
    "Once the core is set up, we’ll invoke the algorithm\n",
    "      logic arm to set it running. We will build the main logic\n",
    "      “inside-out\", by ﬁrst deﬁning the “recur\" code, and then\n",
    "      inserting it into our if/else tests that implement the algorithm.\n",
    "\n",
    "This recursion logic assumes the decrement gate lives in\n",
    "      the tail of the battery (the battery is the head), i.e. `[0 5]`.\n",
    "      We are using `[10 [3 [0 memory-slot]] 0 5]`\n",
    "      to extract\n",
    "      the decrement gate from our core, and then we invoke it with\n",
    "      `[9 2 ...]`.\n",
    "\n",
    "This is identical to what we did in the second example—the\n",
    "      only diﬀerence is that we now do it twice: once for memory\n",
    "      slot `6` (`a`) and again for memory slot `7` (`b`)."
   ]
  },
  {
   "cell_type": "code",
   "execution_count": null,
   "id": "bef8bbc4-add3-45f8-8e96-30a1fe0295a4",
   "metadata": {},
   "outputs": [],
   "source": [
    ":deca [9 2 10 [3 [0 6]] 0 5]"
   ]
  },
  {
   "cell_type": "code",
   "execution_count": null,
   "id": "c2e611ed-0ebe-4e54-ab84-aac1c6ca6cd1",
   "metadata": {},
   "outputs": [],
   "source": [
    ":decb [9 2 10 [3 [0 7]] 0 5]"
   ]
  },
  {
   "cell_type": "markdown",
   "id": "c01e80b6-b621-4759-a608-c5441e322474",
   "metadata": {},
   "source": [
    "We can test our formulas by making a dummy core (a = 33, b = 77).  The first formula in the battery just returns the current subject."
   ]
  },
  {
   "cell_type": "code",
   "execution_count": null,
   "id": "477e09a9-6be5-4419-85b9-d8151b7c9014",
   "metadata": {},
   "outputs": [],
   "source": [
    ":dummycore [[[0 1] decgate] 33 77]"
   ]
  },
  {
   "cell_type": "code",
   "execution_count": null,
   "id": "949f9e2a-f577-4634-8858-041879671457",
   "metadata": {},
   "outputs": [],
   "source": [
    ".*(dummycore deca)"
   ]
  },
  {
   "cell_type": "code",
   "execution_count": null,
   "id": "ba5298e8-2184-4775-9e44-f9088aef4d24",
   "metadata": {},
   "outputs": [],
   "source": [
    ".*(dummycore decb)"
   ]
  },
  {
   "cell_type": "markdown",
   "id": "1412650f",
   "metadata": {},
   "source": [
    "The recursion formula here operates by invoking its\n",
    "      subject—itself—and applying the `dec-a` and `dec-b` formulas to\n",
    "      it. Then we use opcode `9` for the new\n",
    "      subject’s setup: replace\n",
    "      `payload` with new `a` and `b` run the current core"
   ]
  },
  {
   "cell_type": "code",
   "execution_count": null,
   "id": "cf508f4a-ad0a-4393-94eb-9a3482b462a3",
   "metadata": {},
   "outputs": [],
   "source": [
    ":recur [9 4 [[0 2] deca decb]]"
   ]
  },
  {
   "cell_type": "markdown",
   "id": "a94fdd38-1a7e-4bc3-a73c-3eb9a3c8a48c",
   "metadata": {},
   "source": [
    "Test it---we want to see the same battery, with the payload being replaced with 32 and 76."
   ]
  },
  {
   "cell_type": "code",
   "execution_count": null,
   "id": "43b06a6e-87e2-429b-818d-022e22f38440",
   "metadata": {},
   "outputs": [],
   "source": [
    ".*(dummycore recur)"
   ]
  },
  {
   "cell_type": "markdown",
   "id": "7d31a1e0",
   "metadata": {},
   "source": [
    "The main logic is then:"
   ]
  },
  {
   "cell_type": "code",
   "execution_count": null,
   "id": "c096bd03-f062-479c-baba-cdcd3fa3682d",
   "metadata": {},
   "outputs": [],
   "source": [
    ":mainlogic [6 [5 [0 6] [1 0]] [1 2] [6 [5 [0 7] [1 0]] [1 1] recur]]"
   ]
  },
  {
   "cell_type": "markdown",
   "id": "9f248701-7305-479e-8a9d-4c1f54722ac4",
   "metadata": {},
   "source": [
    "Test (ignoring equality case):\n",
    "\n",
    "$a<b$:"
   ]
  },
  {
   "cell_type": "code",
   "execution_count": null,
   "id": "70d44719-3c7d-4880-8605-8365783bee51",
   "metadata": {},
   "outputs": [],
   "source": [
    ".*([[mainlogic decgate] 9 10] [9 4 0 1])"
   ]
  },
  {
   "cell_type": "markdown",
   "id": "8b870e32-00ed-4de1-8de7-5e9733169162",
   "metadata": {},
   "source": [
    "$a > b$:"
   ]
  },
  {
   "cell_type": "code",
   "execution_count": null,
   "id": "2f15f9b1-ca37-46ce-b87f-ca24a49d1fc4",
   "metadata": {},
   "outputs": [],
   "source": [
    ".*([[mainlogic decgate] 10 9] [9 4 0 1]) "
   ]
  },
  {
   "cell_type": "markdown",
   "id": "51098fb1",
   "metadata": {},
   "source": [
    "We build an outer test for whether `a==b`, and then if it’s\n",
    "      not, we use the `1`\n",
    "      opcode to return the core."
   ]
  },
  {
   "cell_type": "code",
   "execution_count": null,
   "id": "f647e4cc-c085-4ff3-af06-0cf00fa08e01",
   "metadata": {},
   "outputs": [],
   "source": [
    ":battery [mainlogic decgate]"
   ]
  },
  {
   "cell_type": "markdown",
   "id": "848d1a1b-bdef-4591-84e5-619a679438f9",
   "metadata": {},
   "source": [
    "The payload for the core is memory slots 2 and 3 (a and b):"
   ]
  },
  {
   "cell_type": "code",
   "execution_count": null,
   "id": "bd421939-84e4-4be1-86c7-2c9d28f2aeaf",
   "metadata": {},
   "outputs": [],
   "source": [
    ":comparison [6 [5 [0 2] [0 3]] [1 0] [9 4 [[1 battery] [0 2] 0 3]]]"
   ]
  },
  {
   "cell_type": "markdown",
   "id": "3dcdc3e8-fe2a-412c-b32d-abca3cae9f92",
   "metadata": {},
   "source": [
    "Test the three cases:"
   ]
  },
  {
   "cell_type": "code",
   "execution_count": null,
   "id": "dc8a2597-9a1e-4ce5-be31-190c0ea33d6b",
   "metadata": {},
   "outputs": [],
   "source": [
    ".*([0 8] comparison)"
   ]
  },
  {
   "cell_type": "code",
   "execution_count": null,
   "id": "8a91a70f-896e-4f5a-b030-4786cd5244b0",
   "metadata": {},
   "outputs": [],
   "source": [
    ".*([0 0] comparison)"
   ]
  },
  {
   "cell_type": "code",
   "execution_count": null,
   "id": "3ce5ad61-9e4b-43e5-b4d3-a8c1952921f0",
   "metadata": {},
   "outputs": [],
   "source": [
    ".*([8 0] comparison)"
   ]
  },
  {
   "cell_type": "markdown",
   "id": "30187352",
   "metadata": {},
   "source": [
    "We can take this code and use it anywhere that our subject\n",
    "      is a cell of two numbers, and it will “just work\"."
   ]
  },
  {
   "cell_type": "code",
   "execution_count": null,
   "id": "dffdc4e8-c086-40e7-9514-b1d5c8cf054d",
   "metadata": {},
   "outputs": [],
   "source": [
    ":subject [50 51]"
   ]
  },
  {
   "cell_type": "code",
   "execution_count": null,
   "id": "fbe92e28",
   "metadata": {},
   "outputs": [],
   "source": [
    "[6 [5 [0 2] 0 3] [1 0] 9 4 [1 [6 [5 [0 6] 1 0] [1 2] 6 [5 [0 7] 1 0] [1 1] 9 4 [0 2] [9 2 10 [3 0 6] 0 5] 9 2 10 [3 0 7] 0 5] [7 [0 3] 6 [5 [0 1] 1 0] [0 0] 6 [3 0 1] [0 0] 8 [1 0] 8 [1 6 [5 [0 7] 4 0 6] [0 6] 9 2 [0 2] [4 0 6] 0 7] 9 2 0 1] 0] [0 2] 0 3]"
   ]
  },
  {
   "cell_type": "markdown",
   "id": "fea746e8",
   "metadata": {},
   "source": [
    "One common convention used in languages like Hoon is to\n",
    "      denote Nock rules as constants, e.g. `%0`\n",
    "      (corresponding\n",
    "      to our `0`). This\n",
    "      makes it much more straightforward to\n",
    "      interpret hand-rolled Nock code with addresses and constants\n",
    "      present.\n",
    "\n",
    "## 6  Conclusion\n",
    "\n",
    "After this tutorial, you should be prepared to interpret Nock\n",
    "      code when it is produced by Hoon. Although there is only\n",
    "      rarely any call to write Nock code directly, you should now\n",
    "      have a good understanding of how to read and interpret it. As\n",
    "      you write your own interpreters in the future, you may\n",
    "      even have call to hand-roll Nock expressions on occasion."
   ]
  }
 ],
 "metadata": {
  "kernelspec": {
   "display_name": "Nock 4K",
   "language": "nock",
   "name": "nock"
  },
  "language_info": {
   "file_extension": ".nock",
   "mimetype": "text/plain",
   "name": "nock"
  }
 },
 "nbformat": 4,
 "nbformat_minor": 5
}
