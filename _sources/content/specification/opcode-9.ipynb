{
 "cells": [
  {
   "cell_type": "markdown",
   "id": "5394c590",
   "metadata": {},
   "source": [
    "# Opcode 9: Invoke"
   ]
  },
  {
   "cell_type": "markdown",
   "id": "4546b59d",
   "metadata": {},
   "source": []
  }
 ],
 "metadata": {
  "language_info": {
   "name": "python"
  }
 },
 "nbformat": 4,
 "nbformat_minor": 5
}
