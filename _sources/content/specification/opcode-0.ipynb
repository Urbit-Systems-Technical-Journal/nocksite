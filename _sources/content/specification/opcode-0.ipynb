{
 "cells": [
  {
   "cell_type": "markdown",
   "id": "e9a1aada",
   "metadata": {},
   "source": [
    "# Opcode 0: Address\n",
    "\n",
    "The fundamental data structure of Nock is the noun, which is either an atom (a non-negative integer) or a cell (an ordered pair of two nouns).  Nouns can be visualized as [binary trees](https://grokipedia.com/page/Binary_tree), in which atoms are leaves and cells are internal nodes.\n",
    "\n"
   ]
  },
  {
   "cell_type": "markdown",
   "id": "aa48a4fa",
   "metadata": {},
   "source": [
    "{mermaid}\n",
    "graph TD\n",
    "A[\"[1 2]\"]\n",
    "B[\"1\"]\n",
    "C[\"2\"]\n",
    "A --> B\n",
    "A --> C"
   ]
  },
  {
   "cell_type": "markdown",
   "id": "65365e84",
   "metadata": {},
   "source": []
  }
 ],
 "metadata": {
  "language_info": {
   "name": "python"
  }
 },
 "nbformat": 4,
 "nbformat_minor": 5
}
