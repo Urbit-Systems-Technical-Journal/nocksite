{
 "cells": [
  {
   "cell_type": "markdown",
   "metadata": {},
   "source": [
    "# Cellular Automaton Approach"
   ]
  },
  {
   "cell_type": "markdown",
   "metadata": {},
   "source": [
    "A cellular automaton (CA) is a computational model consisting of a grid of cells, each of which can be in one of a finite number of states.  At each discrete time step ($t$), the state of each cell updates according to a set of rules including its current state and the states of its neighbors ($t+1$).\n",
    "\n",
    "Most famously, John Conway introduced the \"Game of Life\" cellular automaton in 1970, which operates on a two-dimensional grid of cells that can be either \"alive\" or \"dead\"."
   ]
  },
  {
   "cell_type": "markdown",
   "metadata": {},
   "source": []
  }
 ],
 "metadata": {
  "kernelspec": {
   "display_name": "Python 3",
   "language": "python",
   "name": "python3"
  },
  "language_info": {
   "codemirror_mode": {
    "name": "ipython",
    "version": 3
   },
   "file_extension": ".py",
   "mimetype": "text/x-python",
   "name": "python",
   "nbconvert_exporter": "python",
   "pygments_lexer": "ipython3",
   "version": "3.8.0"
  }
 },
 "nbformat": 4,
 "nbformat_minor": 4
}
