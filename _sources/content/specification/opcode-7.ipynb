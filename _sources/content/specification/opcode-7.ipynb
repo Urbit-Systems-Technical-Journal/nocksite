{
 "cells": [
  {
   "cell_type": "markdown",
   "id": "fcd58bd7",
   "metadata": {},
   "source": [
    "# Opcode 7: Compose"
   ]
  },
  {
   "cell_type": "markdown",
   "id": "cc5167ad",
   "metadata": {},
   "source": []
  }
 ],
 "metadata": {
  "language_info": {
   "name": "python"
  }
 },
 "nbformat": 4,
 "nbformat_minor": 5
}
