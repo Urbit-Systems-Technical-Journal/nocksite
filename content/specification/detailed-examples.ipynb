{
 "cells": [
  {
   "cell_type": "markdown",
   "metadata": {},
   "source": [
    "# Examples\n",
    "\n",
    "Building Nock expressions from scratch can be a challenge, but it is invaluable to understanding how Nock works in practice.  It also helps you understand why compilers make the decisions they do.\n",
    "\n",
    "## Incrementing a Number\n",
    "\n",
    "Nock provides only one built-in arithmetic operator:  opcode 4, which adds one to a number."
   ]
  },
  {
   "cell_type": "code",
   "execution_count": 1,
   "metadata": {
    "vscode": {
     "languageId": "plaintext"
    }
   },
   "outputs": [
    {
     "name": "stdout",
     "output_type": "stream",
     "text": [
      "Subject set to: 41\n"
     ]
    }
   ],
   "source": [
    ":subject 41"
   ]
  },
  {
   "cell_type": "code",
   "execution_count": 2,
   "metadata": {
    "vscode": {
     "languageId": "plaintext"
    }
   },
   "outputs": [
    {
     "name": "stdout",
     "output_type": "stream",
     "text": [
      "42\n"
     ]
    }
   ],
   "source": [
    "[4 0 1]"
   ]
  },
  {
   "cell_type": "markdown",
   "metadata": {},
   "source": [
    "That means to grab the value in the subject at address 1 (the entire subject) and increment it directly.\n",
    "\n",
    "## Decrementing a Number\n",
    "\n",
    "A decrement operator is more involved.  (The algorithm itself is [a classic problem](https://moronlab.blogspot.com/2010/01/decrement-in-reck.html) in Nock's history.)\n",
    "\n",
    "The high-level idea is that if you only have the ability to increment and check for equality, then you can build a decrement operator by counting up from zero and checking whether adding one to the current number equals the source number.  If it does, then the current number is one less than the source number, thus its decrement.\n",
    "\n",
    "We need a few pieces of Nock code to put this together.  Let's call the source number `a` and the other working variable number `b`.\n",
    "\n",
    "First off, we can pin a constant to start counting from using opcode 1:\n",
    "\n",
    "```nock\n",
    "[1 0]\n",
    "```\n",
    "\n",
    "We can compare the increment of a number `b` to `a` using opcode 5:\n",
    "\n",
    "```nock\n",
    "[5 a [4 b]]\n",
    "```\n",
    "\n",
    "(We ignore for a moment how we get `a` and `b`; they will be parts of the subject retrieved with opcode 0 or supplied as constants with opcode 1.)\n",
    "\n",
    "We need two different paths based on whether the comparison is true or false, mediated by opcode 6.\n",
    "\n",
    "```nock\n",
    "[6 [5 a [4 b]] <true-path> <false-path>]\n",
    "```\n",
    "\n",
    "The `true-path` is easy:  we just return `b`, since we've found the decrement.  The `false-path` is more involved:  we need to increment `b` and try again.  We can do this by recursively calling our decrement operator with the same `a` and the incremented `b`.  How do we invoke our own operator recursively?  We use an opcode 9 with an opcode 10 to alter the subject for the recursive call.\n",
    "\n",
    "Finally, we need the ability to pin new variables such as the starting value `b`.  We'll do this using opcode 8, after which point we can refer to the new variable at address 2.\n",
    "\n",
    "Let's build this piece by piece."
   ]
  },
  {
   "cell_type": "code",
   "execution_count": 4,
   "metadata": {
    "vscode": {
     "languageId": "plaintext"
    }
   },
   "outputs": [
    {
     "name": "stdout",
     "output_type": "stream",
     "text": [
      "Variable 'a' set to: [1 43]\n"
     ]
    }
   ],
   "source": [
    ":a [1 43]"
   ]
  },
  {
   "cell_type": "code",
   "execution_count": 5,
   "metadata": {
    "vscode": {
     "languageId": "plaintext"
    }
   },
   "outputs": [
    {
     "name": "stdout",
     "output_type": "stream",
     "text": [
      "Variable 'b' set to: [1 0]\n"
     ]
    }
   ],
   "source": [
    ":b [1 0]"
   ]
  },
  {
   "cell_type": "code",
   "execution_count": 9,
   "metadata": {
    "vscode": {
     "languageId": "plaintext"
    }
   },
   "outputs": [
    {
     "name": "stdout",
     "output_type": "stream",
     "text": [
      "Variable 'test' set to: [5 [1 43] 4 1 0]\n"
     ]
    }
   ],
   "source": [
    ":test [5 a [4 b]]"
   ]
  },
  {
   "cell_type": "markdown",
   "metadata": {},
   "source": [
    "Check the test case (should return false):"
   ]
  },
  {
   "cell_type": "code",
   "execution_count": 11,
   "metadata": {
    "vscode": {
     "languageId": "plaintext"
    }
   },
   "outputs": [
    {
     "name": "stdout",
     "output_type": "stream",
     "text": [
      "1\n"
     ]
    }
   ],
   "source": [
    "test"
   ]
  },
  {
   "cell_type": "code",
   "execution_count": 13,
   "metadata": {
    "vscode": {
     "languageId": "plaintext"
    }
   },
   "outputs": [
    {
     "name": "stdout",
     "output_type": "stream",
     "text": [
      "test = [5 [1 43] 4 1 0]\n"
     ]
    }
   ],
   "source": [
    ":show test"
   ]
  },
  {
   "cell_type": "markdown",
   "metadata": {},
   "source": [
    "The source constant `a` is hardcoded as 43, but that's okay for now.  We won't be able to work with `b` as a constant, however, so we'll come back to this expression later.\n",
    "\n",
    "The next bit we need is how to edit an atom, where `x` is the address of `b` (rather than its value):\n",
    "\n",
    "```nock\n",
    "[10 [x 4 b] 0 1]\n",
    "```\n",
    "\n",
    "This edits the noun and returns that entire edited noun.  That yields something like this, adjusted against the reference subject:"
   ]
  },
  {
   "cell_type": "code",
   "execution_count": 21,
   "metadata": {
    "vscode": {
     "languageId": "plaintext"
    }
   },
   "outputs": [
    {
     "name": "stdout",
     "output_type": "stream",
     "text": [
      "1\n"
     ]
    }
   ],
   "source": [
    "[10 [1 4 1 0] 0 1]"
   ]
  },
  {
   "cell_type": "markdown",
   "metadata": {
    "vscode": {
     "languageId": "plaintext"
    }
   },
   "source": [
    "Finally, we need to recurse on the edited value:\n",
    "\n",
    "```nock\n",
    "[9 2 10 [x 4 b] 0 1]\n",
    "```\n",
    "\n",
    "If opcode 9 is `*[a 9 b c]`, then here `b` is the memory slot of the new subject formed with `c`, which is the edited noun from above.\n",
    "\n",
    "(We can't demonstrate the opcode 9 in isolation.)\n",
    "\n",
    "Putting it all together, we get the full decrement operator:\n",
    "\n",
    "```nock\n",
    "        [8 [1 6 [5 a [4 2]] 2 [9 2 10 [2 4 2] 0 1]]]\n",
    "[8 [1 0] 8 [1 6 [5 [1 43] 4 0 6] [0 6] 9 2 10 [6 4 0 6] 0 1] 9 2 0 1]\n",
    "```\n",
    "\n",
    "The `[9 2 0 1]` at the tail is the actual evaluation:  from the entire unedited subject, execute the arm at address 2, which is the operator we just built."
   ]
  },
  {
   "cell_type": "code",
   "execution_count": 24,
   "metadata": {
    "vscode": {
     "languageId": "plaintext"
    }
   },
   "outputs": [
    {
     "name": "stdout",
     "output_type": "stream",
     "text": [
      "42\n"
     ]
    }
   ],
   "source": [
    "[8 [1 0] 8 [1 6 [5 [1 43] 4 0 6] [0 6] 9 2 10 [6 4 0 6] 0 1] 9 2 0 1]"
   ]
  },
  {
   "cell_type": "markdown",
   "metadata": {},
   "source": [
    "That works!  It's still too brittle:  the constant `a` is hardcoded, so we want to make it flexible by supplying the sample positionally rather than as a constant.  We can do that by changing how we pin `a` and `b` at the start and referring to the sample at address 6 via `[0 6]`."
   ]
  },
  {
   "cell_type": "code",
   "execution_count": 25,
   "metadata": {
    "vscode": {
     "languageId": "plaintext"
    }
   },
   "outputs": [
    {
     "name": "stdout",
     "output_type": "stream",
     "text": [
      "42\n"
     ]
    }
   ],
   "source": [
    "[8 [1 43] 8 [1 0] 8 [1 6 [5 [0 14] 4 0 6] [0 6] 9 2 10 [6 4 0 6] 0 1] 9 2 0 1]"
   ]
  },
  {
   "cell_type": "markdown",
   "metadata": {},
   "source": [
    "## Detecting Even/Odd Numbers\n",
    "\n",
    "There are a number of “obvious” nearby operators that solve relevant simple problems in arithmetic; one of these is detecting whether a number is even or odd.\n",
    "\n"
   ]
  },
  {
   "cell_type": "code",
   "execution_count": null,
   "metadata": {
    "vscode": {
     "languageId": "plaintext"
    }
   },
   "outputs": [],
   "source": []
  },
  {
   "cell_type": "markdown",
   "metadata": {},
   "source": []
  },
  {
   "cell_type": "code",
   "execution_count": null,
   "metadata": {
    "vscode": {
     "languageId": "plaintext"
    }
   },
   "outputs": [],
   "source": []
  },
  {
   "cell_type": "markdown",
   "metadata": {},
   "source": [
    "```nock\n",
    "[8 [1 0] [8 [1 [6 [5 [0 7] [0 6]] [1 0] [6 [5 [0 7] [4 0 6]] [1 1] [9 2 [[0 2] [4 4 0 6] [0 7]]]]]] [9 2 0 1]]]\n",
    "```"
   ]
  },
  {
   "cell_type": "code",
   "execution_count": null,
   "metadata": {
    "vscode": {
     "languageId": "plaintext"
    }
   },
   "outputs": [
    {
     "name": "stdout",
     "output_type": "stream",
     "text": [
      "1\n"
     ]
    }
   ],
   "source": [
    "[8 [1 0] [8 [1 [6 [5 [0 7] [0 6]] [1 0] [6 [5 [0 7] [4 0 6]] [1 1] [9 2 [[0 2] [4 4 0 6] [0 7]]]]]] [9 2 0 1]]]"
   ]
  },
  {
   "cell_type": "markdown",
   "metadata": {},
   "source": [
    "## Addition and Subtraction"
   ]
  },
  {
   "cell_type": "code",
   "execution_count": null,
   "metadata": {
    "vscode": {
     "languageId": "plaintext"
    }
   },
   "outputs": [],
   "source": []
  },
  {
   "cell_type": "markdown",
   "metadata": {},
   "source": [
    "## Cores\n",
    "\n",
    "The idea of a core is that a collection of constant executable Nock formulas can be bundled with references to each other in a consistent layout, allowing for more complex behavior.  That is, if you know where a function is located in a core, you can call it from another function in the same core by referring to its address.  Thus you can compose arbitrarily complex behavior from a set of simpler formulas.\n",
    "\n",
    "(How to order the functions in a core depends on decisions made by the higher-level language compiler; Hoon, for instance, builds a complex data structure called a `$set` which orders arms by the hash of their names.)\n",
    "\n",
    "Here is an example of a core which has two constants (42 at address 22 and 43 at address 23) and an executable formula or arm at address 10 that increments its sample:\n",
    "\n",
    "```nock\n",
    "[[1 [8 [1 0] [1 4 0 6] 0 1] [1 42] 1 43] 0 1]\n",
    "```\n",
    "\n",
    "Note that with two opcode 1 formula pins, we will need to evaluate the core _twice_ to actually run the target arm.  This is why we distinguish an _arm_ (which requires two evaluations with opcode 9) from a _leg_ (which requires only an opcode 0 lookup).\n",
    "\n",
    "An evaluation of a leg requires pinning the core with opcode 8 then looking up the leg with opcode 0 adjusted for the relative address:"
   ]
  },
  {
   "cell_type": "code",
   "execution_count": null,
   "metadata": {
    "vscode": {
     "languageId": "hoon"
    }
   },
   "outputs": [
    {
     "name": "stdout",
     "output_type": "stream",
     "text": [
      "Subject set to: 43\n"
     ]
    }
   ],
   "source": [
    ":subject 43"
   ]
  },
  {
   "cell_type": "code",
   "execution_count": null,
   "metadata": {
    "vscode": {
     "languageId": "hoon"
    }
   },
   "outputs": [
    {
     "name": "stdout",
     "output_type": "stream",
     "text": [
      "[1 43]\n"
     ]
    }
   ],
   "source": [
    "[8 [1 [8 [1 0] [1 4 0 6] 0 1] [1 43] 1 43] 0 10]"
   ]
  },
  {
   "cell_type": "markdown",
   "metadata": {},
   "source": [
    "The leg is invoked with a pair of opcodes 9 and a composited subject:"
   ]
  },
  {
   "cell_type": "code",
   "execution_count": null,
   "metadata": {
    "vscode": {
     "languageId": "hoon"
    }
   },
   "outputs": [
    {
     "name": "stdout",
     "output_type": "stream",
     "text": [
      "43\n"
     ]
    }
   ],
   "source": [
    "[8 [1 [8 [1 0] [1 4 0 6] 0 1] [1 42] 1 43] 8 [9 4 0 1] 9 2 10 [6 7 [0 3] 9 10 0 1] 0 2]"
   ]
  },
  {
   "cell_type": "markdown",
   "metadata": {},
   "source": [
    "You can grab the leg without the third opcode 9, but it doesn't evaluate it so you have to grab the tail of the opcode 1 or evaluate it separately as with an opcode 2."
   ]
  },
  {
   "cell_type": "code",
   "execution_count": 41,
   "metadata": {
    "vscode": {
     "languageId": "hoon"
    }
   },
   "outputs": [
    {
     "name": "stdout",
     "output_type": "stream",
     "text": [
      "43\n"
     ]
    }
   ],
   "source": [
    "[8 [1 [8 [1 0] [1 4 0 6] 0 1] [1 42] 1 43] 8 [9 4 0 1] 9 2 10 [6 7 [0 3] 0 21] 0 2]"
   ]
  },
  {
   "cell_type": "markdown",
   "metadata": {},
   "source": [
    "### What's Missing?\n",
    "\n",
    "Nock is mathematically complete, but it doesn't seem to have many affordances that programmers expect from a language.  Nock leaves some pragmatic elements of programming and the computer environment to its evaluator, or runtime environment.\n",
    "\n",
    "- Boolean logic (`AND`, `XOR`, `NOT`, etc.) must be implemented out of Nock primitives rather than being axiomatically supplied as operators.\n",
    "- Side effects (like printing) will be handled by raising special noun patterns to the Nock evaluator.\n",
    "- Memory is entirely handled by the Nock evaluator.\n",
    "- Type systems are not part of Nock itself, but can be layered on top of it.\n",
    "- Evaluation rules are defined, but their implementation is omitted.  You can use a tree-walking interpreter, a bytecode interpreter, or something even more clever to run Nock in practice.  (In fact, you can treat Nock as a spec and not run it at all, as long as you get the same answer!)"
   ]
  },
  {
   "cell_type": "markdown",
   "metadata": {},
   "source": [
    "* How would you implement the Boolean operators in Nock?  (Properly “loobeans”, since `0` is `TRUE` and `1` is `FALSE` in Nock.)"
   ]
  }
 ],
 "metadata": {
  "kernelspec": {
   "display_name": "Nock 4K",
   "language": "nock",
   "name": "nock"
  },
  "language_info": {
   "file_extension": ".nock",
   "mimetype": "text/plain",
   "name": "nock"
  }
 },
 "nbformat": 4,
 "nbformat_minor": 4
}
