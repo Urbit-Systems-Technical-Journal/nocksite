{
 "cells": [
  {
   "cell_type": "markdown",
   "metadata": {},
   "source": [
    "# Alchemy Approach"
   ]
  },
  {
   "cell_type": "markdown",
   "metadata": {},
   "source": [
    "![The processes of alchemy, such as calcination, are defined in terms of transformations.](../../img/Figure-Edingers-association-network-Reprinted-by-permission-of-Open-Court-Publishing.png)\n",
    "\n",
    "The medieval craft of alchemy sought to transmute base metals into noble ones, most famously lead into gold.  The alchemists developed a rich pattern language of operators and transformations\n",
    "\n",
    "For our purposes here, we want to consider the alchemical processes as analogues to computation.  Just as how a working alchemist would apply a sequence of transformations to a material to yield a product, such as rubrification, dissolution, and coagulation, so too can we consider a computational process as a sequence of transformations on data to yield a result.\n",
    "\n",
    "This is not simply a metaphor!  While alchemy as a protoscience was misguided in its goals and methods, the idea that particular operations can be composed to yield results is fundamental to computation.  We do not need to adopt the particular operations defined by later alchemists, but find our own.\n",
    "\n",
    "(Via Leibniz, Wilkins, and others, this tradition did come to distantly influence the development of formal logic and computation theory through Kurt Gödel and friends, but that is a story for another time.)\n",
    "\n",
    "![Ramon Llull produced computational tables in his Ars Magna.](../../img/Ramon_Llull_03.jpg)\n",
    "\n",
    "## Generally Computable Functions\n",
    "\n",
    "Much has been made of \"Turing completeness\" as the yardstick of a computational system.  In general, computer scientists strive to show that a particular system is equivalent in power to a system known to be compatible with Turing machines, such as the lambda calculus or combinatory logic.  The Church-Turing thesis posits that any \"effectively calculable\" function can be computed by a Turing machine, and hence by any Turing-complete system.\n",
    "\n",
    "So what are the minimum requirements for a system to be Turing complete?  It turns out that the requirements are quite minimal (Boolos et al., 2002, \"6.2 Minimization\", pp. 70–71).  A system need only provide the following operations:\n",
    "\n",
    "1. A constant function (including zero).\n",
    "2. An increment (or successor) function.\n",
    "3. A way to access parameters (or variables).\n",
    "4. A way to compose functions (or concatenate programs).\n",
    "5. A way to perform recursion (or looping).\n",
    "\n",
    "Nock provides all of these building blocks in its primitive opcodes 0-5:\n",
    "\n",
    "1. Constant (opcode 1)\n",
    "2. Increment (opcode 4)\n",
    "3. Parameter selection (opcodes 0 and 9 along with opcodes 7 and 8)\n",
    "4. Composition (opcodes 7 and 8)\n",
    "5. Recursion (opcode 0 with, e.g., opcodes 3, 5, and 6)\n",
    "\n",
    "As you can infer from the compound opcodes, operators can be composed to yield more complex operators.\n",
    "\n",
    "In this way, we can read a Nock program as a sequence of alchemy-style transformations on data, heightened by Nock's homoiconicity and self-referentiality.\n",
    "\n",
    "## References\n",
    "\n",
    "- George S. Boolos, John P. Burgess, and Richard C. Jeffrey. 2002. *Computability and Logic*. 4th ed. Cambridge: Cambridge University Press."
   ]
  },
  {
   "cell_type": "markdown",
   "metadata": {},
   "source": []
  }
 ],
 "metadata": {
  "kernelspec": {
   "display_name": "Python 3",
   "language": "python",
   "name": "python3"
  },
  "language_info": {
   "codemirror_mode": {
    "name": "ipython",
    "version": 3
   },
   "file_extension": ".py",
   "mimetype": "text/x-python",
   "name": "python",
   "nbconvert_exporter": "python",
   "pygments_lexer": "ipython3",
   "version": "3.8.0"
  }
 },
 "nbformat": 4,
 "nbformat_minor": 4
}
