{
 "cells": [
  {
   "cell_type": "markdown",
   "id": "2b5fdbd3",
   "metadata": {},
   "source": [
    "# Opcode 1: Constant"
   ]
  },
  {
   "cell_type": "markdown",
   "id": "4e3aaaf3",
   "metadata": {},
   "source": []
  }
 ],
 "metadata": {
  "language_info": {
   "name": "python"
  }
 },
 "nbformat": 4,
 "nbformat_minor": 5
}
