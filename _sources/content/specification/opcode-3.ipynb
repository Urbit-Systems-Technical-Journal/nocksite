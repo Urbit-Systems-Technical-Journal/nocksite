{
 "cells": [
  {
   "cell_type": "markdown",
   "id": "c0f0a25d",
   "metadata": {},
   "source": [
    "# Opcode 3: Cell Check"
   ]
  },
  {
   "cell_type": "markdown",
   "id": "57d9d2d4",
   "metadata": {},
   "source": []
  }
 ],
 "metadata": {
  "language_info": {
   "name": "python"
  }
 },
 "nbformat": 4,
 "nbformat_minor": 5
}
