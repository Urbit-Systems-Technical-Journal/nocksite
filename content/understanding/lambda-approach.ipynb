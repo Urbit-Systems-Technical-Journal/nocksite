{
 "cells": [
  {
   "cell_type": "markdown",
   "metadata": {},
   "source": [
    "# The Lambda Calculus Approach"
   ]
  },
  {
   "cell_type": "markdown",
   "metadata": {},
   "source": [
    "The lambda calculus was developed as a computational notation emphasizing variable binding and function application [0] [1].  It is based on three constructs:\n",
    "\n",
    "1.  Variables, such as $x$, $y$, $z$.\n",
    "2.  Function definitions (abstractions), such as $\\lambda x. E$  (where $E$ is any lambda expression).\n",
    "3.  Function applications, such as $E_1 E_2$  (where $E_1$ and $E_2$ are any lambda expressions).\n",
    "\n",
    "In practice, you can think of the lambda calculus as a programming language with only one keyword, $\\lambda$ [2].\n",
    "\n",
    "- $x$ is a variable.\n",
    "- $\\lambda x.x$ is the identity function, that is, it returns its argument.\n",
    "- $(\\lambda x.x) y$ applies the identity function to $y$.\n",
    "- $\\lambda x. \\lambda y. y;x$ is a function that takes two arguments and returns the second one.\n",
    "\n",
    "The lambda calculus can be used to represent numbers and boolean logic, and ultimately to express any computable function.  In practice, the expressions can become cumbersome, particularly for numbers and arithmetic operations.  For example, Church numerals represent natural numbers as higher-order functions:\n",
    "\n",
    "- 0 is represented as $\\lambda f. \\lambda x. x$.\n",
    "- 1 is represented as $\\lambda f. \\lambda x. f x$.\n",
    "- 2 is represented as $\\lambda f. \\lambda x. f (f x)$.\n",
    "- 3 is represented as $\\lambda f. \\lambda x. f (f (f x)))$.\n",
    "- and so forth.\n",
    "\n",
    "This program calculates the addition of two Church numerals using the lambda calculus:\n",
    "\n",
    "$$\n",
    "\\text{add} ≡ λm.λn.λs.λz.ms(nsz)\n",
    "$$\n",
    "\n",
    "Ultimately, any lambda expression can be converted to an SKI combinator expression [1] (and thence also to Nock).  (Generally, a combinator in the $\\lambda\\text{C}$ is a function with no free variables, such as $\\lambda x.\\lambda y. (x y)$.)  Thence, per standard transformations and equivalencies among combinators, the expression can be further converted to an expression in any combinator system.  The conversion process can be quite verbose; it amounts to replacing the lambda abstractions with combinations of the S, K, and I combinators.\n",
    "\n",
    "For example, the lambda expression\n",
    "\n",
    "$$\n",
    "\\lambda x. \\lambda y. y;x\n",
    "$$\n",
    "\n",
    "can be represented (with some manipulation) as the SKI expression\n",
    "\n",
    "```\n",
    "S(K(S;I))K\n",
    "```\n",
    "\n",
    "- [0]:  [Curry, H. B., Feys, R.  (1958)  *Combinatory Logic*. Amsterdam:  North-Holland.](https://annas-archive.org/md5/8ee3ae578f20200e78b490cad8785de7)\n",
    "- [1]:  [Kiselyov, O.  (2018)  \"$\\lambda$ to SKI, Semantically\"](https://okmij.org/ftp/tagless-final/ski.pdf)\n",
    "- [2]:  [Tunney, J.  (2022)  \"Lambda Calculus in 383 Bytes\"](https://justine.lol/lambda/)"
   ]
  },
  {
   "cell_type": "markdown",
   "metadata": {},
   "source": [
    "## Comparison with Nock\n",
    "\n",
    "The lambda calculus and Nock are both foundational models of computation, and ultimately equivalent programs can be composed in either system.  However, they differ significantly in their approach and structure:\n",
    "\n",
    "- The lambda calculus is centered around function definition and application, using variables and abstractions.  It is a minimalist language that can express any computable function through the use of functions as first-class citizens.\n",
    "- Nock, on the other hand, is a combinatory system that operates on binary trees (nouns) and uses a small set of combinators to manipulate these trees.  It does not have variables or traditional function definitions; instead, it relies on the structure of the data itself to guide computation.\n",
    "\n",
    "In other words, they bring different emphases of computation to the fore."
   ]
  }
 ],
 "metadata": {
  "kernelspec": {
   "display_name": "Python 3",
   "language": "python",
   "name": "python3"
  },
  "language_info": {
   "codemirror_mode": {
    "name": "ipython",
    "version": 3
   },
   "file_extension": ".py",
   "mimetype": "text/x-python",
   "name": "python",
   "nbconvert_exporter": "python",
   "pygments_lexer": "ipython3",
   "version": "3.8.0"
  }
 },
 "nbformat": 4,
 "nbformat_minor": 4
}
