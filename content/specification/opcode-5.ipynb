{
 "cells": [
  {
   "cell_type": "markdown",
   "id": "418eafb0",
   "metadata": {},
   "source": []
  }
 ],
 "metadata": {
  "language_info": {
   "name": "python"
  }
 },
 "nbformat": 4,
 "nbformat_minor": 5
}
