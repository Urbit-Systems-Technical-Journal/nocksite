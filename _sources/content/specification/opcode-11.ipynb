{
 "cells": [
  {
   "cell_type": "markdown",
   "id": "a7793065",
   "metadata": {},
   "source": [
    "# Opcode 11: Hint\n",
    "\n",
    "## Syntax\n",
    "\n",
    "Opcode 11 comes in two forms, the first a “dynamic hint” which involves an evaluation, and the second a “static hint” which simply provides a bare noun as a runtime hint.\n",
    "\n",
    "```nock\n",
    "*[a 11 [b c] d]     *[[*[a c] *[a d]] 0 3]\n",
    "*[a 11 b c]         *[a c]\n",
    "```\n",
    "\n",
    "Note that even if `b` is not retained, the computation of `b` must still be performed, as it could result in a crash itself or other nested side effects.\n",
    "\n",
    "## Explanation\n",
    "\n",
    "Hints are a way to attach metadata to Nock expressions without affecting their evaluation.  They signal to the runtime to produce certain side effects or optimizations, but the hint itself does not change the result of the computation.\n",
    "\n",
    "Hints are intended to queue a particular Nock runtime environment, so the exact hints available may vary across runtimes.\n",
    "\n",
    "* [Hints and Jetting](../hints-jetting/index.md)"
   ]
  },
  {
   "cell_type": "code",
   "execution_count": 1,
   "id": "cdb30b14",
   "metadata": {
    "vscode": {
     "languageId": "plaintext"
    }
   },
   "outputs": [
    {
     "name": "stdout",
     "output_type": "stream",
     "text": [
      "Subject set to: 42\n"
     ]
    }
   ],
   "source": [
    ":subject 42"
   ]
  },
  {
   "cell_type": "code",
   "execution_count": null,
   "id": "d59f29a4",
   "metadata": {
    "vscode": {
     "languageId": "plaintext"
    }
   },
   "outputs": [],
   "source": [
    "[11 %]"
   ]
  }
 ],
 "metadata": {
  "kernelspec": {
   "display_name": "Nock 4K",
   "language": "nock",
   "name": "nock"
  },
  "language_info": {
   "file_extension": ".nock",
   "mimetype": "text/plain",
   "name": "nock"
  }
 },
 "nbformat": 4,
 "nbformat_minor": 5
}
