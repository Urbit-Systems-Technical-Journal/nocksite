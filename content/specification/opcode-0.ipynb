{
 "cells": [
  {
   "cell_type": "markdown",
   "id": "e9a1aada",
   "metadata": {},
   "source": [
    "# Opcode 0: Address"
   ]
  },
  {
   "cell_type": "markdown",
   "id": "aa48a4fa",
   "metadata": {},
   "source": []
  }
 ],
 "metadata": {
  "language_info": {
   "name": "python"
  }
 },
 "nbformat": 4,
 "nbformat_minor": 5
}
