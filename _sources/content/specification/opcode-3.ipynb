{
 "cells": [
  {
   "cell_type": "markdown",
   "id": "c0f0a25d",
   "metadata": {},
   "source": [
    "# Opcode 3: Cell Check\n",
    "\n",
    "\n",
    "One implication of nouns is that an easy way to tell data apart is by their structure:\n",
    "\n",
    "```\n",
    "?[a b]              0\n",
    "?a                  1\n",
    "\n",
    "=[a a]              0\n",
    "=[a b]              1\n",
    "```\n",
    "\n",
    "`?` wut is useful to ask whether a given noun is a cell or an atom.  (Like C's `int main()` return type and error codes, `0` means `TRUE` and `1` means `FALSE`.)\n",
    "\n",
    "`=` tis similarly checks whether two nouns are the same as each other, which means by structure and value.\n"
   ]
  },
  {
   "cell_type": "markdown",
   "id": "57d9d2d4",
   "metadata": {},
   "source": []
  }
 ],
 "metadata": {
  "language_info": {
   "name": "python"
  }
 },
 "nbformat": 4,
 "nbformat_minor": 5
}
