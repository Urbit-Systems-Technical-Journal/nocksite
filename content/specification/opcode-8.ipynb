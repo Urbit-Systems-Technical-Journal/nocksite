{
 "cells": [
  {
   "cell_type": "markdown",
   "id": "37c28978",
   "metadata": {},
   "source": [
    "# Opcode 8: Extend"
   ]
  },
  {
   "cell_type": "markdown",
   "id": "914bad93",
   "metadata": {},
   "source": []
  }
 ],
 "metadata": {
  "language_info": {
   "name": "python"
  }
 },
 "nbformat": 4,
 "nbformat_minor": 5
}
