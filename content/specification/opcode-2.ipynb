{
 "cells": [
  {
   "cell_type": "markdown",
   "id": "7fb77680",
   "metadata": {},
   "source": [
    "# Opcode 2: Evaluate"
   ]
  },
  {
   "cell_type": "markdown",
   "id": "d4ab8915",
   "metadata": {},
   "source": []
  }
 ],
 "metadata": {
  "language_info": {
   "name": "python"
  }
 },
 "nbformat": 4,
 "nbformat_minor": 5
}
