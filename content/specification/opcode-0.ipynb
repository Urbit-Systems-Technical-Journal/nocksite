{
 "cells": [
  {
   "cell_type": "markdown",
   "id": "e9a1aada",
   "metadata": {},
   "source": [
    "# Opcode 0: Address\n",
    "\n",
    "## Nouns\n",
    "\n",
    "The fundamental data structure of Nock is the noun, which is either an atom (a non-negative integer) or a cell (an ordered pair of two nouns).  Nouns can be visualized as [binary trees](https://grokipedia.com/page/Binary_tree), in which atoms are leaves and cells are internal nodes.\n",
    "\n",
    "This leads to a convenient addressing scheme for nouns, for which each noun and sub-noun can be assigned a unique address based on its position in the binary tree. The addressing scheme works as follows:\n",
    "\n",
    "```nock\n",
    "/[1 a]              a\n",
    "/[2 a b]            a\n",
    "/[3 a b]            b\n",
    "/[(a + a) b]        /[2 /[a b]]\n",
    "/[(a + a + 1) b]    /[3 /[a b]]\n",
    "/a                  /a\n",
    "```\n",
    "\n",
    "```mermaid\n",
    "%%{init: {'theme':'forest', 'themeVariables': {'defaultLinkColor':'#F5FFF5'}}}%%\n",
    "flowchart TD\n",
    "    A(1) --> B\n",
    "    A(1) --> C\n",
    "    B(2) --> D\n",
    "    B(2) --> E\n",
    "    C(3) --> F\n",
    "    C(3) --> G\n",
    "    D(4) --> H\n",
    "    D(4) --> I\n",
    "    E(5) --> J\n",
    "    E(5) --> K\n",
    "    F(6) --> L\n",
    "    F(6) --> M\n",
    "    G(7) --> N\n",
    "    G(7) --> O\n",
    "    H(8)\n",
    "    I(9)\n",
    "    J(10)\n",
    "    K(11)\n",
    "    L(12)\n",
    "    M(13)\n",
    "    N(14)\n",
    "    O(15)\n",
    "```\n",
    "\n",
    "That is, the left-hand daughter of a cell is addressed by doubling its mother's address, while the right-hand daughter is addressed by doubling its mother's address and adding one. The root of the tree is always at address 1.\n",
    "\n",
    "Of course, that's just an addressing scheme:  it tells you how a noun is laid out, but not which positions are actually occupied.  Let's see some examples.  In these, we will use `⬡` to denote atoms (leaves) and `▢` to denote cells (internal nodes).\n",
    "\n",
    "### `[[41 42] [43 44]]`\n",
    "\n",
    "```mermaid\n",
    "%%{init: {'theme':'forest', 'themeVariables': {'defaultLinkColor':'#F5FFF5'}}}%%\n",
    "flowchart TD\n",
    "    A(1) --> B\n",
    "    A(1) --> C\n",
    "    B(2) --> D\n",
    "    B(2) --> E\n",
    "    C(3) --> F\n",
    "    C(3) --> G\n",
    "    D{{41}}\n",
    "    E{{42}}\n",
    "    F{{43}}\n",
    "    G{{44}}\n",
    "```\n",
    "\n",
    "### `[1 [2 3]]`\n",
    "\n",
    "```mermaid\n",
    "%%{init: {'theme':'forest', 'themeVariables': {'defaultLinkColor':'#F5FFF5'}}}%%\n",
    "flowchart TD\n",
    "    A(1) --> B\n",
    "    A(1) --> C\n",
    "    B{{1}}\n",
    "    C(3) --> D\n",
    "    C(3) --> E\n",
    "    D{{2}}\n",
    "    E{{3}}\n",
    "```\n",
    "\n",
    "We often omit the right-hand cells since cells tend to branch strongly right in practice.\n",
    "\n",
    "```nock\n",
    "[a b c]             [a [b c]]\n",
    "```\n",
    "\n",
    "Thus, `[1 [2 3]]` can be written equivalently as `[1 2 3]`.\n",
    "\n",
    "### `[[1 2] 3]`\n",
    "\n",
    "```mermaid\n",
    "%%{init: {'theme':'forest', 'themeVariables': {'defaultLinkColor':'#F5FFF5'}}}%%\n",
    "flowchart TD\n",
    "    A(1) --> B\n",
    "    A(1) --> C\n",
    "    B(2) --> D\n",
    "    B(2) --> E\n",
    "    C{{3}}\n",
    "    D{{1}}\n",
    "    E{{2}}\n",
    "```\n",
    "\n",
    "## Syntax\n",
    "\n",
    "```nock\n",
    "/[1 a]              a\n",
    "/[2 a b]            a\n",
    "/[3 a b]            b\n",
    "/[(a + a) b]        /[2 /[a b]]\n",
    "/[(a + a + 1) b]    /[3 /[a b]]\n",
    "/a                  /a\n",
    "\n",
    "*[a 0 b]            /[b a]\n",
    "```\n",
    "\n",
    "## Explanation\n",
    "\n",
    "The `/` fas or slot operator describes how to navigate a noun given an address as an atom.  The address is interpreted as a path through the binary tree, starting at the root (address 1).  Each even number indicates a left branch, and each odd number indicates a right branch.  The process continues until the address 1 is reached, at which point the corresponding noun is returned.\n",
    "\n",
    "Most of the time, we expand the tree out to the conceptual binary tree map above rather than recursively apply the `/` fas slot rule.\n",
    "\n",
    "Since there is no address 0, we use `/[0 a]` or `[a 0 0]` to denote a crash.\n",
    "\n",
    "### Binary\n",
    "\n",
    "Addressing becomes particularly easy to read in binary form, in which a 0 bit corresponds to a left branch and a 1 bit corresponds to a right branch.  We ignore the first bit ($1$, the root) and read the path in binary:\n",
    "\n",
    "* $7_{10} = 111_2 \\rightarrow \\text{RRR}$.\n",
    "* $5_{10} = 101_2 \\rightarrow \\text{RLR}$.\n",
    "* $4_{10} = 100_2 \\rightarrow \\text{RLL}$.\n",
    "\n",
    "You will notice other patterns, e.g., that the rightmost child at a particular level is equal to a power of 2 minus 1.\n",
    "\n",
    "## Examples"
   ]
  },
  {
   "cell_type": "markdown",
   "id": "561a8a6c",
   "metadata": {},
   "source": [
    "```mermaid\n",
    "%%{init: {'theme':'forest', 'themeVariables': {'defaultLinkColor':'#F5FFF5'}}}%%\n",
    "flowchart TD\n",
    "    A(1) --> B\n",
    "    A(1) --> C\n",
    "    B(2) --> D{{41}}\n",
    "    B(2) --> E\n",
    "    C(3) --> G{{51}}\n",
    "    C(3) --> H{{52}}\n",
    "    E(5) --> J{{42}}\n",
    "    E(5) --> K\n",
    "    K(11) --> V\n",
    "    K(11) --> W\n",
    "    V(22) --> VV{{43}}\n",
    "    V(22) --> VW{{44}}\n",
    "    W(23) --> WL\n",
    "    W(24) --> WR\n",
    "    WL(46) --> WLL{{45}}\n",
    "    WL(46) --> WLR{{46}}\n",
    "    WR(47) --> WRL\n",
    "    WR(47) --> WRR\n",
    "    WRL(94) --> WRLL{{47}}\n",
    "    WRL(94) --> WRLR{{48}}\n",
    "    WRR(95) --> WRRL{{49}}\n",
    "    WRR(95) --> WRRR{{50}}\n",
    "```"
   ]
  },
  {
   "cell_type": "code",
   "execution_count": 19,
   "id": "ba3c92cc",
   "metadata": {
    "vscode": {
     "languageId": "plaintext"
    }
   },
   "outputs": [
    {
     "name": "stdout",
     "output_type": "stream",
     "text": [
      "Subject set to: [[41 42 [43 44] [45 46] [47 48] 49 50] 51 52]\n"
     ]
    }
   ],
   "source": [
    ":subject [[[41 42 [43 44] [45 46] [47 48] [49 50]]] [51 52]]"
   ]
  },
  {
   "cell_type": "code",
   "execution_count": 20,
   "id": "e719947f",
   "metadata": {
    "vscode": {
     "languageId": "plaintext"
    }
   },
   "outputs": [
    {
     "name": "stdout",
     "output_type": "stream",
     "text": [
      "[41 42 [43 44] [45 46] [47 48] 49 50]\n"
     ]
    }
   ],
   "source": [
    "[0 2]"
   ]
  },
  {
   "cell_type": "code",
   "execution_count": 14,
   "id": "b99e80da",
   "metadata": {
    "vscode": {
     "languageId": "plaintext"
    }
   },
   "outputs": [
    {
     "name": "stdout",
     "output_type": "stream",
     "text": [
      "[51 52]\n"
     ]
    }
   ],
   "source": [
    "[0 3]"
   ]
  },
  {
   "cell_type": "code",
   "execution_count": 15,
   "id": "4218d190",
   "metadata": {
    "vscode": {
     "languageId": "plaintext"
    }
   },
   "outputs": [
    {
     "name": "stdout",
     "output_type": "stream",
     "text": [
      "[[43 44] [45 46] [47 48] 49 50]\n"
     ]
    }
   ],
   "source": [
    "[0 11]"
   ]
  },
  {
   "cell_type": "code",
   "execution_count": 16,
   "id": "f88202fe",
   "metadata": {
    "vscode": {
     "languageId": "plaintext"
    }
   },
   "outputs": [
    {
     "name": "stdout",
     "output_type": "stream",
     "text": [
      "[[47 48] 49 50]\n"
     ]
    }
   ],
   "source": [
    "[0 47]"
   ]
  },
  {
   "cell_type": "code",
   "execution_count": 17,
   "id": "7f402303",
   "metadata": {
    "vscode": {
     "languageId": "plaintext"
    }
   },
   "outputs": [
    {
     "name": "stdout",
     "output_type": "stream",
     "text": [
      "[47 48]\n"
     ]
    }
   ],
   "source": [
    "[0 94]"
   ]
  },
  {
   "cell_type": "code",
   "execution_count": 18,
   "id": "280a31cd",
   "metadata": {
    "vscode": {
     "languageId": "plaintext"
    }
   },
   "outputs": [
    {
     "name": "stdout",
     "output_type": "stream",
     "text": [
      "[49 50]\n"
     ]
    }
   ],
   "source": [
    "[0 95]"
   ]
  },
  {
   "cell_type": "markdown",
   "id": "ebd31687",
   "metadata": {},
   "source": [
    "```mermaid\n",
    "%%{init: {'theme':'forest', 'themeVariables': {'defaultLinkColor':'#F5FFF5'}}}%%\n",
    "flowchart TD\n",
    "    A(1) --> B{{40}}\n",
    "    A(1) --> C\n",
    "    C(3) --> D{{41}}\n",
    "    C(3) --> E\n",
    "    E(7) --> F{{42}}\n",
    "    E(7) --> G\n",
    "    G(15) --> H{{43}}\n",
    "    G(15) --> I\n",
    "    I(31) --> J{{44}}\n",
    "    I(31) --> K\n",
    "    K(63) --> L{{45}}\n",
    "    K(63) --> M\n",
    "    M(127) --> N{{46}}\n",
    "    M(127) --> O\n",
    "    O(255) --> P{{47}}\n",
    "    O(255) --> Q\n",
    "    Q(511) --> R{{48}}\n",
    "    Q(511) --> S\n",
    "    S(1023) --> T{{49}}\n",
    "    S(1023) --> U{{50}}\n",
    "```"
   ]
  },
  {
   "cell_type": "code",
   "execution_count": 8,
   "id": "78848878",
   "metadata": {
    "vscode": {
     "languageId": "plaintext"
    }
   },
   "outputs": [
    {
     "name": "stdout",
     "output_type": "stream",
     "text": [
      "Subject set to: [40 41 42 43 44 45 46 47 48 49 50]\n"
     ]
    }
   ],
   "source": [
    ":subject [40 41 42 43 44 45 46 47 48 49 50]"
   ]
  },
  {
   "cell_type": "code",
   "execution_count": 9,
   "id": "1dde68e6",
   "metadata": {
    "vscode": {
     "languageId": "plaintext"
    }
   },
   "outputs": [
    {
     "name": "stdout",
     "output_type": "stream",
     "text": [
      "40\n"
     ]
    }
   ],
   "source": [
    "[0 2]"
   ]
  },
  {
   "cell_type": "code",
   "execution_count": 10,
   "id": "a3edd64b",
   "metadata": {
    "vscode": {
     "languageId": "plaintext"
    }
   },
   "outputs": [
    {
     "name": "stdout",
     "output_type": "stream",
     "text": [
      "41\n"
     ]
    }
   ],
   "source": [
    "[0 6]"
   ]
  },
  {
   "cell_type": "code",
   "execution_count": 11,
   "id": "b6a8edcd",
   "metadata": {
    "vscode": {
     "languageId": "plaintext"
    }
   },
   "outputs": [
    {
     "name": "stdout",
     "output_type": "stream",
     "text": [
      "50\n"
     ]
    }
   ],
   "source": [
    "[0 2047]"
   ]
  }
 ],
 "metadata": {
  "kernelspec": {
   "display_name": "Nock 4K",
   "language": "nock",
   "name": "nock"
  },
  "language_info": {
   "file_extension": ".nock",
   "mimetype": "text/plain",
   "name": "nock"
  }
 },
 "nbformat": 4,
 "nbformat_minor": 5
}
