{
 "cells": [
  {
   "cell_type": "markdown",
   "id": "2157e94a",
   "metadata": {},
   "source": [
    "# Opcode 6: Conditional"
   ]
  },
  {
   "cell_type": "markdown",
   "id": "f7d9d84c",
   "metadata": {},
   "source": []
  }
 ],
 "metadata": {
  "language_info": {
   "name": "python"
  }
 },
 "nbformat": 4,
 "nbformat_minor": 5
}
