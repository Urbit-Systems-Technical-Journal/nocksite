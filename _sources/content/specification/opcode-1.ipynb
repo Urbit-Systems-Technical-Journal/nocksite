{
 "cells": [
  {
   "cell_type": "markdown",
   "id": "2b5fdbd3",
   "metadata": {},
   "source": [
    "# Opcode 1: Constant\n",
    "\n",
    "## Syntax\n",
    "\n",
    "```nock\n",
    "*[a 1 b]            b\n",
    "```\n",
    "\n",
    "## Explanation\n",
    "\n",
    "In many respects, opcode 1 is the simplest conceivable Nock operation:  it simply returns its argument `b`, ignoring its subject `a` entirely.\n",
    "\n",
    "Opcode 1 is used to store data for use in later computations.  This can either be conventional data as atoms (including byte arrays) and structured data in a cell format; or it can be Nock code itself, which can be retrieved and executed later using [opcode 9](./opcode-9.ipynb)."
   ]
  },
  {
   "cell_type": "code",
   "execution_count": 1,
   "id": "7e89020c",
   "metadata": {
    "vscode": {
     "languageId": "plaintext"
    }
   },
   "outputs": [
    {
     "name": "stdout",
     "output_type": "stream",
     "text": [
      "Subject set to: 42\n"
     ]
    }
   ],
   "source": [
    ":subject 42"
   ]
  },
  {
   "cell_type": "code",
   "execution_count": 2,
   "id": "16dc2dfd",
   "metadata": {
    "vscode": {
     "languageId": "plaintext"
    }
   },
   "outputs": [
    {
     "name": "stdout",
     "output_type": "stream",
     "text": [
      "1000\n"
     ]
    }
   ],
   "source": [
    "[1 1000]"
   ]
  },
  {
   "cell_type": "markdown",
   "id": "8dfc74a8",
   "metadata": {},
   "source": [
    "While you haven't seen the full Nock specification for the other opcodes yet, observe how evaluating a stored noun with opcode 1 results in an executable Nock expression."
   ]
  },
  {
   "cell_type": "code",
   "execution_count": 10,
   "id": "b601af70",
   "metadata": {
    "vscode": {
     "languageId": "plaintext"
    }
   },
   "outputs": [
    {
     "name": "stdout",
     "output_type": "stream",
     "text": [
      "[4 0 1]\n"
     ]
    }
   ],
   "source": [
    "[1 4 0 1]"
   ]
  },
  {
   "cell_type": "markdown",
   "id": "28843243",
   "metadata": {},
   "source": [
    "In this expression, we use opcode 2 to evaluate the noun stored in the subject `[0 1]`, then we retrieve the constant code stored using opcode 1, and finally we execute that code with the result of the first evaluation as its subject.  A bit roundabout, in this case, but it demonstrates how stored code can be executed later."
   ]
  },
  {
   "cell_type": "code",
   "execution_count": 11,
   "id": "5d64cec2",
   "metadata": {
    "vscode": {
     "languageId": "plaintext"
    }
   },
   "outputs": [
    {
     "name": "stdout",
     "output_type": "stream",
     "text": [
      "45\n"
     ]
    }
   ],
   "source": [
    "[2 [0 1] [1 4 4 4 0 1]]"
   ]
  }
 ],
 "metadata": {
  "kernelspec": {
   "display_name": "Nock 4K",
   "language": "nock",
   "name": "nock"
  },
  "language_info": {
   "file_extension": ".nock",
   "mimetype": "text/plain",
   "name": "nock"
  }
 },
 "nbformat": 4,
 "nbformat_minor": 5
}
