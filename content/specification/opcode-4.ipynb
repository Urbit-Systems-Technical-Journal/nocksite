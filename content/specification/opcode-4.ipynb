{
 "cells": [
  {
   "cell_type": "markdown",
   "id": "b27b9458",
   "metadata": {},
   "source": [
    "# Opcode 4: Increment\n",
    "\n",
    "\n",
    "\n",
    "\n",
    "```\n",
    "+[a b]              +[a b]\n",
    "+a                  1 + a\n",
    "```\n",
    "\n",
    "We can increment atoms, but not cells (which makes sense).  Every natural number (atom) has a successor, so there is no possible crash here (as long as our interpreter actually supports arbitrarily sized integers).\n"
   ]
  },
  {
   "cell_type": "code",
   "execution_count": null,
   "id": "350f878a",
   "metadata": {
    "vscode": {
     "languageId": "plaintext"
    }
   },
   "outputs": [],
   "source": []
  },
  {
   "cell_type": "code",
   "execution_count": null,
   "id": "1736439a",
   "metadata": {
    "vscode": {
     "languageId": "plaintext"
    }
   },
   "outputs": [],
   "source": []
  },
  {
   "cell_type": "markdown",
   "id": "91536bd4",
   "metadata": {},
   "source": []
  }
 ],
 "metadata": {
  "language_info": {
   "name": "python"
  }
 },
 "nbformat": 4,
 "nbformat_minor": 5
}
