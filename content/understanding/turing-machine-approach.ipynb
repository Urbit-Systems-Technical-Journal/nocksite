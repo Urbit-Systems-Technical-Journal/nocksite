{
 "cells": [
  {
   "cell_type": "markdown",
   "metadata": {},
   "source": [
    "# Turing Machine Approach"
   ]
  },
  {
   "cell_type": "markdown",
   "metadata": {},
   "source": [
    "The Turing machine\n",
    "\n",
    "\n",
    "(Unlike [the SKI combinator calculus](./combinator-approach.ipynb) and [the lambda calculus](./lambda-approach.ipynb), the Turing machine does not have a single canonical formulation.  Turing's original 1936 example was not as atomic and later contributors discovered simplifications.)\n",
    "\n",
    "## As Interpreter\n",
    "\n",
    "One way to approach Nock is that a Nock expression is like a tape populated with values which signal to the Turing machine head what action it should take next and how it should update the overall system state.  This results in the most primitive Nock interpreter:  the tree-walking interpreter.\n",
    "\n",
    "We have to make some allowances for how to represent the noun laid out on the tape, which can be done by mapping tree slots to serial indices on the tape.  Our first attempt would simply define the set of Turing machine symbols as the natural numbers, and the unwrapping of a noun would look like this:\n",
    "\n",
    "```\n",
    "[[40 50] [60 70]]\n",
    "  1   2   3   4   5   6   7   8   9  10  11   * * *\n",
    "┌───┬───┬───┬───┬───┬───┬───┬───┬───┬───┬───┐\n",
    "│   │   │   │ 40│ 50│ 60│ 70│   │   │   │   │ * * *\n",
    "└───┴───┴───┴───┴───┴───┴───┴───┴───┴───┴───┘\n",
    "```\n",
    "\n",
    "However, a naïve layout at indices is liable to fail since many indices contain cells; at a minimum you would want a placeholder system for cells to indicate that they are occupied.  There is also an \"empty\" value for unoccupied cells.\n",
    "\n",
    "```\n",
    "[[40 50] [60 70]]\n",
    "  1   2   3   4   5   6   7   8   9  10  11   * * *\n",
    "┌───┬───┬───┬───┬───┬───┬───┬───┬───┬───┬───┐\n",
    "│ C │ C │ C │ 40│ 50│ 60│ 70│ _ │ _ │ _ │ _ │ * * *\n",
    "└───┴───┴───┴───┴───┴───┴───┴───┴───┴───┴───┘\n",
    "```\n",
    "\n",
    "Storing an entire noun in each cell wastes much of the ease of a Turing machine layout.  Thus we will adopt a modified noun system which can *structurally* distinguish values; every entry is a pair.  If it is a natural number (atom), we write `[0 value]`.  If it is a cell indicator, it is a pair of numbers with zero and the current index for bookkeeping convenience.  If it is an empty cell, it is a `[0 0]` crash.\n",
    "\n",
    "```\n",
    "[[40 50] [60 70]]\n",
    "\n",
    "┌───────┬───────┬───────┬────┬────┬────┬────┬───────┬───────┐\n",
    "│ [0 1] │ [0 2] │ [0 3] │ 40 │ 50 │ 60 │ 70 │ [0 0] │ [0 0] │\n",
    "└───────┴───────┴───────┴────┴────┴────┴────┴───────┴───────┘\n",
    "```\n",
    "\n"
   ]
  },
  {
   "cell_type": "markdown",
   "metadata": {},
   "source": [
    "blah blah blah\n",
    "\n",
    "What you want to work on here is how to consume tokens by the head\n",
    "\n",
    "Turing machine equivalence is established by the fact that we can build a universal Turing machine in Nock.  Per \\citet*{Hopcroft1979}, p.~148, a universal Turing machine has the following components:\n",
    "\n",
    "\\begin{itemize}\n",
    "  \\item  A finite, non-empty set of tape alphabet symbols, including a blank symbol.\n",
    "  \\item  A finite, non-empty set of states, including a start state and one or more halting states.\n",
    "  \\item  A transition function that, given the current state and the symbol being read, specifies the next state, the symbol to write, and the direction to move (left or right).\n",
    "\\end{itemize}"
   ]
  }
 ],
 "metadata": {
  "kernelspec": {
   "display_name": "Python 3",
   "language": "python",
   "name": "python3"
  },
  "language_info": {
   "codemirror_mode": {
    "name": "ipython",
    "version": 3
   },
   "file_extension": ".py",
   "mimetype": "text/x-python",
   "name": "python",
   "nbconvert_exporter": "python",
   "pygments_lexer": "ipython3",
   "version": "3.8.0"
  }
 },
 "nbformat": 4,
 "nbformat_minor": 4
}
