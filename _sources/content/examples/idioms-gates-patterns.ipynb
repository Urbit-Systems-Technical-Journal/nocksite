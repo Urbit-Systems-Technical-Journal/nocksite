{
 "cells": [
  {
   "cell_type": "markdown",
   "metadata": {},
   "source": [
    "# Idioms, Gates, and Design Patterns"
   ]
  },
  {
   "cell_type": "markdown",
   "metadata": {},
   "source": [
    "When one has spent enough time working with Nock, patterns emerge.  While it's unrealistic to simply sit and read a Nock program at a glance, it is very possible to recognize macroscopic structures that recur.\n",
    "\n",
    "## Gates\n",
    "\n",
    "Opcode 9 is built to recall a stored procedure, modify it in a characteristic way, and then invoke it.  This pattern, called a \"gate\", occurs frequently in Nock programs as the most convenient way to implement a function or a subroutine.\n",
    "\n",
    "Because the gate is intended to be reused, it is stored with an opcode 1 so it can be retrieved and manipulated as a constant noun prior to execution.\n",
    "\n",
    "For instance, this Nock program makes a gate that returns its argument incremented by 1:\n",
    "\n",
    "```\n",
    "[8 [1 0] [1 4 0 6] 0 1]\n",
    "```\n",
    "\n",
    "One way to invoke it with an opcode 9 looks like this:\n",
    "\n",
    "```\n",
    "[7\n",
    "   [8 [1 0] [1 4 0 6] 0 1]\n",
    "   [8 [0 1]\n",
    "      [9 2\n",
    "         10 [6 7 [0 3] 1 5] 0 2]]\n",
    "]\n",
    "```\n",
    "\n",
    "The meat of the pattern lies in the opcode 9 expression, which we may gloss as follows:\n",
    "\n",
    "Retrieve the gate \n",
    "\n",
    "\n",
    "We can expand it using the rules for opcodes 7, 8, and 9 (using `0` as an unused placeholder subject):\n",
    "\n",
    "```\n",
    "*[a 7 b c]          *[*[a b] c]\n",
    "*[a 8 b c]          *[[*[a b] a] c]\n",
    "*[a 9 b c]          *[*[a c] 2 [0 1] 0 b]\n",
    "\n",
    "*[0 7 [8 [1 0] [1 4 0 6] 0 1] [8 [0 1] [9 2 10 [6 7 [0 3] 1 5] 0 2]]] ==\n",
    "*[*[0 [8 [1 0] [1 4 0 6] 0 1]] [8 [0 1] [9 2 10 [6 7 [0 3] 1 5] 0 2]]] ==\n",
    "\n",
    "TODO\n",
    "\n",
    "*[8 [0 1] 9 2 10 [6 7 [0 3] 1 5] 0 2] ==\n",
    "*[*[a 10 [6 7 [0 3] 1 5] 0 2] 2 [0 1] 0 2]\n",
    "```\n",
    "\n",
    "\n",
    "## Cores\n",
    "\n",
    "A gate is a specific instance of a more general pattern called a \"core\".  The purpose of a core is to collect a battery of code (even one gate) intended for reuse.  Compare this code, which features two opcode 8 pins, to the prior increment gate:\n",
    "\n",
    "```\n",
    "[8 [1 8 [1 0]\n",
    "        [1 4 0 6] 0 1]\n",
    "   [8 [9 2 0 1] 9 2 10 [6 7 [0 3] 1 5] 0 2]]\n",
    "```\n",
    "\n",
    "<!--\n",
    "> !=  =>  |%  ++  arm  |=(a=@ +(a))  --  (arm 5)\n",
    "[8 [1 8 [1 0] [1 4 0 6] 0 1] 8 [9 2 0 1] 9 2 10 [6 7 [0 3] 1 5] 0 2]\n",
    "\n",
    "> =>  |%  ++  arm  |=(a=@ +(a))  --  (arm 5)\n",
    "6\n",
    "-->\n",
    "\n",
    "Its standard invocation uses opcode 9 twice:  once to retrieve the core, and once to invoke the target gate.\n",
    "\n",
    "We can in fact distinguish two ways of storing data in a core:  as code, using opcode 8 pins, and as data, using opcode 1 pins.  This one, for instance, stores the number 42 as raw data inside the core:\n",
    "\n",
    "```\n",
    "[8 [1 [1 42] 8 [1 0] [1 4 0 6] 0 1] 8 [9 5 0 1] 9 2 10 [6 7 [0 3] 1 5] 0 2]\n",
    "```\n",
    "\n",
    "<!--\n",
    "> =>  |%  ++  arm  |=(a=@ +(a))  ++  one  42  --  (arm 5)\n",
    "6\n",
    "> !=  =>  |%  ++  arm  |=(a=@ +(a))  ++  one  42  --  (arm 5)\n",
    "[8 [1 [1 42] 8 [1 0] [1 4 0 6] 0 1] 8 [9 5 0 1] 9 2 10 [6 7 [0 3] 1 5] 0 2]\n",
    "> !=  =>  |%  ++  arm  |=(a=@ +(a))  ++  one  42  --  one\n",
    "[8 [1 [1 42] 8 [1 0] [1 4 0 6] 0 1] 9 4 0 1]\n",
    "-->\n",
    "\n",
    "A core is a noun of the form `[battery payload]`, where the battery is a noun that can be used to compute new cores, and the payload is an arbitrary noun.  (It is worth reiterating at this point that Nock has no preference for this structure; it is simply a convention that Nock programmers use to organize their code.)\n",
    "\n",
    "## Gate-Building Gates\n",
    "\n",
    "Besides \n",
    "\n",
    "## Doors\n"
   ]
  },
  {
   "cell_type": "code",
   "execution_count": null,
   "metadata": {
    "vscode": {
     "languageId": "plaintext"
    }
   },
   "outputs": [
    {
     "ename": "",
     "evalue": "",
     "output_type": "error",
     "traceback": [
      "\u001b[1;31mThe kernel failed to start due to the missing module 'nock_kernel'. Consider installing this module.\n",
      "\u001b[1;31mClick <a href='https://aka.ms/kernelFailuresMissingModule'>here</a> for more info."
     ]
    }
   ],
   "source": [
    ":subject 42"
   ]
  },
  {
   "cell_type": "markdown",
   "metadata": {},
   "source": [
    ":subject 54"
   ]
  },
  {
   "cell_type": "markdown",
   "metadata": {},
   "source": []
  }
 ],
 "metadata": {
  "kernelspec": {
   "display_name": "Nock 4K",
   "language": "nock",
   "name": "nock"
  },
  "language_info": {
   "codemirror_mode": {
    "name": "ipython",
    "version": 3
   },
   "file_extension": ".py",
   "mimetype": "text/x-python",
   "name": "nock",
   "nbconvert_exporter": "python",
   "pygments_lexer": "ipython3",
   "version": "3.8.0"
  }
 },
 "nbformat": 4,
 "nbformat_minor": 4
}
