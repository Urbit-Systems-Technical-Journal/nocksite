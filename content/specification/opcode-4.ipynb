{
 "cells": [
  {
   "cell_type": "markdown",
   "id": "b27b9458",
   "metadata": {},
   "source": [
    "# Opcode 4: Increment"
   ]
  },
  {
   "cell_type": "markdown",
   "id": "91536bd4",
   "metadata": {},
   "source": []
  }
 ],
 "metadata": {
  "language_info": {
   "name": "python"
  }
 },
 "nbformat": 4,
 "nbformat_minor": 5
}
