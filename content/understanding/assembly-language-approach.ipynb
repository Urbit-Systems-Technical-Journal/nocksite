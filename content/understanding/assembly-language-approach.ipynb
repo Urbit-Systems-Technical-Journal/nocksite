{
 "cells": [
  {
   "cell_type": "markdown",
   "metadata": {},
   "source": [
    "# The Assembly Language Approach"
   ]
  },
  {
   "cell_type": "markdown",
   "metadata": {},
   "source": [
    "Digital computers run on word-sized streams of bits, which can be broken into commands, values, and memory addresses.  Assembly language is closely related to such machine language, in that it maps one-to-one to control codes, shorthand for memory addresses, and values.   However, assembly language provides affordances like comments and variable names (by size not type).\n",
    "\n",
    "Since assembly language maps to a particular machine code, it is the least portable form of program.  Assembly language is closely tied to its chip architecture and today finds its main applications in specialized hardware drivers or other particular niches.\n",
    "\n",
    "Consider this example of RISC-V assembly language (due to [Stephen Marz](https://marz.utk.edu/my-courses/cosc230/book/example-risc-v-assembly-programs/)):\n",
    "\n",
    "```asm\n",
    "# Determine the length of a C-style string by adding 1 until we find the terminator ‘\\0’.\n",
    ".section .text\n",
    ".global strlen\n",
    "strlen:\n",
    "    # a0 = const char *str\n",
    "    li     t0, 0         # i = 0\n",
    "1: # Start of for loop\n",
    "    add    t1, t0, a0    # Add the byte offset for str[i]\n",
    "    lb     t1, 0(t1)     # Dereference str[i]\n",
    "    beqz   t1, 1f        # if str[i] == 0, break for loop\n",
    "    addi   t0, t0, 1     # Add 1 to our iterator\n",
    "    j      1b            # Jump back to condition (1 backwards)\n",
    "1: # End of for loop\n",
    "    mv     a0, t0        # Move t0 into a0 to return\n",
    "    ret                  # Return back via the return address register\n",
    "```\n",
    "\n",
    "Now, Nock doesn't know about many of the things that are first-class elements of assembly language, like memory utilization or layout.  (Everything is a noun, after all:  a binary tree.)  Nock is also portable, not being tied to any particular machine architecture.  (However, it does insist on a [least-significant byte ordering](https://en.wikipedia.org/wiki/Bit_numbering#Least_significant_byte).)\n",
    "\n",
    "In that sense, Nock is much more like a [bytecode](https://en.wikipedia.org/wiki/Bytecode), a similar concept designed for execution on a software virtual machine.  (In fact, while Nock isn't a bytecode for some technical definition reasons like backtracking, it is currently converted to a bytecode for execution in the Vere interpreter in [`nock.c`](https://github.com/urbit/vere/blob/develop/pkg/noun/nock.c#L398).)\n",
    "\n",
    "Compare Nock's instantiation of the string length program above:\n",
    "\n",
    "```nock\n",
    "[8 [1 0] [1 8 [1 0] 8 [1 6 [5 [1 0] 0 61] [4 0 6] 9 2 10 [30 0 61] 10 [6 4 0 6] 0 1] 9 2 0 1] 0 1]\n",
    "::\n",
    "[8 [1 0]                            :: default input = empty string\n",
    "   [1 8 [1 0]                       :: default counter = zero\n",
    "        8 [1 6 [5 [1 0] 0 61]       :: check for zero in string\n",
    "               [4 0 6]              :: if so, increment counter and return\n",
    "               9 2 10 [30 0 61]     :: otherwise, replace the value with its tail\n",
    "                   10 [6 4 0 6]     :: and increment the counter when you loop again\n",
    "             0 1]                   :: \n",
    "          9 2 0 1]                  :: \n",
    "   0 1]                             :: \n",
    "```\n",
    "\n",
    "The high-level logic bears some commonalities, but the mechanics of the loop and the return are elided in favor of a description.\n",
    "\n",
    "While the assembly program happens to make no reference to values that may already exist in its scope, it certainly could—there's not a subject-style restriction of scope.  The continuation condition of the program (`j`) and the termination condition (`beq`) are both `GOTO` statements which jump in the scope—and could have jumped anywhere.\n",
    "\n",
    "Nock, like assembly language, requires the coder or compiler to take pains to express complex ideas using simple pieces.  Probably the biggest difference between the two, however, is that Nock simply has no idea how its instruction will be instantiated on the metal; it is a specification of equivalent behavior.  This makes Nock feel more declarative (but only a little bit more) than assembly language."
   ]
  }
 ],
 "metadata": {
  "kernelspec": {
   "display_name": "Python 3",
   "language": "python",
   "name": "python3"
  },
  "language_info": {
   "codemirror_mode": {
    "name": "ipython",
    "version": 3
   },
   "file_extension": ".py",
   "mimetype": "text/x-python",
   "name": "python",
   "nbconvert_exporter": "python",
   "pygments_lexer": "ipython3",
   "version": "3.8.0"
  }
 },
 "nbformat": 4,
 "nbformat_minor": 4
}
