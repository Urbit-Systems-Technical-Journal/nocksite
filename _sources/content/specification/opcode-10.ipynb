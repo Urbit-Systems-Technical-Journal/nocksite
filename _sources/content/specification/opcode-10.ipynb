{
 "cells": [
  {
   "cell_type": "markdown",
   "id": "ce0e844c",
   "metadata": {},
   "source": [
    "# Opcode 10: Edit\n",
    "\n",
    "## Syntax\n",
    "\n",
    "Opcode 10 implements the axiomatic `#` hax edit operator, which replaces a noun at a given address within a noun with a new noun evaluated against the same subject.\n",
    "\n",
    "```nock\n",
    "#[1 a b]            a\n",
    "#[(a + a) b c]      #[a [b /[(a + a + 1) c]] c]\n",
    "#[(a + a + 1) b c]  #[a [/[(a + a) c] b] c]\n",
    "#a                  #a\n",
    "\n",
    "*[a 10 [b c] d]     #[b *[a c] *[a d]]\n",
    "```\n",
    "\n",
    "## Explanation\n",
    "\n",
    "Opcode 10 was implemented relatively late in Nock's development (Nock 4K) as an expedient for the Vere runtime's memory management.  Many cells were being produced in memory, and the edit operator allowed for in-place modification of these cells without requiring the allocation of new memory.\n",
    "\n",
    "As ~fodwyt-ragful, one of the chief architects of this change, explained,\n",
    "\n",
    "> It carries the intent better than the equivalent autocons, which can (and does, in Vere’s case) carry into implementation. Vere’s edit operation checks if the target of the edit is 1) \\[in the current memory arena] and 2) has a [refcount](https://en.wikipedia.org/wiki/Reference_counting) of 1, and if so it does the edit in-place – meaning, it mutates the memory rather than consing up a new object.\n",
    "\n",
    "## References\n",
    "\n",
    "* [~niblyx-malnus (2025), “Deriving Nock Opcodes 6–11”, section “Explaining Opcode 10”](https://urbitsystems.tech/ustj/v02-i01/mss1.html#x1-180007)"
   ]
  },
  {
   "cell_type": "code",
   "execution_count": 29,
   "id": "0f9b631b",
   "metadata": {
    "vscode": {
     "languageId": "plaintext"
    }
   },
   "outputs": [
    {
     "name": "stdout",
     "output_type": "stream",
     "text": [
      "Subject set to: [[42 43] 45 46]\n"
     ]
    }
   ],
   "source": [
    ":subject [[42 43] [45 46]]"
   ]
  },
  {
   "cell_type": "code",
   "execution_count": 33,
   "id": "ebf42035",
   "metadata": {
    "vscode": {
     "languageId": "plaintext"
    }
   },
   "outputs": [
    {
     "name": "stdout",
     "output_type": "stream",
     "text": [
      "[[47 48] 45 46]\n"
     ]
    }
   ],
   "source": [
    "[10 [2 1 47 48] 0 1]"
   ]
  }
 ],
 "metadata": {
  "kernelspec": {
   "display_name": "Nock 4K",
   "language": "nock",
   "name": "nock"
  },
  "language_info": {
   "file_extension": ".nock",
   "mimetype": "text/plain",
   "name": "nock"
  }
 },
 "nbformat": 4,
 "nbformat_minor": 5
}
