{
 "cells": [
  {
   "cell_type": "markdown",
   "id": "2157e94a",
   "metadata": {},
   "source": []
  }
 ],
 "metadata": {
  "language_info": {
   "name": "python"
  }
 },
 "nbformat": 4,
 "nbformat_minor": 5
}
