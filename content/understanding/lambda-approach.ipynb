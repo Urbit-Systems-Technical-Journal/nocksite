{
 "cells": [
  {
   "cell_type": "markdown",
   "metadata": {},
   "source": [
    "# The Lambda Calculus Approach"
   ]
  },
  {
   "cell_type": "markdown",
   "metadata": {},
   "source": [
    "The lambda calculus was developed as a computational notation emphasizing variable binding and function application.\n",
    "\n",
    "\n",
    "Ultimately, any lambda expression can be converted to a SKI combinator expression [0] [1].  Thence, per standard transformations and equivalencies among combinators, the expression can be further converted to an expression in any combinator system.  The conversion process can be quite verbose; it amounts to replacing the lambda abstractions with combinations of the S, K, and I combinators.\n",
    "\n",
    "For example, the lambda expression\n",
    "\n",
    "$$\n",
    "\\lambda x. \\lambda y. y;x\n",
    "$$\n",
    "\n",
    "can be represented as the SKI expression\n",
    "\n",
    "```\n",
    "S(K(S;I))K\n",
    "```\n",
    "\n",
    "- [0]:  [Curry, H. B., Feys, R.  (1958)  *Combinatory Logic*. Amsterdam:  North-Holland.](https://annas-archive.org/md5/8ee3ae578f20200e78b490cad8785de7)\n",
    "- [1]:  [Kiselyov, O.  (2018)  \"$\\lambda$ to SKI, Semantically\"](https://okmij.org/ftp/tagless-final/ski.pdf)"
   ]
  },
  {
   "cell_type": "markdown",
   "metadata": {},
   "source": []
  },
  {
   "cell_type": "markdown",
   "metadata": {},
   "source": []
  }
 ],
 "metadata": {
  "kernelspec": {
   "display_name": "Python 3",
   "language": "python",
   "name": "python3"
  },
  "language_info": {
   "codemirror_mode": {
    "name": "ipython",
    "version": 3
   },
   "file_extension": ".py",
   "mimetype": "text/x-python",
   "name": "python",
   "nbconvert_exporter": "python",
   "pygments_lexer": "ipython3",
   "version": "3.8.0"
  }
 },
 "nbformat": 4,
 "nbformat_minor": 4
}
