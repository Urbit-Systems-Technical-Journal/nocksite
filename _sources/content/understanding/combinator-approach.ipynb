{
 "cells": [
  {
   "cell_type": "markdown",
   "metadata": {},
   "source": [
    "# The Combinator Approach"
   ]
  },
  {
   "cell_type": "markdown",
   "metadata": {},
   "source": [
    "[Combinators](https://en.wikipedia.org/wiki/Combinatory_logic) are a foundational approach to mathematical logic.  Expressions are built out of variables like _x_ and _y_; combinators like S and K; and function applications like (S K).  Books like Raymond Smullyan's _To Mock a Mockingbird_ explore the kinds of complex systems that can be built out of combinator calculi.\n",
    "\n",
    "There are several different (compatible) formulations of combinatory logic, such as [SKI](https://en.wikipedia.org/wiki/SKI_combinator_calculus) and [BCKW](https://en.wikipedia.org/wiki/B,_C,_K,_W_system).  Many authors have preferred to work with one of the most parsimonious systems, SKI, and Nock at its heart is SKI dressed up with some machinery to handle nouns.  (Since SKI is a Turing-complete computational system, this demonstrates that Nock is Turing-complete without further ado.)\n",
    "\n",
    "Nock opcodes 2, 1, and 0 correspond to S, K, and I combinators, so let's start there.  We'll look at what the combinators do on their own and then as a part of the Nock system."
   ]
  },
  {
   "cell_type": "markdown",
   "metadata": {},
   "source": [
    "## I Identity Combinator"
   ]
  },
  {
   "cell_type": "markdown",
   "metadata": {},
   "source": [
    "The I combinator simply returns its (single) argument:\n",
    "\n",
    "```\n",
    "I x = x\n",
    "```\n",
    "\n",
    "Iterated applications simply reduce one step at a time:\n",
    "\n",
    "```\n",
    "I I x = I x = x\n",
    "```\n",
    "\n",
    "In Nock, our format is a little different because of how opcodes are set up.  (Think of this like grammar.)  Opcode 0 provides noun addressing, with slot 1 referring to the entire noun.  Thus:\n",
    "\n",
    "```\n",
    "[a 0 1] = a\n",
    "```"
   ]
  },
  {
   "cell_type": "markdown",
   "metadata": {},
   "source": [
    "## K Constant Combinator"
   ]
  },
  {
   "cell_type": "markdown",
   "metadata": {},
   "source": [
    "The K combinator accepts two arguments and discards the second.\n",
    "\n",
    "```\n",
    "K x y = x\n",
    "```\n",
    "\n",
    "Like \n",
    "\n",
    "```\n",
    "K K x y z = K x z = x\n",
    "K K x y = K x = x\n",
    "```\n",
    "\n",
    "The latter case is interesting.  Why does it stop evaluating forward?  There is insufficient information to "
   ]
  },
  {
   "cell_type": "markdown",
   "metadata": {},
   "source": [
    "## S Substitute Combinator"
   ]
  },
  {
   "cell_type": "markdown",
   "metadata": {},
   "source": []
  }
 ],
 "metadata": {
  "kernelspec": {
   "display_name": "Python 3",
   "language": "python",
   "name": "python3"
  },
  "language_info": {
   "codemirror_mode": {
    "name": "ipython",
    "version": 3
   },
   "file_extension": ".py",
   "mimetype": "text/x-python",
   "name": "python",
   "nbconvert_exporter": "python",
   "pygments_lexer": "ipython3",
   "version": "3.8.0"
  }
 },
 "nbformat": 4,
 "nbformat_minor": 4
}
