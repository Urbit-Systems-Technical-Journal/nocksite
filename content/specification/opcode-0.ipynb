{
 "cells": [
  {
   "cell_type": "markdown",
   "id": "e9a1aada",
   "metadata": {},
   "source": []
  }
 ],
 "metadata": {
  "language_info": {
   "name": "python"
  }
 },
 "nbformat": 4,
 "nbformat_minor": 5
}
